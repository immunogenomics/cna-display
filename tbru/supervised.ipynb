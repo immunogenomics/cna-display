{
 "cells": [
  {
   "cell_type": "markdown",
   "metadata": {},
   "source": [
    "# TBRU Supervised Results"
   ]
  },
  {
   "cell_type": "code",
   "execution_count": null,
   "metadata": {},
   "outputs": [],
   "source": [
    "import sys\n",
    "sys.path.append(\"/data/srlab/lrumker/MCSC_Project/cna-display/\")"
   ]
  },
  {
   "cell_type": "code",
   "execution_count": null,
   "metadata": {},
   "outputs": [],
   "source": [
    "import scanpy as sc\n",
    "import numpy as np\n",
    "import pandas as pd\n",
    "import matplotlib.pyplot as plt\n",
    "import scipy.stats as st\n",
    "import cna\n",
    "import pp, pf\n",
    "import pickle\n",
    "plt.style.use('../pp.mplstyle')\n",
    "np.random.seed(0) # for reproducibility"
   ]
  },
  {
   "cell_type": "code",
   "execution_count": null,
   "metadata": {},
   "outputs": [],
   "source": [
    "from scipy import stats"
   ]
  },
  {
   "cell_type": "markdown",
   "metadata": {},
   "source": [
    "# Export NAM PCs for Interpretation"
   ]
  },
  {
   "cell_type": "markdown",
   "metadata": {},
   "source": [
    "### Harmonized 20 CCs"
   ]
  },
  {
   "cell_type": "code",
   "execution_count": null,
   "metadata": {},
   "outputs": [],
   "source": [
    "np.random.seed(0) # for reproducibility"
   ]
  },
  {
   "cell_type": "code",
   "execution_count": null,
   "metadata": {},
   "outputs": [],
   "source": [
    "print('reading')\n",
    "d = cna.read(pf.tbru_h5ad + 'harmcca20.h5ad')\n",
    "d.obs_to_sample(['batch', 'nUMI', 'percent_mito'])"
   ]
  },
  {
   "cell_type": "code",
   "execution_count": null,
   "metadata": {},
   "outputs": [],
   "source": [
    "batches = d.samplem.batch.values"
   ]
  },
  {
   "cell_type": "code",
   "execution_count": null,
   "metadata": {},
   "outputs": [],
   "source": [
    "# Save NAM PCs for Gene Set Analysis\n",
    "res = cna.tl._association.association(d, y = d.samplem.TB_STATUS_CASE.values, \n",
    "                                      batches=batches, \n",
    "                                      covs=d.samplem[['nUMI', 'percent_mito']].values, \n",
    "                                      Nnull=10000,\n",
    "                                     local_test = False)"
   ]
  },
  {
   "cell_type": "code",
   "execution_count": null,
   "metadata": {},
   "outputs": [],
   "source": [
    "dummy_df = pd.DataFrame(d.uns['NAM_nbhdXpc'].iloc[:,0:20])\n",
    "dummy_df.to_csv(\"/data/srlab/lrumker/MCSC_Project/TBRU_dset_extras/TBRU_cna_NAM_PCs.txt\")"
   ]
  },
  {
   "cell_type": "markdown",
   "metadata": {},
   "source": [
    "### Non-Harmonized mRNA"
   ]
  },
  {
   "cell_type": "code",
   "execution_count": null,
   "metadata": {},
   "outputs": [],
   "source": [
    "np.random.seed(0) # for reproducibility"
   ]
  },
  {
   "cell_type": "code",
   "execution_count": null,
   "metadata": {},
   "outputs": [],
   "source": [
    "print('reading')\n",
    "d = cna.read(pf.tbru_h5ad + 'mrna.h5ad')\n",
    "d.obs_to_sample(['batch', 'nUMI', 'percent_mito'])"
   ]
  },
  {
   "cell_type": "code",
   "execution_count": null,
   "metadata": {},
   "outputs": [],
   "source": [
    "batches = d.samplem.batch.values\n",
    "covs = d.samplem[['nUMI', 'percent_mito']].values"
   ]
  },
  {
   "cell_type": "code",
   "execution_count": null,
   "metadata": {},
   "outputs": [],
   "source": [
    "# Save NAM PCs for Gene Set Analysis\n",
    "res = cna.tl._association.association(d, y = d.samplem.TB_STATUS_CASE.values, \n",
    "                                      batches=batches, \n",
    "                                      covs=covs, \n",
    "                                      Nnull=10000,\n",
    "                                     local_test = False)"
   ]
  },
  {
   "cell_type": "code",
   "execution_count": null,
   "metadata": {},
   "outputs": [],
   "source": [
    "dummy_df = pd.DataFrame(d.uns['NAM_nbhdXpc'].iloc[:,0:20])\n",
    "dummy_df.to_csv(\"/data/srlab/lrumker/MCSC_Project/TBRU_dset_extras/TBRU_cna_NAM_PCs_mrna.txt\")"
   ]
  },
  {
   "cell_type": "code",
   "execution_count": null,
   "metadata": {},
   "outputs": [],
   "source": [
    "# NAM PC 2 is positively correlated with male sex\n",
    "np.corrcoef(d.samplem.Sex_M, d.uns['NAM_sampleXpc'].iloc[:,1])"
   ]
  },
  {
   "cell_type": "markdown",
   "metadata": {},
   "source": [
    "# Plot Original Clusters"
   ]
  },
  {
   "cell_type": "code",
   "execution_count": null,
   "metadata": {},
   "outputs": [],
   "source": [
    "palette = plt.get_cmap('tab20').colors"
   ]
  },
  {
   "cell_type": "code",
   "execution_count": null,
   "metadata": {},
   "outputs": [],
   "source": [
    "clust_nums = [25,1,3,0,28,4,5,10,6,12,8,14,17,16,21,9,2,22,11,24,27,18,\n",
    "              7,19,23,26,29,15,13,20,30,31]\n",
    "clust_annotations = ['CD4+ CD38+ICOS+ central', 'CD4+ CD27+', 'CD4+ CCR4+ICOS+ central',\n",
    "                       'CD4+ CD27+ Th17','CD4+ CTLA4+ Treg','CD4+ CCR4+ICOS+','CD4+ central',\n",
    "                       'CD4+ lncRNA','CD4+ Treg','CD4+ CCR4+','CD4+ Th2','CD4+ Th17',\n",
    "                       'CD4+ CXCR3+CCR6+ Th1/Th17','CD4+ CD161+ Th2','CD4+ activated',\n",
    "                       'CD4+ CCR6+CXCR3+ Th1/Th17','CD4+ CD29+CXCR3+ Th1','CD4+ HLA-DR+',\n",
    "                       'CD4+ CD161+ Th1','CD4+ CCR5+CCR6+ Th1/Th17','CD4+ CCR5+ cytotoxic',\n",
    "                       'CD4+ CD161+ cytotoxic','CD4+ cytotoxic','CD4/8+ PD1+TIGIT+',\n",
    "                       'CD8+ central','CD8+ CXCR3+','CD8+ activated','CD8+ GZMK','CD8+ GZMH+',\n",
    "                       'DN/CD8+ gamma delta','DN SOX4+ gamma delta', 'CD4+ BARX1+']\n",
    "cluster_annotations = {clust_nums[i]: clust_annotations[i] for i in range(len(clust_nums))} "
   ]
  },
  {
   "cell_type": "code",
   "execution_count": null,
   "metadata": {},
   "outputs": [],
   "source": [
    "text_xvals = []\n",
    "text_yvals = []\n",
    "text_labels = []\n",
    "for i_cluster in d.obs['aparna2p0'].value_counts().index[0:32]:\n",
    "    text_labels.append(cluster_annotations[i_cluster])\n",
    "    loc_cluster = np.where(d.obs['aparna2p0']==i_cluster)[0]\n",
    "    means = np.mean(d.obsm['X_umap'][loc_cluster,0:2], axis=0)\n",
    "    text_xvals.append(means[0])\n",
    "    text_yvals.append(means[1])"
   ]
  },
  {
   "cell_type": "code",
   "execution_count": null,
   "metadata": {},
   "outputs": [],
   "source": [
    "#create a new figure\n",
    "plt.figure(figsize=(5,5))\n",
    "\n",
    "#loop through labels and plot each cluster\n",
    "cc=0\n",
    "for i_cluster in d.obs['aparna2p0'].value_counts().index[0:32]:\n",
    "    loc_cluster = np.where(d.obs['aparna2p0']==i_cluster)[0]\n",
    "    \n",
    "    #add data points \n",
    "    plt.scatter(x=d.obsm['X_umap'][loc_cluster,0], \n",
    "                y=d.obsm['X_umap'][loc_cluster,1], \n",
    "                color=\"C\"+str(cc), \n",
    "                alpha=1,\n",
    "                s=0.2)\n",
    "    \n",
    "    #add label\n",
    "    plt.annotate(i_cluster, \n",
    "                 np.mean(d.obsm['X_umap'][loc_cluster,0:2], axis=0),\n",
    "                 horizontalalignment='center',\n",
    "                 verticalalignment='center',\n",
    "                 size=8, weight='bold',\n",
    "                 color='white',\n",
    "                 backgroundcolor=\"C\"+str(cc))\n",
    "    cc=cc+1\n",
    "\n",
    "#texts = [plt.text(text_xvals[i], text_yvals[i], text_labels[i], \n",
    "#                      ha='center', va='center', fontsize = 5) for i in np.arange(len(text_labels))]\n",
    "#adjust_text(texts)"
   ]
  },
  {
   "cell_type": "markdown",
   "metadata": {},
   "source": [
    "# Survey for Global Associations"
   ]
  },
  {
   "cell_type": "markdown",
   "metadata": {},
   "source": [
    "### Quality Control to Determine Phenotypes Tested"
   ]
  },
  {
   "cell_type": "code",
   "execution_count": null,
   "metadata": {},
   "outputs": [],
   "source": [
    "# Extract all phenotypes\n",
    "all_covars = d.samplem.columns\n",
    "all_covars = np.array(all_covars)[np.array(['leiden' not in x for x in d.samplem.columns])]\n",
    "all_covars = np.array(all_covars)[np.array(['aparna' not in x for x in all_covars])]\n",
    "all_covars = np.array(all_covars)[np.array([x not in ['batch','C','donor','HH_id', \n",
    "                                                      'identifier', 'nUMI', 'percent_mito'] for x in all_covars])]\n",
    "print(len(all_covars))\n",
    "all_covars"
   ]
  },
  {
   "cell_type": "code",
   "execution_count": null,
   "metadata": {},
   "outputs": [],
   "source": [
    "# Check for excessive missingness\n",
    "nan_variables = np.array(all_covars)[np.array(['nan' in x for x in all_covars])]\n",
    "np.sum(d.samplem[nan_variables], axis = 0)/d.samplem.shape[0]"
   ]
  },
  {
   "cell_type": "code",
   "execution_count": null,
   "metadata": {},
   "outputs": [],
   "source": [
    "# Remove phenotypes with missingness > 10%\n",
    "all_covars = np.array(all_covars)[np.array(['IPT' not in x for x in all_covars])]\n",
    "all_covars"
   ]
  },
  {
   "cell_type": "code",
   "execution_count": null,
   "metadata": {},
   "outputs": [],
   "source": [
    "# Identify variables containing nans\n",
    "np.array(all_covars)[np.array(['nan' in x for x in all_covars])]"
   ]
  },
  {
   "cell_type": "code",
   "execution_count": null,
   "metadata": {},
   "outputs": [],
   "source": [
    "# Add nan values to each phenotype\n",
    "d.samplem['BCG_vaccine_1.0'].loc[(d.samplem['BCG_vaccine_nan']==1).values] = np.nan\n",
    "\n",
    "d.samplem['sesgroup2_low'].loc[(d.samplem['sesgroup2_nan']==1).values] = np.nan\n",
    "d.samplem['sesgroup2_medium'].loc[(d.samplem['sesgroup2_nan']==1).values] = np.nan\n",
    "d.samplem['sesgroup2_high'].loc[(d.samplem['sesgroup2_nan']==1).values] = np.nan\n",
    "\n",
    "d.samplem['smk_status_Heavy'].loc[(d.samplem['smk_status_nan']==1).values] = np.nan\n",
    "d.samplem['smk_status_Light'].loc[(d.samplem['smk_status_nan']==1).values] = np.nan\n",
    "d.samplem['smk_status_Non-Smoker'].loc[(d.samplem['smk_status_nan']==1).values] = np.nan\n",
    "\n",
    "d.samplem['DRK_status_Heavy'].loc[(d.samplem['DRK_status_nan']==1).values] = np.nan\n",
    "d.samplem['DRK_status_Light'].loc[(d.samplem['DRK_status_nan']==1).values] = np.nan\n",
    "d.samplem['DRK_status_Non-Drinker'].loc[(d.samplem['DRK_status_nan']==1).values] = np.nan\n",
    "\n",
    "d.samplem['malnutrition_overweight'].loc[(d.samplem['malnutrition_nan']==1).values] = np.nan\n",
    "d.samplem['malnutrition_normal'].loc[(d.samplem['malnutrition_nan']==1).values] = np.nan\n",
    "d.samplem['malnutrition_underweight'].loc[(d.samplem['malnutrition_nan']==1).values] = np.nan\n",
    "\n",
    "all_covars = np.array(all_covars)[np.array(['nan' not in x for x in all_covars])]\n",
    "all_covars"
   ]
  },
  {
   "cell_type": "code",
   "execution_count": null,
   "metadata": {},
   "outputs": [],
   "source": [
    "# Remove one-hot categorical phenotypes with fewer than 20 cases\n",
    "num_values = [len(np.unique(d.samplem[covar])[~np.isnan(np.unique(d.samplem[covar]))])\\\n",
    "              for covar in all_covars]\n",
    "binary_vars = all_covars[np.array(num_values)==2]\n",
    "counts = np.sum(d.samplem[binary_vars], axis = 0)\n",
    "to_remove = counts.index[counts.values<20] # Also checked for variables with counts.values>(d.N-20); there are none\n",
    "print(to_remove)\n",
    "all_covars = np.array(all_covars)[np.array([x not in to_remove for x in all_covars])]\n",
    "all_covars"
   ]
  },
  {
   "cell_type": "code",
   "execution_count": null,
   "metadata": {},
   "outputs": [],
   "source": [
    "# Remove TB phenotype, since it is examined separately\n",
    "to_remove = ['TB_STATUS_CASE']\n",
    "all_covars = np.array(all_covars)[np.array([x not in to_remove for x in all_covars])]\n",
    "all_covars"
   ]
  },
  {
   "cell_type": "code",
   "execution_count": null,
   "metadata": {},
   "outputs": [],
   "source": [
    "# Heatmap of correlations among phenotypes\n",
    "harvest = np.around(d.samplem[all_covars].corr()**2, 2)# R^2\n",
    "\n",
    "fig, ax = plt.subplots(figsize=(10,7))\n",
    "im = ax.imshow(harvest, cmap = \"viridis\")\n",
    "ax.set_xticks(np.arange(len(all_covars)))\n",
    "ax.set_yticks(np.arange(len(all_covars)))\n",
    "ax.set_xticklabels(all_covars, fontsize = 7)\n",
    "ax.set_yticklabels(all_covars, fontsize = 7)\n",
    "plt.setp(ax.get_xticklabels(), rotation=45, ha=\"right\", rotation_mode=\"anchor\")\n",
    "\n",
    "for i in range(len(all_covars)):\n",
    "    for j in range(len(all_covars)):\n",
    "        if(harvest.iloc[i, j] != 0.0):\n",
    "            text = ax.text(j, i, harvest.iloc[i, j], ha=\"center\", va=\"center\", color=\"w\", fontsize = 5)\n",
    "\n",
    "ax.set_title(\"Correlations among TBRU phenotypes\", fontsize=10)\n",
    "fig.tight_layout()\n",
    "plt.show()"
   ]
  },
  {
   "cell_type": "code",
   "execution_count": null,
   "metadata": {},
   "outputs": [],
   "source": [
    "# Remove one phenotype from each pair correlated > 0.5  \n",
    "to_remove = ['NATad4KR', 'tbru_age', 'BMI', 'sesgroup',\n",
    "             'season_Summer',\n",
    "             'DRK_status_Light', 'malnutrition_overweight']\n",
    "all_covars = np.array(all_covars)[np.array([x not in to_remove for x in all_covars])]\n",
    "all_covars"
   ]
  },
  {
   "cell_type": "code",
   "execution_count": null,
   "metadata": {},
   "outputs": [],
   "source": [
    "# Heatmap of correlations among phenotypes\n",
    "harvest = np.around(d.samplem[all_covars].corr()**2, 2)# R^2\n",
    "\n",
    "fig, ax = plt.subplots(figsize=(10,7))\n",
    "im = ax.imshow(harvest, cmap = \"viridis\")\n",
    "ax.set_xticks(np.arange(len(all_covars)))\n",
    "ax.set_yticks(np.arange(len(all_covars)))\n",
    "ax.set_xticklabels(all_covars, fontsize = 7)\n",
    "ax.set_yticklabels(all_covars, fontsize = 7)\n",
    "plt.setp(ax.get_xticklabels(), rotation=45, ha=\"right\", rotation_mode=\"anchor\")\n",
    "\n",
    "for i in range(len(all_covars)):\n",
    "    for j in range(len(all_covars)):\n",
    "        if(harvest.iloc[i, j] != 0.0):\n",
    "            text = ax.text(j, i, harvest.iloc[i, j], ha=\"center\", va=\"center\", color=\"w\", fontsize = 5)\n",
    "\n",
    "ax.set_title(\"Correlations among TBRU phenotypes\", fontsize=10)\n",
    "fig.tight_layout()\n",
    "plt.show()"
   ]
  },
  {
   "cell_type": "code",
   "execution_count": null,
   "metadata": {},
   "outputs": [],
   "source": [
    "# Remove low-variance covariates with std < 0.1\n",
    "covar_variance = np.std(d.samplem[all_covars],axis=0)\n",
    "covar_variance = covar_variance[np.argsort(covar_variance)]\n",
    "to_remove = covar_variance.index[covar_variance.values<0.1]\n",
    "print(to_remove)\n",
    "all_covars = np.array(all_covars)[np.array([x not in to_remove for x in all_covars])]\n",
    "all_covars"
   ]
  },
  {
   "cell_type": "code",
   "execution_count": null,
   "metadata": {},
   "outputs": [],
   "source": [
    "QCed_phenos = all_covars\n",
    "QCed_phenos"
   ]
  },
  {
   "cell_type": "markdown",
   "metadata": {},
   "source": [
    "## Covariate Selection"
   ]
  },
  {
   "cell_type": "code",
   "execution_count": null,
   "metadata": {},
   "outputs": [],
   "source": [
    "selected_covars = pd.DataFrame(np.full((len(QCed_phenos), len(QCed_phenos)), False))\n",
    "selected_covars.index = QCed_phenos\n",
    "selected_covars.columns = QCed_phenos\n",
    "selected_covars['TB_STATUS_CASE'] = np.repeat(False, selected_covars.shape[0])\n",
    "for row_pheno in selected_covars.index:\n",
    "    for col_pheno in selected_covars.columns:\n",
    "        if row_pheno is not col_pheno:\n",
    "            slope, intercept, r_value, p_value, std_err = stats.linregress(d.samplem[row_pheno].values,\n",
    "                                                                       d.samplem[col_pheno].values)\n",
    "            if p_value<0.05:\n",
    "            #if p_value<(0.05/(len(QCed_phenos)+1)):\n",
    "            #if p_value<(0.05/np.sqrt(len(QCed_phenos)+1)):\n",
    "                i_row = np.where(selected_covars.index==row_pheno)[0][0]\n",
    "                i_col = np.where(selected_covars.columns==col_pheno)[0][0]\n",
    "                if i_row != i_col:\n",
    "                    selected_covars.iloc[i_row,i_col]=True"
   ]
  },
  {
   "cell_type": "code",
   "execution_count": null,
   "metadata": {},
   "outputs": [],
   "source": [
    "#num_nominal = np.sum(selected_covars, axis=1)"
   ]
  },
  {
   "cell_type": "code",
   "execution_count": null,
   "metadata": {},
   "outputs": [],
   "source": [
    "#num_bonf = np.sum(selected_covars, axis=1)"
   ]
  },
  {
   "cell_type": "code",
   "execution_count": null,
   "metadata": {},
   "outputs": [],
   "source": [
    "num_adj = np.sum(selected_covars, axis=1)"
   ]
  },
  {
   "cell_type": "code",
   "execution_count": null,
   "metadata": {},
   "outputs": [],
   "source": [
    "p_nominal = global_ps"
   ]
  },
  {
   "cell_type": "code",
   "execution_count": null,
   "metadata": {},
   "outputs": [],
   "source": [
    "p_bonf = global_ps"
   ]
  },
  {
   "cell_type": "code",
   "execution_count": null,
   "metadata": {},
   "outputs": [],
   "source": [
    "p_adj = global_ps"
   ]
  },
  {
   "cell_type": "code",
   "execution_count": null,
   "metadata": {},
   "outputs": [],
   "source": [
    "import statsmodels.stats.multitest as fdr"
   ]
  },
  {
   "cell_type": "code",
   "execution_count": null,
   "metadata": {},
   "outputs": [],
   "source": [
    "fdr.fdrcorrection(p_nominal)[0]"
   ]
  },
  {
   "cell_type": "code",
   "execution_count": null,
   "metadata": {},
   "outputs": [],
   "source": [
    "pd.DataFrame({ \"Nom: #Covs\": num_nominal, \"Adj: #Covs\": num_adj,\"Bonf: #Covs\": num_bonf, \n",
    "             \"Nom: Sig\": p_nominal<0.05/len(QCed_phenos),\n",
    "              \"Adj: Sig\": p_adj<0.05/len(QCed_phenos),\n",
    "             \"Bonf: Sig\": p_bonf<0.05/len(QCed_phenos),\n",
    "             \"Nom: FDR\": fdr.fdrcorrection(p_nominal)[0],\n",
    "             \"Adj: FDR\": fdr.fdrcorrection(p_adj)[0],\n",
    "             \"Bonf: FDR\": fdr.fdrcorrection(p_bonf)[0] })"
   ]
  },
  {
   "cell_type": "markdown",
   "metadata": {},
   "source": [
    "### Generate Cluster-Based Survey Results"
   ]
  },
  {
   "cell_type": "code",
   "execution_count": null,
   "metadata": {},
   "outputs": [],
   "source": [
    "from methods import methods"
   ]
  },
  {
   "cell_type": "code",
   "execution_count": null,
   "metadata": {},
   "outputs": [],
   "source": [
    "d.obs['aparna2p0_str'] = d.obs['aparna2p0'].astype(str)"
   ]
  },
  {
   "cell_type": "code",
   "execution_count": null,
   "metadata": {
    "scrolled": true
   },
   "outputs": [],
   "source": [
    "masc_globalp = []\n",
    "poscells_masc = np.repeat(0, d.obs.shape[0])\n",
    "negcells_masc = np.repeat(0, d.obs.shape[0])\n",
    "batches = d.samplem.batch.values\n",
    "for i_pheno in np.arange(len(QCed_phenos)):\n",
    "    sel_covars = selected_covars.iloc[i_pheno,:]\n",
    "    covs = d.samplem[sel_covars.index[sel_covars]].values\n",
    "    res = methods._MASC(d, d.samplem[QCed_phenos[i_pheno]].values, batches, d.samplem.C.values, \n",
    "                        covs, # sample-level covariates                                                                                                                                                      \n",
    "                        d.obs[['nUMI', 'percent_mito']].values, # Cell-level covariates\n",
    "                        clustertype='aparna2p0_str')\n",
    "    betas = res[3][0]\n",
    "    clust_ps = res[3][1]\n",
    "    n_clust = len(clust_ps)\n",
    "    posclust = np.where(((clust_ps*n_clust)<0.05)*(betas>0))[0]\n",
    "    negclust = np.where(((clust_ps*n_clust)<0.05)*(betas<0))[0]\n",
    "    poscells = np.repeat(False, d.obs.shape[0])\n",
    "    negcells = np.repeat(False, d.obs.shape[0])\n",
    "    i_poscells = [i for i in np.arange(poscells.shape[0]) if d.obs['aparna2p0'].iloc[i] in posclust]\n",
    "    i_negcells = [i for i in np.arange(negcells.shape[0]) if d.obs['aparna2p0'].iloc[i] in negclust]\n",
    "    poscells[i_poscells] = True\n",
    "    negcells[i_negcells] = True\n",
    "    masc_globalp.append(res[0]) # Global p with correction for num clusters\n",
    "    poscells_masc = np.concatenate((poscells_masc.reshape(i_pheno+1,-1), poscells.reshape(1,-1)), axis = 0)\n",
    "    negcells_masc = np.concatenate((negcells_masc.reshape(i_pheno+1,-1), negcells.reshape(1,-1)), axis = 0)\n",
    "\n",
    "    # Save Results\n",
    "    f = open('masc_globalp.txt','wb')\n",
    "    pickle.dump(masc_globalp, f)\n",
    "\n",
    "    f = open('negcells_masc.txt','wb')\n",
    "    pickle.dump(negcells_masc, f)\n",
    "\n",
    "    f = open('poscells_masc.txt','wb')\n",
    "    pickle.dump(poscells_masc, f)\n",
    "    \n",
    "    print(i_pheno)"
   ]
  },
  {
   "cell_type": "code",
   "execution_count": null,
   "metadata": {},
   "outputs": [],
   "source": [
    "# Load Saved Results\n",
    "f = open('masc_globalp.txt','rb')\n",
    "masc_globalp = pickle.load(f)\n",
    "\n",
    "f = open('negcells_masc.txt','rb')\n",
    "negcells_masc = pickle.load(f)\n",
    "\n",
    "f = open('poscells_masc.txt','rb')\n",
    "poscells_masc = pickle.load(f)\n",
    "\n",
    "poscells_masc = poscells_masc[np.arange(1,poscells_masc.shape[0]),:]\n",
    "negcells_masc = negcells_masc[np.arange(1,negcells_masc.shape[0]),:]"
   ]
  },
  {
   "cell_type": "code",
   "execution_count": null,
   "metadata": {},
   "outputs": [],
   "source": [
    "np.sum(np.array(masc_globalp)<0.05/17)"
   ]
  },
  {
   "cell_type": "code",
   "execution_count": null,
   "metadata": {},
   "outputs": [],
   "source": [
    "QCed_phenos[np.where(np.array(masc_globalp)<0.05/len(QCed_phenos))[0]]"
   ]
  },
  {
   "cell_type": "code",
   "execution_count": null,
   "metadata": {},
   "outputs": [],
   "source": [
    "masc_globalp = np.array(masc_globalp)"
   ]
  },
  {
   "cell_type": "markdown",
   "metadata": {},
   "source": [
    "### Generate CNA Survey of Phenotypes"
   ]
  },
  {
   "cell_type": "code",
   "execution_count": null,
   "metadata": {},
   "outputs": [],
   "source": [
    "np.random.seed(0) # for reproducibility\n",
    "n_phenos = len(QCed_phenos)\n",
    "global_ps = []\n",
    "var_explained = []\n",
    "newly_sig = []\n",
    "nnull_inits = np.repeat(1000,len(QCed_phenos))\n",
    "#i_replace = [i for i in np.arange(len(QCed_phenos)) if QCed_phenos[i] in ['EURad4KR']]\n",
    "#nnull_inits[i_replace] = 100000\n",
    "#i_replace = [i for i in np.arange(len(QCed_phenos)) if \\\n",
    "#             QCed_phenos[i] in ['Sex_M', 'age', 'season_Winter']]\n",
    "#nnull_inits[i_replace] = 1000000\n",
    "covs = d.samplem[['nUMI', 'percent_mito']].values \n",
    "for i_pheno in np.arange(len(QCed_phenos)):\n",
    "    print(str(i_pheno)+\":  \"+QCed_phenos[i_pheno])\n",
    "    sel_covars = selected_covars.iloc[i_pheno,:]\n",
    "    cov_names = np.concatenate((sel_covars.index[sel_covars],['nUMI','percent_mito']))\n",
    "    covs = d.samplem[cov_names].values\n",
    "    y = d.samplem[QCed_phenos[i_pheno]].values\n",
    "    res = cna.tl._association.association(d, y, batches=batches, covs=covs, Nnull=nnull_inits[i_pheno],\n",
    "                                     local_test = False)\n",
    "    global_ps.append(res.p)\n",
    "    var_explained.append(res.r2)\n",
    "\n",
    "global_ps = np.array(global_ps)\n",
    "var_explained = np.array(var_explained)"
   ]
  },
  {
   "cell_type": "code",
   "execution_count": null,
   "metadata": {},
   "outputs": [],
   "source": [
    "# Save Results\n",
    "f = open('global_ps.txt','wb')\n",
    "pickle.dump(global_ps, f)\n",
    "\n",
    "f = open('var_explained.txt','wb')\n",
    "pickle.dump(var_explained, f)"
   ]
  },
  {
   "cell_type": "code",
   "execution_count": null,
   "metadata": {},
   "outputs": [],
   "source": [
    "QCed_phenos[global_ps<0.05]"
   ]
  },
  {
   "cell_type": "code",
   "execution_count": null,
   "metadata": {},
   "outputs": [],
   "source": [
    "global_ps"
   ]
  },
  {
   "cell_type": "code",
   "execution_count": null,
   "metadata": {},
   "outputs": [],
   "source": [
    "# Load Saved Results\n",
    "f = open('global_ps.txt','rb')\n",
    "global_ps= pickle.load(f)\n",
    "\n",
    "f = open('var_explained.txt','rb')\n",
    "var_explained= pickle.load(f)"
   ]
  },
  {
   "cell_type": "code",
   "execution_count": null,
   "metadata": {},
   "outputs": [],
   "source": [
    "n_phenos = len(QCed_phenos)"
   ]
  },
  {
   "cell_type": "code",
   "execution_count": null,
   "metadata": {},
   "outputs": [],
   "source": [
    "i_newly_sig = np.where((global_ps<0.05/n_phenos)*(masc_globalp>0.05/17))[0]"
   ]
  },
  {
   "cell_type": "code",
   "execution_count": null,
   "metadata": {},
   "outputs": [],
   "source": [
    "newly_sig = np.repeat(False, len(QCed_phenos))\n",
    "newly_sig[i_newly_sig]=True"
   ]
  },
  {
   "cell_type": "code",
   "execution_count": null,
   "metadata": {},
   "outputs": [],
   "source": [
    "QCed_phenos[newly_sig]"
   ]
  },
  {
   "cell_type": "code",
   "execution_count": null,
   "metadata": {},
   "outputs": [],
   "source": [
    "globalsig_phenos = QCed_phenos[np.where(np.array(global_ps)<0.05/n_phenos)[0]]\n",
    "globalsig_phenos"
   ]
  },
  {
   "cell_type": "code",
   "execution_count": null,
   "metadata": {},
   "outputs": [],
   "source": [
    "from adjustText import adjust_text"
   ]
  },
  {
   "cell_type": "code",
   "execution_count": null,
   "metadata": {},
   "outputs": [],
   "source": [
    "# Where permutations maxed-out\n",
    "QCed_phenos[np.where(global_ps==np.min(global_ps))[0]]"
   ]
  },
  {
   "cell_type": "code",
   "execution_count": null,
   "metadata": {},
   "outputs": [],
   "source": [
    "n_phenos = len(QCed_phenos)\n",
    "loc_newly_sig = np.where(newly_sig)[0]\n",
    "loc_unchanged = np.where(~np.array(newly_sig))[0]\n",
    "plt.scatter(var_explained[loc_newly_sig], -np.log10(global_ps[loc_newly_sig]),c = \"green\", s = 2)\n",
    "plt.scatter(var_explained[loc_unchanged], -np.log10(global_ps[loc_unchanged]),c = \"navy\", s = 2)\n",
    "plt.axhline(-np.log10(0.05/n_phenos), c = \"black\", linestyle = \"dashed\")\n",
    "plt.annotate(\"Bonferroni Threshold\", (0.3, -np.log10(0.05/n_phenos)+0.1))\n",
    "texts = [plt.text(var_explained[i], -np.log10(global_ps[i]), \n",
    "                  QCed_phenos[i], ha='center', va='center', fontsize = 5) for i in np.arange(len(var_explained))]\n",
    "adjust_text(texts)\n",
    "plt.xlabel(\"Variance Explained\")\n",
    "plt.ylabel(\"-log10(P-value)\")"
   ]
  },
  {
   "cell_type": "code",
   "execution_count": null,
   "metadata": {},
   "outputs": [],
   "source": [
    "plt.scatter(-np.log10(masc_globalp), -np.log10(global_ps),c = \"black\", s = 2)\n",
    "plt.axhline(-np.log10(0.05/n_phenos), c = \"black\", linestyle = \"dashed\")\n",
    "plt.axvline(-np.log10(0.05/n_phenos), c = \"black\", linestyle = \"dashed\")\n",
    "texts = [plt.text(-np.log10(masc_globalp[i]), -np.log10(global_ps[i]), \n",
    "                  QCed_phenos[i], ha='center', va='center', fontsize = 5) for i in np.arange(len(var_explained))]\n",
    "adjust_text(texts)\n",
    "plt.xlabel(\"-log10(P-value) MASC\")\n",
    "plt.ylabel(\"-log10(P-value) CNA\")"
   ]
  },
  {
   "cell_type": "markdown",
   "metadata": {},
   "source": [
    "### Local Association Testing for Globally-Significant Phenotypes"
   ]
  },
  {
   "cell_type": "code",
   "execution_count": null,
   "metadata": {},
   "outputs": [],
   "source": [
    "# Age \n",
    "np.random.seed(0)\n",
    "pheno = \"age\"\n",
    "i_pheno = np.where(QCed_phenos==pheno)[0][0]\n",
    "sel_covars = selected_covars.iloc[i_pheno,:]\n",
    "cov_names = np.concatenate((sel_covars.index[sel_covars],['nUMI','percent_mito']))\n",
    "covs = d.samplem[cov_names].values\n",
    "y = d.samplem[QCed_phenos[i_pheno]].values\n",
    "age_res = cna.tl._association.association(d, y,batches=batches, covs=covs, Nnull=1000)\n",
    "age_res.keptcells = d.uns['keptcells']\n",
    "f = open('age_res.txt','wb')\n",
    "pickle.dump(age_res, f)"
   ]
  },
  {
   "cell_type": "code",
   "execution_count": null,
   "metadata": {},
   "outputs": [],
   "source": [
    "# European ancestry\n",
    "np.random.seed(0)\n",
    "pheno = \"EURad4KR\"\n",
    "i_pheno = np.where(QCed_phenos==pheno)[0][0]\n",
    "sel_covars = selected_covars.iloc[i_pheno,:]\n",
    "cov_names = np.concatenate((sel_covars.index[sel_covars],['nUMI','percent_mito']))\n",
    "covs = d.samplem[cov_names].values\n",
    "y = d.samplem[QCed_phenos[i_pheno]].values\n",
    "ancestry_res = cna.tl._association.association(d, y, batches=batches, covs=covs, Nnull=1000)\n",
    "ancestry_res.keptcells = d.uns['keptcells']\n",
    "f = open('ancestry_res.txt','wb')\n",
    "pickle.dump(ancestry_res, f)"
   ]
  },
  {
   "cell_type": "code",
   "execution_count": null,
   "metadata": {},
   "outputs": [],
   "source": [
    "# Sex set phenotype and covariates to match previous analysis\n",
    "np.random.seed(0)\n",
    "pheno = \"Sex_M\"\n",
    "i_pheno = np.where(QCed_phenos==pheno)[0][0]\n",
    "sel_covars = selected_covars.iloc[i_pheno,:]\n",
    "cov_names = np.concatenate((sel_covars.index[sel_covars],['nUMI','percent_mito']))\n",
    "covs = d.samplem[cov_names].values\n",
    "y = d.samplem[QCed_phenos[i_pheno]].values\n",
    "sex_res = cna.tl._association.association(d, y, batches=batches, covs=covs, Nnull=1000)\n",
    "sex_res.keptcells = d.uns['keptcells']\n",
    "f = open('sex_res.txt','wb')\n",
    "pickle.dump(sex_res, f)"
   ]
  },
  {
   "cell_type": "code",
   "execution_count": null,
   "metadata": {},
   "outputs": [],
   "source": [
    "# Winter season set phenotype and covariates to match previous analysis\n",
    "np.random.seed(0)\n",
    "pheno = \"season_Winter\"\n",
    "i_pheno = np.where(QCed_phenos==pheno)[0][0]\n",
    "sel_covars = selected_covars.iloc[i_pheno,:]\n",
    "cov_names = np.concatenate((sel_covars.index[sel_covars],['nUMI','percent_mito']))\n",
    "covs = d.samplem[cov_names].values\n",
    "y = d.samplem[QCed_phenos[i_pheno]].values\n",
    "winter_res = cna.tl._association.association(d, y, batches=batches, covs=covs, Nnull=1000)\n",
    "winter_res.keptcells = d.uns['keptcells']\n",
    "f = open('winter_res.txt','wb')\n",
    "pickle.dump(winter_res, f)"
   ]
  },
  {
   "cell_type": "code",
   "execution_count": null,
   "metadata": {},
   "outputs": [],
   "source": [
    "# Load Saved Results\n",
    "f = open('age_res.txt','rb')\n",
    "age_res = pickle.load(f)\n",
    "\n",
    "f = open('sex_res.txt','rb')\n",
    "sex_res = pickle.load(f)\n",
    "\n",
    "f = open('ancestry_res.txt','rb')\n",
    "ancestry_res = pickle.load(f)\n",
    "\n",
    "f = open('winter_res.txt','rb')\n",
    "winter_res = pickle.load(f)"
   ]
  },
  {
   "cell_type": "code",
   "execution_count": null,
   "metadata": {},
   "outputs": [],
   "source": [
    "pheno_names = np.array(['Age','Height', 'Weight', 'European Ancestry',\n",
    "       'num_scar', 'BCG_scar', 'BCG_vaccine_1.0',\n",
    "       'Sex', 'edu_cat_belowHighschool', 'sesgroup2_high',\n",
    "       'sesgroup2_low', 'sesgroup2_medium', 'smk_status_Non-Smoker',\n",
    "       'DRK_status_Non-Drinker',\n",
    "       'Malnutrition', 'Spring', 'Winter'])"
   ]
  },
  {
   "cell_type": "code",
   "execution_count": null,
   "metadata": {},
   "outputs": [],
   "source": [
    "CNA_poscells_tot = np.array([np.sum(age_res.ncorrs>age_res.fdr_5p_t),\n",
    "                            np.sum(ancestry_res.ncorrs>ancestry_res.fdr_5p_t),\n",
    "                             np.sum(sex_res.ncorrs>sex_res.fdr_5p_t),\n",
    "                            np.sum(winter_res.ncorrs>winter_res.fdr_5p_t)])\n",
    "\n",
    "CNA_negcells_tot = np.array([np.sum(age_res.ncorrs<-age_res.fdr_5p_t),\n",
    "                            np.sum(ancestry_res.ncorrs<-ancestry_res.fdr_5p_t),\n",
    "                             np.sum(sex_res.ncorrs<-sex_res.fdr_5p_t),\n",
    "                            np.sum(winter_res.ncorrs<-winter_res.fdr_5p_t)])"
   ]
  },
  {
   "cell_type": "code",
   "execution_count": null,
   "metadata": {},
   "outputs": [],
   "source": [
    "# Compute fraction novel and fraction replicated for each phenotype\n",
    "def compare_populations(phenoname, phenolist, masc_res_pos, masc_res_neg, cna_res_obj, i_cna_cells):\n",
    "    i_pheno = np.where(phenolist==phenoname)[0]\n",
    "    masc_pos_pheno = masc_res_pos[i_pheno,:]\n",
    "    masc_neg_pheno = masc_res_neg[i_pheno,:]\n",
    "    \n",
    "    FDR_thresh = cna_res_obj.fdr_5p_t\n",
    "    if phenoname==\"Weight\":\n",
    "        FDR_thresh = cna_res_obj.fdr_10p_t\n",
    "    \n",
    "    cna_poscells = np.repeat(False, masc_neg_pheno.shape[1])\n",
    "    if np.sum(cna_res_obj.ncorrs>FDR_thresh)>0:\n",
    "        i_pos = i_cna_cells[np.where(cna_res_obj.ncorrs>FDR_thresh)[0]]\n",
    "        cna_poscells[i_pos]=True\n",
    "    \n",
    "    cna_negcells = np.repeat(False, masc_neg_pheno.shape[1])\n",
    "    if np.sum(cna_res_obj.ncorrs<-FDR_thresh)>0:\n",
    "        i_neg = i_cna_cells[np.where(cna_res_obj.ncorrs<-FDR_thresh)[0]]\n",
    "        cna_negcells[i_neg]=True\n",
    "    \n",
    "    # Out of all cells found by MASC, what fraction did CNA pick up\n",
    "    intersect = np.sum((masc_pos_pheno*cna_poscells)+(masc_neg_pheno*cna_negcells))\n",
    "    frac_replicated = intersect/np.sum(masc_pos_pheno+masc_neg_pheno)\n",
    "    \n",
    "    # Out of all cells found by CNA, what fraction were not found by MASC\n",
    "    frac_novel = intersect/np.sum(cna_poscells+cna_negcells)\n",
    "    \n",
    "    # Number of PCs in model\n",
    "    npcs_used = cna_res_obj.k\n",
    "    \n",
    "    return (frac_replicated, frac_novel, npcs_used)"
   ]
  },
  {
   "cell_type": "code",
   "execution_count": null,
   "metadata": {},
   "outputs": [],
   "source": [
    "# Compute overlap between populations found by CNA and by Clustering\n",
    "overlap_metrics = np.array([0,0,0]).reshape(1,3)\n",
    "\n",
    "new_metrics = compare_populations(\"age\", QCed_phenos, poscells_masc, negcells_masc, \n",
    "                                  age_res, i_survey_cells)\n",
    "overlap_metrics = np.concatenate((overlap_metrics, np.array(new_metrics).reshape(1,3)), axis = 0)\n",
    "\n",
    "new_metrics = compare_populations(\"EURad4KR\", QCed_phenos, poscells_masc, negcells_masc, \n",
    "                                  ancestry_res, i_survey_cells)\n",
    "overlap_metrics = np.concatenate((overlap_metrics, np.array(new_metrics).reshape(1,3)), axis = 0)\n",
    "\n",
    "new_metrics = compare_populations(\"Sex_M\", QCed_phenos, poscells_masc, negcells_masc, \n",
    "                                  sex_res, i_survey_cells)\n",
    "overlap_metrics = np.concatenate((overlap_metrics, np.array(new_metrics).reshape(1,3)), axis = 0)\n",
    "\n",
    "new_metrics = compare_populations(\"season_Winter\", QCed_phenos, poscells_masc, negcells_masc, \n",
    "                                  winter_res, i_survey_cells)\n",
    "overlap_metrics = np.concatenate((overlap_metrics, np.array(new_metrics).reshape(1,3)), axis = 0)\n",
    "\n",
    "overlap_metrics = overlap_metrics[np.arange(1,overlap_metrics.shape[0]),:]"
   ]
  },
  {
   "cell_type": "code",
   "execution_count": null,
   "metadata": {},
   "outputs": [],
   "source": [
    "i_globalsig_phenos = [i for i in np.arange(len(QCed_phenos)) if QCed_phenos[i] in globalsig_phenos]"
   ]
  },
  {
   "cell_type": "code",
   "execution_count": null,
   "metadata": {},
   "outputs": [],
   "source": [
    "var_explained_print = [np.around(var_explained[i]*100,0).astype(int).astype(str)+\"%\" for i in i_globalsig_phenos]"
   ]
  },
  {
   "cell_type": "code",
   "execution_count": null,
   "metadata": {},
   "outputs": [],
   "source": [
    "CNA_sigglobalp_round = ['{:.1e}'.format(global_ps[i]) for i in i_globalsig_phenos]\n",
    "MASC_sigglobalp_round = ['Not sig.' if newly_sig[i] else '{:.1e}'.format(masc_globalp[i]) for i in i_globalsig_phenos]"
   ]
  },
  {
   "cell_type": "code",
   "execution_count": null,
   "metadata": {},
   "outputs": [],
   "source": [
    "masc_poscells_print = ['NA' if newly_sig[i] else np.sum(poscells_masc[i,:]) for i in i_globalsig_phenos]\n",
    "masc_negcells_print = ['NA' if newly_sig[i] else np.sum(negcells_masc[i,:]) for i in i_globalsig_phenos]"
   ]
  },
  {
   "cell_type": "code",
   "execution_count": null,
   "metadata": {},
   "outputs": [],
   "source": [
    "pct_replicated_print = ['NA' if masc_negcells_print[i]=='NA' else np.around(overlap_metrics[i,0]*100,0).astype(int)\\\n",
    "                        for i in np.arange(overlap_metrics.shape[0])]"
   ]
  },
  {
   "cell_type": "code",
   "execution_count": null,
   "metadata": {},
   "outputs": [],
   "source": [
    "pct_novel_print = ['100' if masc_negcells_print[i]=='NA' else np.around(overlap_metrics[i,1]*100,0).astype(int)\\\n",
    "                        for i in np.arange(overlap_metrics.shape[0])]"
   ]
  },
  {
   "cell_type": "code",
   "execution_count": null,
   "metadata": {},
   "outputs": [],
   "source": [
    "### Make Supplemental Table of Results\n",
    "suptab_df = pd.DataFrame({\"Phenotype\": pheno_names[i_globalsig_phenos],\n",
    "                         \"CNA Global P\": CNA_sigglobalp_round,\n",
    "                         \"Var. Explained\": var_explained_print,\n",
    "                          \"MASC Global P\": MASC_sigglobalp_round,\n",
    "                         \"MASC +Cells\": masc_poscells_print,\n",
    "                         \"MASC -Cells\": masc_negcells_print,\n",
    "                         \"CNA +Cells\": CNA_poscells_tot,\n",
    "                         \"CNA -Cells\": CNA_negcells_tot,\n",
    "                         \"% Replicated\": pct_replicated_print,\n",
    "                         \"% Novel\": pct_novel_print}) \n",
    "\n",
    "suptab = suptab_df.iloc[np.argsort(global_ps[i_globalsig_phenos]),:]\n",
    "suptab = suptab.reset_index(drop = True)"
   ]
  },
  {
   "cell_type": "code",
   "execution_count": null,
   "metadata": {},
   "outputs": [],
   "source": [
    "suptab"
   ]
  },
  {
   "cell_type": "code",
   "execution_count": null,
   "metadata": {},
   "outputs": [],
   "source": [
    "# Average number of NAM PCs used\n",
    "np.around(np.mean(overlap_metrics[:,2]),0).astype(int)"
   ]
  },
  {
   "cell_type": "code",
   "execution_count": null,
   "metadata": {},
   "outputs": [],
   "source": [
    "# Average variance explained\n",
    "np.around(np.mean(var_explained[i_globalsig_phenos]),2)*100"
   ]
  },
  {
   "cell_type": "code",
   "execution_count": null,
   "metadata": {},
   "outputs": [],
   "source": [
    "# Export age results for interpretation\n",
    "age_df = pd.DataFrame({'cluster':d.obs['aparna2p0'],\n",
    "                         'keptcells': np.repeat(False,d.obs.shape[0]),\n",
    "                         'ncorrs': np.repeat(0,d.obs.shape[0]),\n",
    "                         'poscells': np.repeat(False,d.obs.shape[0]),\n",
    "                         'negcells': np.repeat(False,d.obs.shape[0])})\n",
    "i_cells = np.where(age_res.keptcells)[0]\n",
    "age_df['keptcells'].iloc[i_cells] = True\n",
    "age_df['ncorrs'].iloc[i_cells] = age_res.ncorrs\n",
    "age_df['poscells'].iloc[i_cells] = age_res.ncorrs>age_res.fdr_5p_t\n",
    "age_df['negcells'].iloc[i_cells] = age_res.ncorrs<-age_res.fdr_5p_t\n",
    "age_df['UMAP1'] = d.obsm['X_umap'][:,0]\n",
    "age_df['UMAP2'] = d.obsm['X_umap'][:,1]\n",
    "age_df.to_csv(\"/data/srlab/lrumker/MCSC_Project/mcsc_scratch/tbru_cna_Age_res.txt\")"
   ]
  },
  {
   "cell_type": "code",
   "execution_count": null,
   "metadata": {},
   "outputs": [],
   "source": [
    "np.sum(age_df['negcells'])/np.sum(age_df['keptcells'])"
   ]
  },
  {
   "cell_type": "code",
   "execution_count": null,
   "metadata": {},
   "outputs": [],
   "source": [
    "np.sum(age_df['poscells'])/np.sum(age_df['keptcells'])"
   ]
  },
  {
   "cell_type": "code",
   "execution_count": null,
   "metadata": {},
   "outputs": [],
   "source": [
    "# Export winter season results for interpretation\n",
    "winter_df = pd.DataFrame({'cluster':d.obs['aparna2p0'],\n",
    "                         'keptcells': np.repeat(False,d.obs.shape[0]),\n",
    "                         'ncorrs': np.repeat(0,d.obs.shape[0]),\n",
    "                         'poscells': np.repeat(False,d.obs.shape[0]),\n",
    "                         'negcells': np.repeat(False,d.obs.shape[0])})\n",
    "i_cells = np.where(winter_res.keptcells)[0]\n",
    "winter_df['keptcells'].iloc[i_cells] = True\n",
    "winter_df['ncorrs'].iloc[i_cells] = winter_res.ncorrs\n",
    "winter_df['poscells'].iloc[i_cells] = winter_res.ncorrs>winter_res.fdr_5p_t\n",
    "winter_df['negcells'].iloc[i_cells] = winter_res.ncorrs<-winter_res.fdr_5p_t\n",
    "winter_df['UMAP1'] = d.obsm['X_umap'][:,0]\n",
    "winter_df['UMAP2'] = d.obsm['X_umap'][:,1]\n",
    "winter_df.to_csv(\"/data/srlab/lrumker/MCSC_Project/mcsc_scratch/tbru_cna_Winter_res.txt\")"
   ]
  },
  {
   "cell_type": "code",
   "execution_count": null,
   "metadata": {},
   "outputs": [],
   "source": [
    "np.sum(winter_df['negcells'])/np.sum(winter_df['keptcells'])"
   ]
  },
  {
   "cell_type": "code",
   "execution_count": null,
   "metadata": {},
   "outputs": [],
   "source": [
    "np.sum(winter_df['poscells'])/np.sum(winter_df['keptcells'])"
   ]
  },
  {
   "cell_type": "markdown",
   "metadata": {},
   "source": [
    "### TB Phenotype Analysis\n",
    "\n",
    "Original publication observed cluster C-12 (#14) depleted among cases (OR = 0.80, 95% CI: 0.73–0.87, p = 1.21 x 10-6), with an average frequency of 3.0% and 3.6% in cases and controls.\n",
    "\n",
    "..and a weaker but statistically significant depletion of cluster C-20 (#24) in cases (OR = 0.76, 95% CI: 0.65–0.89, p = 5.95 x 10-4) with 1.1% and 1.2% of cells in cases and controls"
   ]
  },
  {
   "cell_type": "code",
   "execution_count": null,
   "metadata": {},
   "outputs": [],
   "source": [
    "# Set covariates to match published cluster-based analysis\n",
    "covs = d.samplem[['nUMI', 'percent_mito', 'age', 'Sex_M', 'season_Winter', 'EURad4KR', \n",
    "                  'age']].values; covs[:,-1] = covs[:,-1]**2\n",
    "\n",
    "TB_res = cna.tl._association.association(d, y = d.samplem.TB_STATUS_CASE.values,\n",
    "                                      batches=batches, covs=covs, Nnull=10000)\n",
    "i_tb_cells = np.where(d.uns['keptcells'])[0]"
   ]
  },
  {
   "cell_type": "code",
   "execution_count": null,
   "metadata": {},
   "outputs": [],
   "source": [
    "TB_df = pd.DataFrame({'cluster':d.obs['aparna2p0'],\n",
    "                         'keptcells': np.repeat(False,d.obs.shape[0]),\n",
    "                         'ncorrs': np.repeat(0,d.obs.shape[0]),\n",
    "                         'poscells': np.repeat(False,d.obs.shape[0]),\n",
    "                         'negcells': np.repeat(False,d.obs.shape[0])})\n",
    "TB_df['keptcells'].iloc[i_tb_cells] = True\n",
    "TB_df['ncorrs'].iloc[i_tb_cells] = TB_res.ncorrs\n",
    "TB_df['poscells'].iloc[i_tb_cells] = TB_res.ncorrs>TB_res.fdr_5p_t\n",
    "TB_df['negcells'].iloc[i_tb_cells] = TB_res.ncorrs<-TB_res.fdr_5p_t\n",
    "TB_df['UMAP1'] = d.obsm['X_umap'][:,0]\n",
    "TB_df['UMAP2'] = d.obsm['X_umap'][:,1]\n",
    "TB_df.to_csv(\"/data/srlab/lrumker/MCSC_Project/mcsc_scratch/tbru_cna_TBres.txt\")"
   ]
  },
  {
   "cell_type": "code",
   "execution_count": null,
   "metadata": {},
   "outputs": [],
   "source": [
    "TB_pos_table = pd.DataFrame({\"Cluster Name\": ['C-23', 'C-29', 'C-28'],\n",
    "    \"Population Fraction\": round(TB_df.loc[TB_df.TB_poscells]['cluster'].value_counts()/np.sum(TB_df.TB_poscells),2)[0:3],\n",
    "                            \"Annotation\": ['CD4+ cytotoxic', 'CD8+ GZMH+', 'CD8+ GZMK']})\n",
    "TB_pos_table"
   ]
  },
  {
   "cell_type": "code",
   "execution_count": null,
   "metadata": {},
   "outputs": [],
   "source": [
    "from methods import methods"
   ]
  },
  {
   "cell_type": "code",
   "execution_count": null,
   "metadata": {},
   "outputs": [],
   "source": [
    "d.obs['cytotoxic_clust'] = np.repeat(\"0\", d.obs.shape[0])\n",
    "loc_cytotoxic = [i for i in np.arange(d.obs.shape[0]) if d.obs['aparna2p0'].iloc[i] in [7,13,15]]\n",
    "d.obs['cytotoxic_clust'].iloc[loc_cytotoxic] =\"1\""
   ]
  },
  {
   "cell_type": "code",
   "execution_count": null,
   "metadata": {},
   "outputs": [],
   "source": [
    "d.obs['c23'] = np.repeat(\"0\", d.obs.shape[0])\n",
    "d.obs['c23'].iloc[np.where(d.obs['aparna2p0']==7)[0]] =\"1\""
   ]
  },
  {
   "cell_type": "code",
   "execution_count": null,
   "metadata": {},
   "outputs": [],
   "source": [
    "d.obs['c28'] = np.repeat(\"0\", d.obs.shape[0])\n",
    "d.obs['c28'].iloc[np.where(d.obs['aparna2p0']==15)[0]] =\"1\""
   ]
  },
  {
   "cell_type": "code",
   "execution_count": null,
   "metadata": {},
   "outputs": [],
   "source": [
    "d.obs['c29'] = np.repeat(\"0\", d.obs.shape[0])\n",
    "d.obs['c29'].iloc[np.where(d.obs['aparna2p0']==13)[0]] =\"1\""
   ]
  },
  {
   "cell_type": "code",
   "execution_count": null,
   "metadata": {},
   "outputs": [],
   "source": [
    "d.obs['c12'] = np.repeat(\"0\", d.obs.shape[0])\n",
    "d.obs['c12'].iloc[np.where(d.obs['aparna2p0']==14)[0]] =\"1\""
   ]
  },
  {
   "cell_type": "code",
   "execution_count": null,
   "metadata": {},
   "outputs": [],
   "source": [
    "from importlib import reload"
   ]
  },
  {
   "cell_type": "code",
   "execution_count": null,
   "metadata": {},
   "outputs": [],
   "source": [
    "reload(methods)"
   ]
  },
  {
   "cell_type": "code",
   "execution_count": null,
   "metadata": {},
   "outputs": [],
   "source": [
    "# To verify an association using MASC\n",
    "covs = d.samplem[['nUMI', 'percent_mito', 'age', 'Sex_M', 'season_Winter', 'EURad4KR', \n",
    "                  'age']].values; covs[:,-1] = covs[:,-1]**2\n",
    "res = methods._MASC(d, d.samplem.TB_STATUS_CASE.values, batches, d.samplem.C.values, \n",
    "                    covs, # sample-level covariates                                                                                                                                                      \n",
    "                        d.obs[['nUMI', 'percent_mito']].values, # Cell-level covariates\n",
    "                        clustertype='cytotoxic_clust')"
   ]
  },
  {
   "cell_type": "code",
   "execution_count": null,
   "metadata": {},
   "outputs": [],
   "source": [
    "# To verify an association using MASC\n",
    "covs = d.samplem[['nUMI', 'percent_mito', 'age', 'Sex_M', 'season_Winter', 'EURad4KR', \n",
    "                  'age']].values; covs[:,-1] = covs[:,-1]**2\n",
    "res = methods._MASC(d, d.samplem.TB_STATUS_CASE.values, batches, d.samplem.C.values, \n",
    "                    covs, # sample-level covariates                                                                                                                                                      \n",
    "                        d.obs[['nUMI', 'percent_mito']].values, # Cell-level covariates\n",
    "                        clustertype='c23')"
   ]
  },
  {
   "cell_type": "code",
   "execution_count": null,
   "metadata": {},
   "outputs": [],
   "source": [
    "# To verify an association using MASC\n",
    "covs = d.samplem[['nUMI', 'percent_mito', 'age', 'Sex_M', 'season_Winter', 'EURad4KR', \n",
    "                  'age']].values; covs[:,-1] = covs[:,-1]**2\n",
    "res = methods._MASC(d, d.samplem.TB_STATUS_CASE.values, batches, d.samplem.C.values, \n",
    "                    covs, # sample-level covariates                                                                                                                                                      \n",
    "                        d.obs[['nUMI', 'percent_mito']].values, # Cell-level covariates\n",
    "                        clustertype='c29')"
   ]
  },
  {
   "cell_type": "code",
   "execution_count": null,
   "metadata": {},
   "outputs": [],
   "source": [
    "# To verify an association using MASC\n",
    "covs = d.samplem[['nUMI', 'percent_mito', 'age', 'Sex_M', 'season_Winter', 'EURad4KR', \n",
    "                  'age']].values; covs[:,-1] = covs[:,-1]**2\n",
    "res = methods._MASC(d, d.samplem.TB_STATUS_CASE.values, batches, d.samplem.C.values, \n",
    "                    covs, # sample-level covariates                                                                                                                                                      \n",
    "                        d.obs[['nUMI', 'percent_mito']].values, # Cell-level covariates\n",
    "                        clustertype='c28')"
   ]
  },
  {
   "cell_type": "code",
   "execution_count": null,
   "metadata": {},
   "outputs": [],
   "source": [
    "from matplotlib.cm import get_cmap\n",
    "colors = get_cmap(\"tab20b\").colors"
   ]
  },
  {
   "cell_type": "code",
   "execution_count": null,
   "metadata": {},
   "outputs": [],
   "source": [
    "# Plotting clusters\n",
    "f, axs = plt.subplots(1, 1, figsize=(3,3))\n",
    "\n",
    "ax = axs[1,1]\n",
    "ax.axis('off')\n",
    "\n",
    "i_survey_cells = np.where(age_res.keptcells)[0]\n",
    "ax.scatter(d.obsm['X_umap'][i_survey_cells,0], d.obsm['X_umap'][i_survey_cells,1], \n",
    "           alpha=0.6, c=\"grey\", cmap='seismic', **pp.umapprops)\n",
    "i_sig_cells = np.where(np.abs(age_res.ncorrs)>age_res.fdr_5p_t)[0]\n",
    "ax.scatter(d.obsm['X_umap'][i_survey_cells[i_sig_cells],0], \n",
    "           d.obsm['X_umap'][i_survey_cells[i_sig_cells],1], \n",
    "           alpha=0.6, c=c[i_sig_cells], cmap='seismic', \n",
    "           vmin=-cutoff, vmax=cutoff, **pp.umapprops)\n",
    "ax.set_title(\"Age: CNA Populations\")"
   ]
  },
  {
   "cell_type": "code",
   "execution_count": null,
   "metadata": {},
   "outputs": [],
   "source": [
    "f, axs = plt.subplots(3, 3, figsize=(6,6))\n",
    "\n",
    "ax = axs[2,0]\n",
    "loc_newly_sig = np.where(newly_sig)[0]\n",
    "loc_unchanged = np.where(~np.array(newly_sig))[0]\n",
    "ax.scatter(var_explained[loc_newly_sig], -np.log10(global_ps[loc_newly_sig]),c = \"lime\", s = 2)\n",
    "ax.scatter(var_explained[loc_unchanged], -np.log10(global_ps[loc_unchanged]),c = colors[0], s = 2)\n",
    "ax.axhline(-np.log10(0.05/n_phenos), c = \"black\", linestyle = \"dashed\")\n",
    "ax.annotate(\"Bonferroni\", (0.3, -np.log10(0.05/n_phenos)+0.1), fontsize = 5)\n",
    "loc_sig = np.where(global_ps <0.05/n_phenos)[0]\n",
    "texts = [ax.text(var_explained[i], -np.log10(global_ps[i]), \n",
    "                  pheno_names[i], ha='center', va='center', fontsize = 5) for i in loc_sig]\n",
    "adjust_text(texts, arrowprops=dict(arrowstyle=\"-\", color='k', lw=0.5), ax=ax)\n",
    "ax.set_xlabel(\"Variance Explained\")\n",
    "ax.set_ylabel(\"-log10(P-value)\")\n",
    "\n",
    "ax = axs[1,0]\n",
    "ax.axis('off')\n",
    "c = ancestry_res.ncorrs\n",
    "c = (c-np.mean(c))/np.std(c)\n",
    "cutoff = np.max([-np.percentile(c, 10), np.percentile(c, 90)]) \n",
    "i_survey_cells = np.where(ancestry_res.keptcells)[0]\n",
    "ax.scatter(d.obsm['X_umap'][i_survey_cells,0], d.obsm['X_umap'][i_survey_cells,1], \n",
    "           alpha=0.6, c=\"grey\", cmap='seismic', **pp.umapprops)\n",
    "i_sig_cells = np.where(np.abs(ancestry_res.ncorrs)>ancestry_res.fdr_5p_t)[0]\n",
    "ax.scatter(d.obsm['X_umap'][i_survey_cells[i_sig_cells],0], \n",
    "           d.obsm['X_umap'][i_survey_cells[i_sig_cells],1], \n",
    "           alpha=0.6, c=c[i_sig_cells], cmap='seismic', \n",
    "           vmin=-cutoff, vmax=cutoff, **pp.umapprops)\n",
    "ax.set_title(\"Ancestry: CNA Populations\")\n",
    "\n",
    "ax = axs[1,1]\n",
    "ax.axis('off')\n",
    "c = age_res.ncorrs\n",
    "c = (c-np.mean(c))/np.std(c)\n",
    "cutoff = np.max([-np.percentile(c, 10), np.percentile(c, 90)]) \n",
    "i_survey_cells = np.where(age_res.keptcells)[0]\n",
    "ax.scatter(d.obsm['X_umap'][i_survey_cells,0], d.obsm['X_umap'][i_survey_cells,1], \n",
    "           alpha=0.6, c=\"grey\", cmap='seismic', **pp.umapprops)\n",
    "i_sig_cells = np.where(np.abs(age_res.ncorrs)>age_res.fdr_5p_t)[0]\n",
    "ax.scatter(d.obsm['X_umap'][i_survey_cells[i_sig_cells],0], \n",
    "           d.obsm['X_umap'][i_survey_cells[i_sig_cells],1], \n",
    "           alpha=0.6, c=c[i_sig_cells], cmap='seismic', \n",
    "           vmin=-cutoff, vmax=cutoff, **pp.umapprops)\n",
    "ax.set_title(\"Age: CNA Populations\")\n",
    "\n",
    "ax = axs[2,1]\n",
    "ax.axis('off')\n",
    "pheno = \"age\"\n",
    "i_pheno = np.where(QCed_phenos==pheno)[0]\n",
    "pos_cells = np.where(poscells_masc[i_pheno,:][0])[0]\n",
    "neg_cells = np.where(negcells_masc[i_pheno,:][0])[0]\n",
    "c = np.repeat(\"grey\", d.obs.shape[0])\n",
    "c[pos_cells] = \"red\"\n",
    "c[neg_cells] = \"blue\"\n",
    "ax.scatter(d.obsm['X_umap'][i_survey_cells,0], d.obsm['X_umap'][i_survey_cells,1], \n",
    "           alpha=0.6, c=c[i_survey_cells], cmap='seismic', \n",
    "           vmin=-cutoff, vmax=cutoff, **pp.umapprops)\n",
    "ax.set_title(\"Age: Clusters\")\n",
    "\n",
    "ax = axs[1,2]\n",
    "ax.axis('off')\n",
    "c = winter_res.ncorrs\n",
    "c = (c-np.mean(c))/np.std(c)\n",
    "cutoff = np.max([-np.percentile(c, 10), np.percentile(c, 90)]) \n",
    "i_survey_cells = np.where(winter_res.keptcells)[0]\n",
    "ax.scatter(d.obsm['X_umap'][i_survey_cells,0], d.obsm['X_umap'][i_survey_cells,1], \n",
    "           alpha=0.6, c=\"grey\", cmap='seismic', **pp.umapprops)\n",
    "i_sig_cells = np.where(np.abs(winter_res.ncorrs)>winter_res.fdr_5p_t)[0]\n",
    "ax.scatter(d.obsm['X_umap'][i_survey_cells[i_sig_cells],0], \n",
    "           d.obsm['X_umap'][i_survey_cells[i_sig_cells],1], \n",
    "           alpha=0.6, c=c[i_sig_cells], cmap='seismic', \n",
    "           vmin=-cutoff, vmax=cutoff, **pp.umapprops)\n",
    "ax.set_title(\"Winter: CNA Populations\")\n",
    "\n",
    "ax = axs[2,2]\n",
    "ax.axis('off')\n",
    "pheno = \"season_Winter\"\n",
    "i_pheno = np.where(QCed_phenos==pheno)[0]\n",
    "pos_cells = np.where(poscells_masc[i_pheno,:][0])[0]\n",
    "neg_cells = np.where(negcells_masc[i_pheno,:][0])[0]\n",
    "c = np.repeat(\"grey\", d.obs.shape[0])\n",
    "c[pos_cells] = \"red\"\n",
    "c[neg_cells] = \"blue\"\n",
    "ax.scatter(d.obsm['X_umap'][i_survey_cells,0], d.obsm['X_umap'][i_survey_cells,1], \n",
    "           alpha=0.6, c=c[i_survey_cells], cmap='seismic', \n",
    "           vmin=-cutoff, vmax=cutoff, **pp.umapprops)\n",
    "ax.set_title(\"Winter: Clusters\")\n",
    "\n",
    "ax = axs[0,0]\n",
    "ax.axis('off')\n",
    "c = TB_res.ncorrs\n",
    "c = (c-np.mean(c))/np.std(c)\n",
    "cutoff = np.max([-np.percentile(c, 10), np.percentile(c, 90)]) \n",
    "ax.scatter(d.obsm['X_umap'][i_tb_cells,0], d.obsm['X_umap'][i_tb_cells,1], \n",
    "           alpha=0.6, c=\"grey\", cmap='seismic', **pp.umapprops)\n",
    "i_sig_cells = np.where(np.abs(TB_res.ncorrs)>TB_res.fdr_5p_t)[0]\n",
    "ax.scatter(d.obsm['X_umap'][i_tb_cells[i_sig_cells],0], \n",
    "           d.obsm['X_umap'][i_tb_cells[i_sig_cells],1], \n",
    "           alpha=0.6, c=c[i_sig_cells], cmap='seismic', \n",
    "           vmin=-cutoff, vmax=cutoff, **pp.umapprops)\n",
    "ax.set_title(\"TB: CNA Populations\")\n",
    "\n",
    "ax = axs[0,1]\n",
    "ax.axis('off')\n",
    "ax.scatter(d.obsm['X_umap'][i_tb_cells,0], d.obsm['X_umap'][i_tb_cells,1], \n",
    "           alpha=0.6, c=\"grey\", cmap='seismic', **pp.umapprops)\n",
    "i_sig_cells = np.where(np.abs(TB_res.ncorrs)>TB_res.fdr_5p_t)[0]\n",
    "\n",
    "plot_df = pd.DataFrame({\"UMAP1\": d.obsm['X_umap'][i_tb_cells[i_sig_cells],0],\n",
    "                       \"UMAP2\": d.obsm['X_umap'][i_tb_cells[i_sig_cells],1],\n",
    "                       \"Cluster\": d.obs['aparna2p0'][i_tb_cells[i_sig_cells]]})\n",
    "plot_df = plot_df.iloc[np.random.choice(np.arange(plot_df.shape[0]),plot_df.shape[0], replace=False),:]\n",
    "counts = plot_df.Cluster.value_counts()\n",
    "keep_clusts = counts.index[counts.values>100] # Only plot cells from clusters with at least 100 cells implicated\n",
    "i_keep_cells = [i for i in np.arange(plot_df.shape[0]) if plot_df.Cluster[i] in keep_clusts]\n",
    "plot_df = plot_df.iloc[i_keep_cells,:]\n",
    "ax.scatter(plot_df['UMAP1'], plot_df['UMAP2'],\n",
    "           alpha=0.6, c=plot_df['Cluster'], cmap = 'tab20b', **pp.umapprops)\n",
    "ax.set_title(\"TB: CNA Populations,\\nColored by Cluster\")\n",
    "\n",
    "ax = axs[0,2]\n",
    "ax.axis('off')\n",
    "ax.scatter(d.obsm['X_umap'][i_tb_cells,0], d.obsm['X_umap'][i_tb_cells,1], \n",
    "           alpha=0.6, c=\"grey\", cmap='seismic', **pp.umapprops)\n",
    "C12_cells = [i for i in np.arange(d.obs.shape[0]) if d.obs['aparna2p0'][i]==14] #C12 corresponds to cluster 14\n",
    "C20_cells = [i for i in np.arange(d.obs.shape[0]) if d.obs['aparna2p0'][i]==24] #C20 corresponds to cluster 24\n",
    "c = np.repeat(\"grey\", d.obs.shape[0])\n",
    "ax.scatter(d.obsm['X_umap'][C12_cells,0], d.obsm['X_umap'][C12_cells,1], \n",
    "           alpha=0.6, c=colors[11], **pp.umapprops)\n",
    "ax.scatter(d.obsm['X_umap'][C20_cells,0], d.obsm['X_umap'][C20_cells,1], \n",
    "           alpha=0.6, c=colors[19], **pp.umapprops)\n",
    "ax.set_title(\"TB:  Clusters\")\n",
    "\n",
    "plt.tight_layout(h_pad=1.0)\n",
    "plt.savefig('../_figs/rawmainfig.tbru.supervised.pdf')"
   ]
  },
  {
   "cell_type": "markdown",
   "metadata": {},
   "source": [
    "# Examine TB Associations in Depth"
   ]
  },
  {
   "cell_type": "markdown",
   "metadata": {},
   "source": [
    "### What fraction of C12 and C20 cells are included among our negatively-associated population?\n",
    "Note that publication renamed clusters in order of innateness, so that C12 corresponds to cluster #14 and C20 to #24"
   ]
  },
  {
   "cell_type": "code",
   "execution_count": null,
   "metadata": {},
   "outputs": [],
   "source": [
    "np.sum((d.obs['aparna2p0']==14)*TB_df['negcells'])/np.sum(d.obs['aparna2p0']==14)*100"
   ]
  },
  {
   "cell_type": "code",
   "execution_count": null,
   "metadata": {},
   "outputs": [],
   "source": [
    "np.sum((d.obs['aparna2p0']==24)*TB_df['negcells'])/np.sum(d.obs['aparna2p0']==24)*100"
   ]
  },
  {
   "cell_type": "markdown",
   "metadata": {},
   "source": [
    "### Number of cells in CNA's negatively-associated population that are not in C12 or C20?"
   ]
  },
  {
   "cell_type": "code",
   "execution_count": null,
   "metadata": {},
   "outputs": [],
   "source": [
    "n_remainder_negcells = np.sum(TB_df['negcells']) - \\\n",
    "                    np.sum((d.obs['aparna2p0']==14)*TB_df['negcells'])-\\\n",
    "                    np.sum((d.obs['aparna2p0']==24)*TB_df['negcells'])\n",
    "n_remainder_negcells"
   ]
  },
  {
   "cell_type": "markdown",
   "metadata": {},
   "source": [
    "### What percent of CNA's negatively-associated population fall outside C12 and C20?"
   ]
  },
  {
   "cell_type": "code",
   "execution_count": null,
   "metadata": {},
   "outputs": [],
   "source": [
    "n_remainder_negcells/np.sum(TB_df['negcells'])*100"
   ]
  },
  {
   "cell_type": "markdown",
   "metadata": {},
   "source": [
    "### For the cells in CNA's negatively-associated population that fell outside of C12, what clusters did they belong to?\n",
    "\n",
    " - Cluster #0  = C4 = \"CD4+ CD27+ Th17\"\n",
    " - Cluster #9 = C16 = \"CD4+ CCR6+CXCR3+ Th1/Th17\"\n",
    " - Cluster #11 = C19 = \"CD4+ CD161+ Th1\"\n",
    " - Cluster #2 = C17 = \"CD4+ CD29+CXCR3+ Th1\""
   ]
  },
  {
   "cell_type": "code",
   "execution_count": null,
   "metadata": {},
   "outputs": [],
   "source": [
    "loc_remainder_negcells = np.where((d.obs['aparna2p0']!=14)*(d.obs['negcells']=='1'))[0]\n",
    "d.obs['aparna2p0'][loc_remainder_negcells].value_counts()"
   ]
  },
  {
   "cell_type": "markdown",
   "metadata": {},
   "source": [
    "### Gene set enrichment"
   ]
  },
  {
   "cell_type": "code",
   "execution_count": null,
   "metadata": {},
   "outputs": [],
   "source": [
    "d.obs['keptcells'] = d.uns['keptcells']"
   ]
  },
  {
   "cell_type": "code",
   "execution_count": null,
   "metadata": {},
   "outputs": [],
   "source": [
    "d.obs['ncorrs'] = np.repeat(0, d.obs.shape[0])"
   ]
  },
  {
   "cell_type": "code",
   "execution_count": null,
   "metadata": {},
   "outputs": [],
   "source": [
    "d.obs['ncorrs'].loc['keptcells'] = res.ncorrs"
   ]
  },
  {
   "cell_type": "code",
   "execution_count": null,
   "metadata": {},
   "outputs": [],
   "source": [
    "dummy_df = pd.DataFrame(d.obs.loc[:,[\"ncorrs\", \"poscells\", \"negcells\", \"aparna2p0\", 'keptcells']])\n",
    "dummy_df.to_csv(\"/data/srlab/lrumker/MCSC_Project/mcsc_scratch/tbru_cna_res.txt\")"
   ]
  },
  {
   "cell_type": "code",
   "execution_count": null,
   "metadata": {},
   "outputs": [],
   "source": [
    "dummy_df = pd.DataFrame(d.uns['NAM_nbhdXpc'].iloc[:,0:10])\n",
    "dummy_df.to_csv(\"/data/srlab/lrumker/MCSC_Project/mcsc_scratch/tbru_cna_NAM_PCs.txt\")"
   ]
  },
  {
   "cell_type": "code",
   "execution_count": null,
   "metadata": {},
   "outputs": [],
   "source": [
    "### Read in data types\n",
    "\n",
    "print('reading')\n",
    "d_cca = cna.read(pf.tbru_h5ad + 'harmcca20.h5ad')\n",
    "d_cca.obs_to_sample(['batch', 'nUMI', 'percent_mito'])\n",
    "\n",
    "print('reading')\n",
    "d_mrna = cna.read(pf.tbru_h5ad + 'harmmrna.h5ad')\n",
    "d_mrna.obs_to_sample(['batch', 'nUMI', 'percent_mito'])\n",
    "\n",
    "print('reading')\n",
    "d_prot = cna.read(pf.tbru_h5ad + 'harmprot.h5ad')\n",
    "d_prot.obs_to_sample(['batch', 'nUMI', 'percent_mito'])\n",
    "\n",
    "### Run analyses of TB progressor phenotype with each dataset\n",
    "\n",
    "# Set covariates to match published cluster-based analysis\n",
    "batches = d_cca.samplem.batch.values\n",
    "covs = d_cca.samplem[['nUMI', 'percent_mito', 'age', 'Sex_M', 'season_Winter', 'EURad4KR', \n",
    "                  'age']].values; covs[:,-1] = covs[:,-1]**2\n",
    "\n",
    "res_cca = cna.tl._association.association(d_cca, y = d_cca.samplem.TB_STATUS_CASE.values,\n",
    "                                      batches=batches, covs=covs, Nnull=10000)\n",
    "\n",
    "# Set covariates to match published cluster-based analysis\n",
    "batches = d_mrna.samplem.batch.values\n",
    "covs = d_mrna.samplem[['nUMI', 'percent_mito', 'age', 'Sex_M', 'season_Winter', 'EURad4KR', \n",
    "                  'age']].values; covs[:,-1] = covs[:,-1]**2\n",
    "\n",
    "res_mrna = cna.tl._association.association(d_mrna, y = d_mrna.samplem.TB_STATUS_CASE.values,\n",
    "                                      batches=batches, covs=covs, Nnull=10000)\n",
    "\n",
    "# Set covariates to match published cluster-based analysis\n",
    "batches = d_prot.samplem.batch.values\n",
    "covs = d_prot.samplem[['nUMI', 'percent_mito', 'age', 'Sex_M', 'season_Winter', 'EURad4KR', \n",
    "                  'age']].values; covs[:,-1] = covs[:,-1]**2\n",
    "\n",
    "res_prot = cna.tl._association.association(d_prot, y = d_prot.samplem.TB_STATUS_CASE.values,\n",
    "                                      batches=batches, covs=covs, Nnull=10000)\n",
    "\n",
    "### Compare results from different data types\n",
    "print(res_cca.p)\n",
    "print(res_mrna.p)\n",
    "print(res_prot.p)\n",
    "\n",
    "### Number of cells passing FDR 5%\n",
    "print(np.sum(np.abs(res_cca.ncorrs)>res_cca.fdr_5p_t))\n",
    "print(np.sum(np.abs(res_mrna.ncorrs)>res_mrna.fdr_5p_t))\n",
    "print(np.sum(np.abs(res_prot.ncorrs)>res_prot.fdr_5p_t))"
   ]
  },
  {
   "cell_type": "code",
   "execution_count": null,
   "metadata": {},
   "outputs": [],
   "source": [
    "### Identify overlap in implicated cell populations\n",
    "# Locate associated cells CCA\n",
    "\n",
    "cca_poscells = np.repeat(False, d_cca.obs.shape[0])\n",
    "i_pos = np.where(d_cca.uns['keptcells'])[0][np.where(res_cca.ncorrs>res_cca.fdr_5p_t)[0]]\n",
    "cca_poscells[i_pos]=True\n",
    "\n",
    "cca_negcells = np.repeat(False, d_cca.obs.shape[0])\n",
    "i_neg = np.where(d_cca.uns['keptcells'])[0][np.where(res_cca.ncorrs<-res_cca.fdr_5p_t)[0]]\n",
    "cca_negcells[i_neg]=True\n",
    "\n",
    "# Locate associated cells mRNA\n",
    "\n",
    "mrna_poscells = np.repeat(False, d_mrna.obs.shape[0])\n",
    "i_pos = np.where(d_mrna.uns['keptcells'])[0][np.where(res_mrna.ncorrs>res_mrna.fdr_5p_t)[0]]\n",
    "mrna_poscells[i_pos]=True\n",
    "\n",
    "mrna_negcells = np.repeat(False, d_mrna.obs.shape[0])\n",
    "i_neg = np.where(d_mrna.uns['keptcells'])[0][np.where(res_mrna.ncorrs<-res_mrna.fdr_5p_t)[0]]\n",
    "mrna_negcells[i_neg]=True\n",
    "\n",
    "# Locate associated cells protein\n",
    "\n",
    "prot_poscells = np.repeat(False, d_prot.obs.shape[0])\n",
    "i_pos = np.where(d_prot.uns['keptcells'])[0][np.where(res_prot.ncorrs>res_prot.fdr_5p_t)[0]]\n",
    "prot_poscells[i_pos]=True\n",
    "\n",
    "prot_negcells = np.repeat(False, d_prot.obs.shape[0])\n",
    "i_neg = np.where(d_prot.uns['keptcells'])[0][np.where(res_prot.ncorrs<-res_prot.fdr_5p_t)[0]]\n",
    "prot_negcells[i_neg]=True\n",
    "\n",
    "datatypes = np.array(['cca', 'mrna', 'prot'])\n",
    "all_poscells = np.concatenate((np.concatenate((cca_poscells.reshape(1,-1), mrna_poscells.reshape(1,-1)),axis = 0),\n",
    "                              prot_poscells.reshape(1,-1)),axis = 0)\n",
    "all_negcells = np.concatenate((np.concatenate((cca_negcells.reshape(1,-1), mrna_negcells.reshape(1,-1)),axis = 0),\n",
    "                              prot_negcells.reshape(1,-1)),axis = 0)\n",
    "\n",
    "# Overlapping cells among data types\n",
    "harvest_pos = np.zeros((3,3))\n",
    "harvest_neg = np.zeros((3,3))\n",
    "for i_type in np.arange(len(datatypes)):\n",
    "    for j_type in np.arange(len(datatypes)):\n",
    "        harvest_pos[i_type, j_type] = np.sum(all_poscells[i_type,:]*all_poscells[j_type,:])\n",
    "        harvest_neg[i_type, j_type] = np.sum(all_negcells[i_type,:]*all_negcells[j_type,:])"
   ]
  },
  {
   "cell_type": "code",
   "execution_count": null,
   "metadata": {},
   "outputs": [],
   "source": [
    "mrna_poscells[0:5]"
   ]
  },
  {
   "cell_type": "code",
   "execution_count": null,
   "metadata": {},
   "outputs": [],
   "source": [
    "# Fraction of mRNA cells in C-12 or C-20\n",
    "np.sum(mrna_negcells*((d.obs['aparna2p0']==14)+(d.obs['aparna2p0']==24)))/np.sum(mrna_negcells)"
   ]
  },
  {
   "cell_type": "code",
   "execution_count": null,
   "metadata": {},
   "outputs": [],
   "source": [
    "# Fraction of mRNA cells in CCA depleted cluster\n",
    "np.sum(mrna_negcells*cca_negcells)/np.sum(mrna_negcells)"
   ]
  },
  {
   "cell_type": "markdown",
   "metadata": {},
   "source": [
    "### Verify an Assoc. With MASC"
   ]
  },
  {
   "cell_type": "code",
   "execution_count": null,
   "metadata": {},
   "outputs": [],
   "source": [
    "d.obs['aparna2p0_elimsoloclust'] = d.obs['aparna2p0_elimsoloclust'].astype(str)"
   ]
  },
  {
   "cell_type": "code",
   "execution_count": null,
   "metadata": {},
   "outputs": [],
   "source": [
    "d.obs['aparna2p0_elimsoloclust'] = d.obs['aparna2p0'].copy()\n",
    "clust_sizes = d.obs['aparna2p0_elimsoloclust'].value_counts()\n",
    "singleton_clusts = d.obs['aparna2p0_elimsoloclust'].value_counts().index[np.where(clust_sizes==1)[0]]\n",
    "singleton_clust_locs = [i for i in np.arange(d.obs.shape[0]) if d.obs['aparna2p0_elimsoloclust'][i] in singleton_clusts]\n",
    "d.obs.iloc[singleton_clust_locs,np.where(d.obs.columns=='aparna2p0_elimsoloclust')[0]] = 32"
   ]
  },
  {
   "cell_type": "code",
   "execution_count": null,
   "metadata": {},
   "outputs": [],
   "source": [
    "sampleXmeta=sm"
   ]
  },
  {
   "cell_type": "code",
   "execution_count": null,
   "metadata": {
    "scrolled": true
   },
   "outputs": [],
   "source": [
    "# To verify an association using MASC\n",
    "res = methods._MASC(d,\n",
    "      y,\n",
    "      sampleXmeta.batch.values,\n",
    "      sampleXmeta.C.values,\n",
    "      covs, # sample-level covariates                                                                                                                                                      \n",
    "        d.obs[['nUMI', 'percent_mito']].values, # Cell-level covariates\n",
    "      clustertype='poscells')"
   ]
  },
  {
   "cell_type": "code",
   "execution_count": null,
   "metadata": {},
   "outputs": [],
   "source": [
    "# Formula to correct a MASC association p-value for total number of clusters tested\n",
    "# (\"Sidak Correction\")\n",
    "num_clusters = 31\n",
    "uncorrected_pval = 0.000002\n",
    "1-((1-uncorrected_pval)**num_clusters)"
   ]
  },
  {
   "cell_type": "markdown",
   "metadata": {},
   "source": [
    "# Examine Winter Association In-Depth"
   ]
  },
  {
   "cell_type": "code",
   "execution_count": null,
   "metadata": {},
   "outputs": [],
   "source": [
    "import anndata as ad"
   ]
  },
  {
   "cell_type": "code",
   "execution_count": null,
   "metadata": {},
   "outputs": [],
   "source": [
    "pos_cells_winter = ad.AnnData(d.X[np.where(winter_df.keptcells&winter_df.poscells)[0],])\n",
    "sc.pp.neighbors(pos_cells_winter)\n",
    "sc.tl.umap(pos_cells_winter)"
   ]
  },
  {
   "cell_type": "code",
   "execution_count": null,
   "metadata": {},
   "outputs": [],
   "source": [
    "loc_poscells_winter = np.where(winter_df.keptcells&winter_df.poscells)[0]"
   ]
  },
  {
   "cell_type": "code",
   "execution_count": null,
   "metadata": {},
   "outputs": [],
   "source": [
    "data_df['Category'].value_counts()"
   ]
  },
  {
   "cell_type": "code",
   "execution_count": null,
   "metadata": {},
   "outputs": [],
   "source": [
    "# Color cells by cluster, in original dataset's UMAP\n",
    "data_df = pd.DataFrame({\"X Value\": d.obsm['X_umap'][loc_poscells_winter,0],\n",
    "                     \"Y Value\": d.obsm['X_umap'][loc_poscells_winter,1],\n",
    "                     \"Category\": d.obs['aparna2p0'][loc_poscells_winter]})\n",
    "cluster_rep = data_df['Category'].value_counts()\n",
    "keep_clust = cluster_rep.index[cluster_rep.values>10]\n",
    "keep_row = [data_df['Category'][i] in keep_clust for i in np.arange(data_df.shape[0])]\n",
    "data_df = data_df.iloc[keep_row,:]\n",
    "data_df = data_df.sort_values(\"Category\", ascending=False)\n",
    "groups = data_df.groupby(\"Category\", sort=False)\n",
    "\n",
    "fig, ax = plt.subplots(figsize=(10, 6))\n",
    "ax.margins(0.05) \n",
    "palette = plt.get_cmap('tab20').colors\n",
    "cc = 0 #color counter\n",
    "for name, group in groups:\n",
    "    x_vals = group[\"X Value\"]\n",
    "    y_vals = group[\"Y Value\"]\n",
    "    plt.scatter(x_vals, y_vals, marker=\"o\", label=name, s=3, alpha = 0.6,\n",
    "               c=np.array(palette[cc]).reshape(1,-1)) #Used for legend and dots\n",
    "    cc = cc+1\n",
    "plt.legend(bbox_to_anchor=(0.85,0.5), loc=\"center right\", fontsize=12, \n",
    "           bbox_transform=plt.gcf().transFigure, markerscale=2)\n",
    "plt.subplots_adjust(left=0.0, bottom=0.1, right=0.6)\n",
    "ax.set_xlabel('Original UMAP1', fontsize = 15)\n",
    "ax.set_ylabel('Original UMAP2', fontsize = 15)\n",
    "plt.xticks(fontsize=15)\n",
    "plt.yticks(fontsize=15)\n",
    "plt.title(\"Expanded Population, \\n Colored by Nathan et al Clusters\",\n",
    "         fontsize = 18)\n",
    "plt.grid(color='lightgrey', linestyle='-', linewidth=0.5)\n",
    "plt.show()"
   ]
  },
  {
   "cell_type": "code",
   "execution_count": null,
   "metadata": {},
   "outputs": [],
   "source": [
    "# Color top 10% cells by cell-type cluster, after independently UMAPped\n",
    "data_df = pd.DataFrame({\"X Value\": pos_cells_winter.obsm['X_umap'][:,0],\n",
    "                     \"Y Value\": pos_cells_winter.obsm['X_umap'][:,1],\n",
    "                     \"Category\": d.obs['aparna2p0'][loc_poscells_winter]})\n",
    "cluster_rep = data_df['Category'].value_counts()\n",
    "keep_clust = cluster_rep.index[cluster_rep.values>10]\n",
    "keep_row = [data_df['Category'][i] in keep_clust for i in np.arange(data_df.shape[0])]\n",
    "data_df = data_df.iloc[keep_row,:]\n",
    "data_df = data_df.sort_values(\"Category\", ascending=False)\n",
    "groups = data_df.groupby(\"Category\", sort=False)\n",
    "\n",
    "fig, ax = plt.subplots(figsize=(10, 6))\n",
    "ax.margins(0.05) \n",
    "palette = plt.get_cmap('tab20').colors\n",
    "cc = 0 #color counter\n",
    "for name, group in groups:\n",
    "    x_vals = group[\"X Value\"]\n",
    "    y_vals = group[\"Y Value\"]\n",
    "    plt.scatter(x_vals, y_vals, marker=\"o\", label=name, s=5, alpha = 0.6,\n",
    "               c=np.array(palette[cc]).reshape(1,-1)) #Used for legend and dots\n",
    "    cc = cc+1\n",
    "plt.legend(bbox_to_anchor=(0.85,0.5), loc=\"center right\", fontsize=12, \n",
    "           bbox_transform=plt.gcf().transFigure, markerscale=2)\n",
    "plt.subplots_adjust(left=0.0, bottom=0.1, right=0.6)\n",
    "ax.set_xlabel('New UMAP1', fontsize = 15)\n",
    "ax.set_ylabel('New UMAP2', fontsize = 15)\n",
    "plt.xticks(fontsize=15)\n",
    "plt.yticks(fontsize=15)\n",
    "plt.title(\"Expanded Population, \\n Colored by Nathan et al Clusters\",\n",
    "         fontsize = 18)\n",
    "plt.grid(color='lightgrey', linestyle='-', linewidth=0.5)\n",
    "plt.show()"
   ]
  },
  {
   "cell_type": "code",
   "execution_count": null,
   "metadata": {},
   "outputs": [],
   "source": [
    "sc.tl.leiden(pos_assoc_data, resolution=0.2)"
   ]
  },
  {
   "cell_type": "code",
   "execution_count": null,
   "metadata": {},
   "outputs": [],
   "source": [
    "# Color top 10% cells by cell-type cluster, after independently UMAPped and clustered\n",
    "data_df = pd.DataFrame({\"X Value\": pos_assoc_data.obsm['X_umap'][:,0],\n",
    "                     \"Y Value\": pos_assoc_data.obsm['X_umap'][:,1],\n",
    "                     \"Category\": pos_assoc_data.obs['leiden']})\n",
    "data_df = data_df.sort_values(\"Category\", ascending=False)\n",
    "groups = data_df.groupby(\"Category\", sort=False)\n",
    "\n",
    "fig, ax = plt.subplots(figsize=(10, 6))\n",
    "ax.margins(0.05) \n",
    "palette = np.array(sns.color_palette(\"husl\", len(np.unique(data_df['Category']))))\n",
    "cc = 0 #color counter\n",
    "for name, group in groups:\n",
    "    x_vals = group[\"X Value\"]\n",
    "    y_vals = group[\"Y Value\"]\n",
    "    plt.scatter(x_vals, y_vals, marker=\"o\", label=name, s=5, alpha = 0.6,\n",
    "               c=palette[cc:cc+1,:]) #Used for legend and dots\n",
    "    cc = cc+1\n",
    "plt.legend(bbox_to_anchor=(0.85,0.5), loc=\"center right\", fontsize=12, \n",
    "           bbox_transform=plt.gcf().transFigure, markerscale=2)\n",
    "plt.subplots_adjust(left=0.0, bottom=0.1, right=0.6)\n",
    "ax.set_xlabel('UMAP1', fontsize = 15)\n",
    "ax.set_ylabel('UMAP2', fontsize = 15)\n",
    "plt.xticks(fontsize=15)\n",
    "plt.yticks(fontsize=15)\n",
    "plt.title(\"Cells Most Positively Assoc. with Phenotype\",\n",
    "         fontsize = 18)\n",
    "plt.grid(color='lightgrey', linestyle='-', linewidth=0.5)\n",
    "plt.show()\n",
    "\n",
    "new_clust = 0\n",
    "compare_clusterings = pd.DataFrame({\"Cluster \"+str(new_clust): data.obs['leiden2'][pos_assoc_cells][np.where(pos_assoc_data.obs['leiden']==str(new_clust))[0]].value_counts()})\n",
    "for new_clust in np.arange(1, np.max(pos_assoc_data.obs['leiden'].astype(int))+1):\n",
    "    compare_clusterings[\"Cluster \"+str(new_clust)] = data.obs['leiden2'][pos_assoc_cells][np.where(pos_assoc_data.obs['leiden']==str(new_clust))[0]].value_counts()\n",
    "    \n",
    "compare_clusterings_pct = compare_clusterings/np.sum(compare_clusterings, axis = 0)\n",
    "\n",
    "counts = compare_clusterings_pct.transpose()\n",
    "fig = plt.figure(figsize=(13,7))\n",
    "ax = fig.add_subplot(111)\n",
    "counts.plot(ax=ax,kind='bar', stacked=True, rot=0)\n",
    "vals = ax.get_yticks()\n",
    "ax.set_yticklabels(['{:3.2f}%'.format(x*100) for x in vals])\n",
    "ax.yaxis.grid(True)\n",
    "ax.set_axisbelow(True)\n",
    "ax.set_xlabel('Clusters Among Top-Scoring Cells', fontsize = 20)\n",
    "ax.set_ylabel('Fraction of Cells from Each Original Cluster', fontsize = 20)\n",
    "plt.xticks(fontsize=20)\n",
    "plt.yticks(fontsize=20)\n",
    "plt.title(\"Cells Most Positively Assoc. with Phenotype\",\n",
    "         fontsize = 30)\n",
    "plt.show()"
   ]
  },
  {
   "cell_type": "markdown",
   "metadata": {},
   "source": [
    "# Interpretation: Exploring"
   ]
  },
  {
   "cell_type": "code",
   "execution_count": null,
   "metadata": {},
   "outputs": [],
   "source": [
    "FDR_thresh = res.fdr_5p_t"
   ]
  },
  {
   "cell_type": "code",
   "execution_count": null,
   "metadata": {},
   "outputs": [],
   "source": [
    "# Cell scores per neighborhood\n",
    "d.obs['ncorrs'] = np.repeat(np.nan, d.obs.shape[0])\n",
    "d.obs.loc[d.uns['keptcells'],d.obs.columns=='ncorrs'] = res.ncorrs\n",
    "\n",
    "# Positively-associated cells\n",
    "d.obs['poscells'] = np.repeat(False, d.obs.shape[0])\n",
    "loc_pos_cells = np.arange(d.obs.shape[0])[np.where(d.obs['ncorrs']>FDR_thresh)[0]]\n",
    "d.obs.iloc[loc_pos_cells, np.where(d.obs.columns=='poscells')[0]] = True\n",
    "\n",
    "# Negatively-associated cells\n",
    "d.obs['negcells'] = np.repeat(False, d.obs.shape[0])\n",
    "loc_neg_cells = np.arange(d.obs.shape[0])[np.where(d.obs['ncorrs']<-FDR_thresh)[0]]\n",
    "d.obs.iloc[loc_neg_cells, np.where(d.obs.columns=='negcells')[0]] = True"
   ]
  },
  {
   "cell_type": "code",
   "execution_count": null,
   "metadata": {},
   "outputs": [],
   "source": [
    "from scipy.stats import gaussian_kde"
   ]
  },
  {
   "cell_type": "code",
   "execution_count": null,
   "metadata": {},
   "outputs": [],
   "source": [
    "d.obs['aparna2p0'].loc[d.uns['keptcells']].loc[d.obs['negcells'].loc[d.uns['keptcells']]].value_counts()"
   ]
  },
  {
   "cell_type": "code",
   "execution_count": null,
   "metadata": {},
   "outputs": [],
   "source": [
    "d.obs['aparna2p0'].loc[d.uns['keptcells']].loc[d.obs['poscells'].loc[d.uns['keptcells']]].value_counts()"
   ]
  },
  {
   "cell_type": "code",
   "execution_count": null,
   "metadata": {},
   "outputs": [],
   "source": [
    "# Density of cells associated with phenotype\n",
    "\n",
    "# Plot all cells as backdrop\n",
    "plt.scatter(d.obsm['X_umap'][:,0], d.obsm['X_umap'][:,1], c = \"grey\", \n",
    "       s = 4, alpha = 0.3, cmap = 'cividis')\n",
    "\n",
    "# Density of most positively-associated cells\n",
    "xy = d.obsm['X_umap'][d.obs['poscells'],:].T\n",
    "z = gaussian_kde(xy)(xy)\n",
    "plt.scatter(d.obsm['X_umap'][:,0][d.obs['poscells']], d.obsm['X_umap'][:,1][d.obs['poscells']], \n",
    "           c=z, s = 5, alpha = 0.6, edgecolor='', cmap= \"Reds\")\n",
    "\n",
    "# Density of most negatively-associated cells\n",
    "xy = d.obsm['X_umap'][d.obs['negcells'],:].T\n",
    "z = gaussian_kde(xy)(xy)\n",
    "plt.scatter(d.obsm['X_umap'][:,0][d.obs['negcells']], d.obsm['X_umap'][:,1][d.obs['negcells']],\n",
    "           c=z, s = 5, alpha = 0.6, edgecolor='', cmap = \"Blues\")\n",
    "\n",
    "\n",
    "plt.title(\"Density of Cells Associated with Phenotype\", fontsize=20)\n",
    "plt.savefig('/data/srlab/lrumker/MCSC_Project/mcsc_scratch/tbru_prot.pdf')"
   ]
  },
  {
   "cell_type": "markdown",
   "metadata": {},
   "source": [
    "### Scatterplot of All Per-Neighborhood Scores (Note:  Suboptimal vis. d/t overplotting)"
   ]
  },
  {
   "cell_type": "code",
   "execution_count": null,
   "metadata": {},
   "outputs": [],
   "source": [
    "plt.scatter(*d.obsm['X_umap'][res.kept].T, c = CNA_cellscores, s = 5, alpha = 0.1,\n",
    "           cmap = \"viridis\")\n",
    "plt.colorbar()"
   ]
  },
  {
   "cell_type": "markdown",
   "metadata": {},
   "source": [
    "### Cell Density, Weighted by Score (Helps with overplotting)"
   ]
  },
  {
   "cell_type": "code",
   "execution_count": null,
   "metadata": {},
   "outputs": [],
   "source": [
    "# Density plot by phenotype score\n",
    "x = d.obsm['X_umap'][res.kept][:,0]\n",
    "y = d.obsm['X_umap'][res.kept][:,1]\n",
    "\n",
    "heatmap, xedges, yedges = np.histogram2d(x, y, bins=100, weights = CNA_cellscores) #weights\n",
    "extent = [xedges[0], xedges[-1], yedges[0], yedges[-1]]\n",
    "\n",
    "plt.clf()\n",
    "plt.imshow(heatmap.T, extent=extent, origin='lower', cmap = \"viridis\")\n",
    "plt.title(\"Density, Weighted by Phenotype Score\", fontsize=20)\n",
    "plt.show()"
   ]
  },
  {
   "cell_type": "markdown",
   "metadata": {},
   "source": [
    "### Distribution of per-cell scores in each cannoical cluster\n",
    "\n",
    "Helps screen for interesting heterogeneity!"
   ]
  },
  {
   "cell_type": "code",
   "execution_count": null,
   "metadata": {
    "jupyter": {
     "outputs_hidden": true
    }
   },
   "outputs": [],
   "source": [
    "# Draw the density plot\n",
    "cell_scores = CNA_cellscores\n",
    "for cluster_sel in np.unique(d.obs['aparna2p0_elimsoloclust']):\n",
    "    plt.figure()\n",
    "    sns.distplot(cell_scores[np.where(d.obs['aparna2p0_elimsoloclust'][res.kept]==str(cluster_sel))[0]], hist = False, kde = True,\n",
    "            kde_kws = {'shade': True, 'linewidth': 3},\n",
    "             label = cluster_sel, color = \"g\")"
   ]
  },
  {
   "cell_type": "markdown",
   "metadata": {},
   "source": [
    "### Like above, but now compares in-cluster to non-cluster distributions of per-nh scores"
   ]
  },
  {
   "cell_type": "code",
   "execution_count": null,
   "metadata": {},
   "outputs": [],
   "source": [
    "d.obs['aparna2p0_elimsoloclust'] = [str(d.obs['aparna2p0_elimsoloclust'][i]) for i in np.arange(d.obs.shape[0])] "
   ]
  },
  {
   "cell_type": "code",
   "execution_count": null,
   "metadata": {},
   "outputs": [],
   "source": [
    "cell_phen_assoc = CNA_cellscores\n",
    "for cluster_sel in np.unique(d.obs['aparna2p0_elimsoloclust'][res.kept]):\n",
    "    d1 = {\"Cell_Score\": np.concatenate((cell_phen_assoc[np.where(d.obs['aparna2p0_elimsoloclust'][res.kept].values!=str(cluster_sel))[0]], \n",
    "                         cell_phen_assoc[np.where(d.obs['aparna2p0_elimsoloclust'][res.kept].values==str(cluster_sel))[0]]),\n",
    "                        axis = 0),\n",
    "        \"Cell_Group\": np.concatenate((np.repeat(\"Non-Cluster\", np.sum(d.obs['aparna2p0_elimsoloclust'][res.kept].values!=str(cluster_sel))), \n",
    "                         np.repeat(\"Cluster \"+str(cluster_sel), np.sum(d.obs['aparna2p0_elimsoloclust'][res.kept].values==str(cluster_sel)))),\n",
    "                        axis = 0)}\n",
    "    df = pd.DataFrame(data = d1)\n",
    "    \n",
    "    plt.figure()\n",
    "    cell_groups = ['Non-Cluster', 'Cluster '+cluster_sel]\n",
    "\n",
    "    plt.figure(figsize=(15,7))\n",
    "    # Iterate through the groups\n",
    "    cell_group = 'Non-Cluster'\n",
    "    # Subset to the group\n",
    "    subset = df[df['Cell_Group'] == cell_group]\n",
    "\n",
    "    # Draw the density plot\n",
    "    sns.distplot(subset['Cell_Score'], hist = False, kde = True,\n",
    "                kde_kws = {'shade': True, 'linewidth': 3},\n",
    "                 label = cell_group, color = \"g\")\n",
    "\n",
    "    # Iterate through the groups\n",
    "    cell_group = 'Cluster '+cluster_sel\n",
    "    # Subset to the group\n",
    "    subset = df[df['Cell_Group'] == cell_group]\n",
    "\n",
    "    # Draw the density plot\n",
    "    sns.distplot(subset['Cell_Score'], hist = False, kde = True,\n",
    "                kde_kws = {'shade': True, 'linewidth': 3},\n",
    "                 label = cell_group, color = \"b\")\n",
    "\n",
    "    # Plot formatting\n",
    "    plt.legend(prop={'size': 20})\n",
    "    plt.title('')\n",
    "    plt.xlabel('')\n",
    "    plt.ylabel('')"
   ]
  },
  {
   "cell_type": "code",
   "execution_count": null,
   "metadata": {
    "jupyter": {
     "outputs_hidden": true
    }
   },
   "outputs": [],
   "source": [
    "# What do our NAM PCs even capture?\n",
    "for num_PC in np.arange(20):\n",
    "    plt.figure(figsize=(8,6))\n",
    "    plt.scatter(*d.obsm['X_umap'][res.kept, :].T, c = d.uns['NAMsvdV'][:,num_PC], s = 5, alpha = 0.1,\n",
    "           cmap = \"viridis\")\n",
    "    plt.title(\"NAM PC\"+str(num_PC), fontsize=20)\n",
    "    plt.colorbar()"
   ]
  },
  {
   "cell_type": "code",
   "execution_count": null,
   "metadata": {},
   "outputs": [],
   "source": [
    "# Most negatively associated with phenotype\n",
    "cell_phen_assoc = CNA_cellscores\n",
    "threshold = res.fdr_5p_t\n",
    "plt.figure(figsize=(10,7))\n",
    "neg_assoc_cells = np.where(cell_phen_assoc<-threshold)[0]\n",
    "plt.scatter(*d.obsm['X_umap'][res.kept, :].T, c = cell_phen_assoc<-threshold, s = 4, alpha = 0.3,\n",
    "       cmap = 'cividis')\n",
    "plt.title(\"Cells Negatively Associated with Phenotype\", fontsize=20)\n",
    "plt.colorbar()"
   ]
  },
  {
   "cell_type": "code",
   "execution_count": null,
   "metadata": {},
   "outputs": [],
   "source": [
    "# Density plot by phenotype score\n",
    "x = d.obsm['X_umap'][res.kept,0]\n",
    "y = d.obsm['X_umap'][res.kept,1]\n",
    "\n",
    "threshold = res.fdr_5p_t\n",
    "heatmap, xedges, yedges = np.histogram2d(x, y, bins=100, weights = 1*(cell_phen_assoc<-threshold)) #weights\n",
    "extent = [xedges[0], xedges[-1], yedges[0], yedges[-1]]\n",
    "\n",
    "plt.clf()\n",
    "plt.imshow(heatmap.T, extent=extent, origin='lower', cmap = \"viridis\")\n",
    "plt.title(\"Density of Cells Negatively Associated with Phenotype\", fontsize=20)\n",
    "plt.show()"
   ]
  },
  {
   "cell_type": "code",
   "execution_count": null,
   "metadata": {},
   "outputs": [],
   "source": [
    "# Most strongly associated with phenotype\n",
    "threshold = res.fdr_5p_t\n",
    "plt.figure(figsize=(10,7))\n",
    "pos_assoc_cells = np.where(cell_phen_assoc>threshold)[0]\n",
    "plt.scatter(*d.obsm['X_umap'][res.kept,:].T, c = cell_phen_assoc>threshold, s = 4, alpha = 0.3,\n",
    "       cmap = 'cividis')\n",
    "plt.title(\"Cells Positively Assoc. with Phenotype\", fontsize=20)\n",
    "plt.colorbar()"
   ]
  },
  {
   "cell_type": "code",
   "execution_count": null,
   "metadata": {},
   "outputs": [],
   "source": [
    "# Density plot by phenotype score\n",
    "x = d.obsm['X_umap'][res.kept,0]\n",
    "y = d.obsm['X_umap'][res.kept,1]\n",
    "\n",
    "threshold = res.fdr_5p_t\n",
    "heatmap, xedges, yedges = np.histogram2d(x, y, bins=100, weights = 1*(cell_phen_assoc>threshold)) #weights\n",
    "extent = [xedges[0], xedges[-1], yedges[0], yedges[-1]]\n",
    "\n",
    "plt.clf()\n",
    "plt.imshow(heatmap.T, extent=extent, origin='lower', cmap = \"viridis\")\n",
    "plt.title(\"Density of Positively-Associated Cells\", fontsize=20)\n",
    "plt.show()"
   ]
  },
  {
   "cell_type": "code",
   "execution_count": null,
   "metadata": {},
   "outputs": [],
   "source": [
    "cell_phen_assoc = CNA_cellscores"
   ]
  },
  {
   "cell_type": "code",
   "execution_count": null,
   "metadata": {},
   "outputs": [],
   "source": [
    "# representation of each of Aparna's clusters among min-fdr positively and negatively associated cells\n",
    "# (though Laurie's notebook )\n",
    "\n",
    "aparnaclust = d.obs.aparna2p0.values.copy()\n",
    "\n",
    "mask = np.abs(res.ncorrs) > res.fdr_5p_t\n",
    "ac = pd.Series(aparnaclust[res.kept])\n",
    "\n",
    "print('positive (counts)')\n",
    "counts = ac[mask & (res.ncorrs>0)].value_counts()\n",
    "print(counts)\n",
    "print('proportion of each cluster')\n",
    "fracs = counts / ac.value_counts()\n",
    "print(fracs[~np.isnan(fracs)].sort_values(ascending=False))\n",
    "\n",
    "print('\\nnegative (counts)')\n",
    "counts = ac[mask & (res.ncorrs<0)].value_counts()\n",
    "print(counts)\n",
    "print('proportion of each cluster')\n",
    "fracs = counts / ac.value_counts()\n",
    "print(fracs[~np.isnan(fracs)].sort_values(ascending=False))"
   ]
  },
  {
   "cell_type": "code",
   "execution_count": null,
   "metadata": {},
   "outputs": [],
   "source": [
    "# Color whole cluster by phenotype score, scatterplot\n",
    "cluster_sel = 7\n",
    "plt.figure(figsize=(6,4))\n",
    "cells_in_clust = np.where(data.obs['aparna2p0_elimsoloclust']==str(cluster_sel))[0]\n",
    "plt.scatter(*data.obsm['X_umap'][cells_in_clust,].T, c = cell_phen_assoc[cells_in_clust], s = 4, alpha = 0.3,\n",
    "       cmap = \"viridis\")\n",
    "plt.title(\"Cluster \"+str(cluster_sel), fontsize=20)\n",
    "#plt.xlim(5.5,9)\n",
    "#plt.ylim(-4.5,-1)\n",
    "plt.colorbar()"
   ]
  },
  {
   "cell_type": "code",
   "execution_count": null,
   "metadata": {},
   "outputs": [],
   "source": [
    "neg_assoc_cells = np.where(d.obs['negcells'])[0]\n",
    "pos_assoc_cells = np.where(d.obs['poscells'])[0]"
   ]
  },
  {
   "cell_type": "code",
   "execution_count": null,
   "metadata": {},
   "outputs": [],
   "source": [
    "cluster_sel = 7\n",
    "np.sum(d.obs['aparna2p0'][res.kept]==cluster_sel)"
   ]
  },
  {
   "cell_type": "code",
   "execution_count": null,
   "metadata": {},
   "outputs": [],
   "source": [
    "# Density plot by phenotype score\n",
    "cluster_sel = 18\n",
    "xlim_min = 6\n",
    "xlim_max = 12\n",
    "ylim_min = -2\n",
    "ylim_max = 2\n",
    "plt.figure(figsize=(6,4))\n",
    "cells_in_clust = np.where(d.obs['aparna2p0'][res.kept]==cluster_sel)[0]\n",
    "x = d.obsm['X_umap'][res.kept, :][cells_in_clust,0]\n",
    "y = d.obsm['X_umap'][res.kept, :][cells_in_clust,1]\n",
    "\n",
    "heatmap, xedges, yedges = np.histogram2d(x, y, bins=100) #weights\n",
    "extent = [xedges[0], xedges[-1], yedges[0], yedges[-1]]\n",
    "\n",
    "plt.clf()\n",
    "plt.imshow(heatmap.T, extent=extent, origin='lower', cmap = \"viridis\")\n",
    "plt.title(\"Cluster \"+str(cluster_sel)+ \" All Cells\", fontsize=20)\n",
    "plt.xlim(xlim_min,xlim_max)\n",
    "plt.ylim(ylim_min,ylim_max)\n",
    "#plt.colorbar()\n",
    "plt.show()\n",
    "\n",
    "plt.figure(figsize=(6,4))\n",
    "cells_in_clust = np.where(d.obs['aparna2p0']==cluster_sel)[0]\n",
    "to_show = np.intersect1d(cells_in_clust, pos_assoc_cells)\n",
    "x = d.obsm['X_umap'][to_show,0]\n",
    "y = d.obsm['X_umap'][to_show,1]\n",
    "\n",
    "heatmap, xedges, yedges = np.histogram2d(x, y, bins=100) #weights\n",
    "extent = [xedges[0], xedges[-1], yedges[0], yedges[-1]]\n",
    "\n",
    "plt.clf()\n",
    "plt.imshow(heatmap.T, extent=extent, origin='lower', cmap = \"viridis\")\n",
    "plt.title(\"Cluster \"+str(cluster_sel)+ \" Top Pos. Cells\", fontsize=20)\n",
    "plt.xlim(xlim_min,xlim_max)\n",
    "plt.ylim(ylim_min,ylim_max)\n",
    "#plt.colorbar()\n",
    "plt.show()\n",
    "\n",
    "plt.figure(figsize=(6,4))\n",
    "cells_in_clust = np.where(d.obs['aparna2p0']==cluster_sel)[0]\n",
    "to_show = np.intersect1d(cells_in_clust, neg_assoc_cells)\n",
    "x = d.obsm['X_umap'][to_show,0]\n",
    "y = d.obsm['X_umap'][to_show,1]\n",
    "\n",
    "heatmap, xedges, yedges = np.histogram2d(x, y, bins=100) #weights\n",
    "extent = [xedges[0], xedges[-1], yedges[0], yedges[-1]]\n",
    "\n",
    "plt.clf()\n",
    "plt.imshow(heatmap.T, extent=extent, origin='lower', cmap = \"viridis\")\n",
    "plt.title(\"Cluster \"+str(cluster_sel)+ \" Top Neg. Cells\", fontsize=20)\n",
    "plt.xlim(xlim_min,xlim_max)\n",
    "plt.ylim(ylim_min,ylim_max)\n",
    "#plt.colorbar()\n",
    "plt.show()"
   ]
  },
  {
   "cell_type": "code",
   "execution_count": null,
   "metadata": {},
   "outputs": [],
   "source": [
    "# Color whole cluster by membership in top group\n",
    "threshold = np.percentile(CNA_cellscores, 90)\n",
    "cluster_sel = 12\n",
    "plt.figure(figsize=(6,4))\n",
    "cells_in_clust = np.where(data.obs['leiden2']==str(cluster_sel))[0]\n",
    "plt.scatter(*data.obsm['X_umap'][cells_in_clust,].T, c = cell_phen_assoc[cells_in_clust]>threshold, s = 4, alpha = 0.3,\n",
    "       cmap = 'cividis')\n",
    "plt.title(\"Cluster \"+str(cluster_sel), fontsize=20)\n",
    "plt.xlim(5.5,9)\n",
    "plt.ylim(-4.5,-1)\n",
    "plt.colorbar()"
   ]
  },
  {
   "cell_type": "code",
   "execution_count": null,
   "metadata": {},
   "outputs": [],
   "source": [
    "for cluster_sel in np.unique(data.obs[\"leiden2\"]):\n",
    "    plt.figure(figsize=(6,4))\n",
    "    cells_in_clust = np.where(data.obs['leiden2']==str(cluster_sel))[0]\n",
    "    plt.scatter(*data.obsm['X_umap'][cells_in_clust,].T, c = cell_phen_assoc[cells_in_clust], s = 1, alpha = 0.1,\n",
    "           cmap = \"viridis\")\n",
    "    plt.title(\"Cluster \"+str(cluster_sel), fontsize=20)\n",
    "    plt.colorbar()"
   ]
  },
  {
   "cell_type": "code",
   "execution_count": null,
   "metadata": {},
   "outputs": [],
   "source": [
    "from scipy.stats import gaussian_kde"
   ]
  },
  {
   "cell_type": "code",
   "execution_count": null,
   "metadata": {},
   "outputs": [],
   "source": [
    "# Density plot of most positively-associated cells\n",
    "xy = d.obsm['X_umap'][res.kept,:][pos_assoc_cells,].T\n",
    "z = gaussian_kde(xy)(xy)\n",
    "fig, ax = plt.subplots(figsize=(8, 6))\n",
    "ax.scatter(*d.obsm['X_umap'][res.kept,:][pos_assoc_cells,].T, c=z, s = 5, alpha = 0.6, edgecolor='')\n",
    "ax.set_xlabel('UMAP1', fontsize = 12)\n",
    "ax.set_ylabel('UMAP2', fontsize = 12)\n",
    "plt.xticks(fontsize=12)\n",
    "plt.yticks(fontsize=12)\n",
    "plt.title(\"Density of Cells Most Positively Assoc. with Phenotype\",\n",
    "         fontsize = 15)\n",
    "plt.show()"
   ]
  },
  {
   "cell_type": "code",
   "execution_count": null,
   "metadata": {},
   "outputs": [],
   "source": [
    "# Density plot of most negatively-associated cells\n",
    "xy = d.obsm['X_umap'][res.kept,:][neg_assoc_cells,].T\n",
    "z = gaussian_kde(xy)(xy)\n",
    "fig, ax = plt.subplots(figsize=(8, 6))\n",
    "ax.scatter(*d.obsm['X_umap'][res.kept,:][neg_assoc_cells,].T, c=z, s = 5, alpha = 0.6, edgecolor='')\n",
    "ax.set_xlabel('UMAP1', fontsize = 12)\n",
    "ax.set_ylabel('UMAP2', fontsize = 12)\n",
    "plt.xticks(fontsize=12)\n",
    "plt.yticks(fontsize=12)\n",
    "plt.title(\"Density of Cells Most Negatively Assoc. with Phenotype\",\n",
    "         fontsize = 15)\n",
    "plt.show()"
   ]
  },
  {
   "cell_type": "code",
   "execution_count": null,
   "metadata": {},
   "outputs": [],
   "source": [
    "import anndata as ad"
   ]
  },
  {
   "cell_type": "code",
   "execution_count": null,
   "metadata": {},
   "outputs": [],
   "source": [
    "pos_assoc_data = ad.AnnData(d.X[res.kept,:][pos_assoc_cells,])\n",
    "sc.pp.neighbors(pos_assoc_data)\n",
    "sc.tl.umap(pos_assoc_data)"
   ]
  },
  {
   "cell_type": "code",
   "execution_count": null,
   "metadata": {},
   "outputs": [],
   "source": [
    "data = d"
   ]
  },
  {
   "cell_type": "code",
   "execution_count": null,
   "metadata": {},
   "outputs": [],
   "source": [
    "# Color top 10% cells by cell-type cluster, in original dataset's UMAP\n",
    "data_df = pd.DataFrame({\"X Value\": data.obsm['X_umap'][res.kept, :][pos_assoc_cells,0],\n",
    "                     \"Y Value\": data.obsm['X_umap'][res.kept, :][pos_assoc_cells,1],\n",
    "                     \"Category\": data.obs['leiden2'][res.kept][pos_assoc_cells]})\n",
    "data_df = data_df.sort_values(\"Category\", ascending=False)\n",
    "groups = data_df.groupby(\"Category\", sort=False)\n",
    "\n",
    "fig, ax = plt.subplots(figsize=(10, 6))\n",
    "ax.margins(0.05) \n",
    "palette = np.array(sns.color_palette(\"bright\", len(np.unique(data_df['Category']))))\n",
    "cc = 0 #color counter\n",
    "for name, group in groups:\n",
    "    x_vals = group[\"X Value\"]\n",
    "    y_vals = group[\"Y Value\"]\n",
    "    plt.scatter(x_vals, y_vals, marker=\"o\", label=name, s=3, alpha = 0.6,\n",
    "               c=palette[cc:cc+1,:]) #Used for legend and dots\n",
    "    cc = cc+1\n",
    "plt.legend(bbox_to_anchor=(0.85,0.5), loc=\"center right\", fontsize=12, \n",
    "           bbox_transform=plt.gcf().transFigure, markerscale=2)\n",
    "plt.subplots_adjust(left=0.0, bottom=0.1, right=0.6)\n",
    "ax.set_xlabel('UMAP1', fontsize = 15)\n",
    "ax.set_ylabel('UMAP2', fontsize = 15)\n",
    "plt.xticks(fontsize=15)\n",
    "plt.yticks(fontsize=15)\n",
    "plt.title(\"Cells Most Positively Assoc. with Phenotype\",\n",
    "         fontsize = 18)\n",
    "plt.grid(color='lightgrey', linestyle='-', linewidth=0.5)\n",
    "plt.show()"
   ]
  },
  {
   "cell_type": "code",
   "execution_count": null,
   "metadata": {},
   "outputs": [],
   "source": [
    "# Color top 10% cells by cell-type cluster, after independently UMAPped\n",
    "data_df = pd.DataFrame({\"X Value\": pos_assoc_data.obsm['X_umap'][:,0],\n",
    "                     \"Y Value\": pos_assoc_data.obsm['X_umap'][:,1],\n",
    "                     \"Category\": data.obs['leiden2'][res.kept][pos_assoc_cells]})\n",
    "data_df = data_df.sort_values(\"Category\", ascending=False)\n",
    "groups = data_df.groupby(\"Category\", sort=False)\n",
    "\n",
    "fig, ax = plt.subplots(figsize=(10, 6))\n",
    "ax.margins(0.05) \n",
    "palette = np.array(sns.color_palette(\"bright\", len(np.unique(data_df['Category']))))\n",
    "cc = 0 #color counter\n",
    "for name, group in groups:\n",
    "    x_vals = group[\"X Value\"]\n",
    "    y_vals = group[\"Y Value\"]\n",
    "    plt.scatter(x_vals, y_vals, marker=\"o\", label=name, s=5, alpha = 0.6,\n",
    "               c=palette[cc:cc+1,:]) #Used for legend and dots\n",
    "    cc = cc+1\n",
    "plt.legend(bbox_to_anchor=(0.85,0.5), loc=\"center right\", fontsize=12, \n",
    "           bbox_transform=plt.gcf().transFigure, markerscale=2)\n",
    "plt.subplots_adjust(left=0.0, bottom=0.1, right=0.6)\n",
    "ax.set_xlabel('UMAP1', fontsize = 15)\n",
    "ax.set_ylabel('UMAP2', fontsize = 15)\n",
    "plt.xticks(fontsize=15)\n",
    "plt.yticks(fontsize=15)\n",
    "plt.title(\"Cells Most Positively Assoc. with Phenotype\",\n",
    "         fontsize = 18)\n",
    "plt.grid(color='lightgrey', linestyle='-', linewidth=0.5)\n",
    "plt.show()"
   ]
  },
  {
   "cell_type": "code",
   "execution_count": null,
   "metadata": {},
   "outputs": [],
   "source": [
    "sc.tl.leiden(pos_assoc_data, resolution=0.2)"
   ]
  },
  {
   "cell_type": "code",
   "execution_count": null,
   "metadata": {},
   "outputs": [],
   "source": [
    "# Color top 10% cells by cell-type cluster, after independently UMAPped and clustered\n",
    "data_df = pd.DataFrame({\"X Value\": pos_assoc_data.obsm['X_umap'][:,0],\n",
    "                     \"Y Value\": pos_assoc_data.obsm['X_umap'][:,1],\n",
    "                     \"Category\": pos_assoc_data.obs['leiden']})\n",
    "data_df = data_df.sort_values(\"Category\", ascending=False)\n",
    "groups = data_df.groupby(\"Category\", sort=False)\n",
    "\n",
    "fig, ax = plt.subplots(figsize=(10, 6))\n",
    "ax.margins(0.05) \n",
    "palette = np.array(sns.color_palette(\"husl\", len(np.unique(data_df['Category']))))\n",
    "cc = 0 #color counter\n",
    "for name, group in groups:\n",
    "    x_vals = group[\"X Value\"]\n",
    "    y_vals = group[\"Y Value\"]\n",
    "    plt.scatter(x_vals, y_vals, marker=\"o\", label=name, s=5, alpha = 0.6,\n",
    "               c=palette[cc:cc+1,:]) #Used for legend and dots\n",
    "    cc = cc+1\n",
    "plt.legend(bbox_to_anchor=(0.85,0.5), loc=\"center right\", fontsize=12, \n",
    "           bbox_transform=plt.gcf().transFigure, markerscale=2)\n",
    "plt.subplots_adjust(left=0.0, bottom=0.1, right=0.6)\n",
    "ax.set_xlabel('UMAP1', fontsize = 15)\n",
    "ax.set_ylabel('UMAP2', fontsize = 15)\n",
    "plt.xticks(fontsize=15)\n",
    "plt.yticks(fontsize=15)\n",
    "plt.title(\"Cells Most Positively Assoc. with Phenotype\",\n",
    "         fontsize = 18)\n",
    "plt.grid(color='lightgrey', linestyle='-', linewidth=0.5)\n",
    "plt.show()"
   ]
  },
  {
   "cell_type": "code",
   "execution_count": null,
   "metadata": {},
   "outputs": [],
   "source": [
    "new_clust = 0\n",
    "compare_clusterings = pd.DataFrame({\"Cluster \"+str(new_clust): data.obs['leiden2'][res.kept][pos_assoc_cells][np.where(pos_assoc_data.obs['leiden']==str(new_clust))[0]].value_counts()})\n",
    "for new_clust in np.arange(1, np.max(pos_assoc_data.obs['leiden'].astype(int))+1):\n",
    "    compare_clusterings[\"Cluster \"+str(new_clust)] = data.obs['leiden2'][res.kept][pos_assoc_cells][np.where(pos_assoc_data.obs['leiden'][res.kept]==str(new_clust))[0]].value_counts()"
   ]
  },
  {
   "cell_type": "code",
   "execution_count": null,
   "metadata": {},
   "outputs": [],
   "source": [
    "compare_clusterings_pct = compare_clusterings/np.sum(compare_clusterings, axis = 0)"
   ]
  },
  {
   "cell_type": "code",
   "execution_count": null,
   "metadata": {},
   "outputs": [],
   "source": [
    "counts = compare_clusterings_pct.transpose()\n",
    "fig = plt.figure(figsize=(13,7))\n",
    "ax = fig.add_subplot(111)\n",
    "counts.plot(ax=ax,kind='bar', stacked=True, rot=0)\n",
    "vals = ax.get_yticks()\n",
    "ax.set_yticklabels(['{:3.2f}%'.format(x*100) for x in vals])\n",
    "ax.yaxis.grid(True)\n",
    "ax.set_axisbelow(True)\n",
    "ax.set_xlabel('Clusters Among Top-Scoring Cells', fontsize = 20)\n",
    "ax.set_ylabel('Fraction of Cells from Each Original Cluster', fontsize = 20)\n",
    "plt.xticks(fontsize=20)\n",
    "plt.yticks(fontsize=20)\n",
    "plt.title(\"Cells Most Positively Assoc. with Phenotype\",\n",
    "         fontsize = 30)\n",
    "plt.show()"
   ]
  },
  {
   "cell_type": "code",
   "execution_count": null,
   "metadata": {},
   "outputs": [],
   "source": [
    "neg_assoc_data = ad.AnnData(data.X[neg_assoc_cells,])\n",
    "sc.pp.neighbors(neg_assoc_data)\n",
    "sc.tl.umap(neg_assoc_data)"
   ]
  },
  {
   "cell_type": "code",
   "execution_count": null,
   "metadata": {},
   "outputs": [],
   "source": [
    "# Color bottom 10% cells by cell-type cluster, in original dataset's UMAP\n",
    "data_df = pd.DataFrame({\"X Value\": data.obsm['X_umap'][neg_assoc_cells,0],\n",
    "                     \"Y Value\": data.obsm['X_umap'][neg_assoc_cells,1],\n",
    "                     \"Category\": data.obs['leiden2'][neg_assoc_cells]})\n",
    "data_df = data_df.sort_values(\"Category\", ascending=False)\n",
    "groups = data_df.groupby(\"Category\", sort=False)\n",
    "\n",
    "fig, ax = plt.subplots(figsize=(10, 6))\n",
    "ax.margins(0.05) \n",
    "palette = np.array(sns.color_palette(\"bright\", len(np.unique(data_df['Category']))))\n",
    "cc = 0 #color counter\n",
    "for name, group in groups:\n",
    "    x_vals = group[\"X Value\"]\n",
    "    y_vals = group[\"Y Value\"]\n",
    "    plt.scatter(x_vals, y_vals, marker=\"o\", label=name, s=3, alpha = 0.6,\n",
    "               c=palette[cc:cc+1,:]) #Used for legend and dots\n",
    "    cc = cc+1\n",
    "plt.legend(bbox_to_anchor=(0.85,0.5), loc=\"center right\", fontsize=12, \n",
    "           bbox_transform=plt.gcf().transFigure, markerscale=2)\n",
    "plt.subplots_adjust(left=0.0, bottom=0.1, right=0.6)\n",
    "ax.set_xlabel('UMAP1', fontsize = 15)\n",
    "ax.set_ylabel('UMAP2', fontsize = 15)\n",
    "plt.xticks(fontsize=15)\n",
    "plt.yticks(fontsize=15)\n",
    "plt.title(\"Cells Most Negatively Assoc. with Phenotype\",\n",
    "         fontsize = 18)\n",
    "plt.grid(color='lightgrey', linestyle='-', linewidth=0.5)\n",
    "plt.show()"
   ]
  },
  {
   "cell_type": "code",
   "execution_count": null,
   "metadata": {},
   "outputs": [],
   "source": [
    "# Color bottom 10% cells by cell-type cluster, after independently UMAPped\n",
    "data_df = pd.DataFrame({\"X Value\": neg_assoc_data.obsm['X_umap'][:,0],\n",
    "                     \"Y Value\": neg_assoc_data.obsm['X_umap'][:,1],\n",
    "                     \"Category\": data.obs['leiden2'][neg_assoc_cells]})\n",
    "data_df = data_df.sort_values(\"Category\", ascending=False)\n",
    "groups = data_df.groupby(\"Category\", sort=False)\n",
    "\n",
    "fig, ax = plt.subplots(figsize=(10, 6))\n",
    "ax.margins(0.05) \n",
    "palette = np.array(sns.color_palette(\"bright\", len(np.unique(data_df['Category']))))\n",
    "cc = 0 #color counter\n",
    "for name, group in groups:\n",
    "    x_vals = group[\"X Value\"]\n",
    "    y_vals = group[\"Y Value\"]\n",
    "    plt.scatter(x_vals, y_vals, marker=\"o\", label=name, s=5, alpha = 0.6,\n",
    "               c=palette[cc:cc+1,:]) #Used for legend and dots\n",
    "    cc = cc+1\n",
    "plt.legend(bbox_to_anchor=(0.85,0.5), loc=\"center right\", fontsize=12, \n",
    "           bbox_transform=plt.gcf().transFigure, markerscale=2)\n",
    "plt.subplots_adjust(left=0.0, bottom=0.1, right=0.6)\n",
    "ax.set_xlabel('UMAP1', fontsize = 15)\n",
    "ax.set_ylabel('UMAP2', fontsize = 15)\n",
    "plt.xticks(fontsize=15)\n",
    "plt.yticks(fontsize=15)\n",
    "plt.title(\"Cells Most Negatively Assoc. with Phenotype\",\n",
    "         fontsize = 18)\n",
    "plt.grid(color='lightgrey', linestyle='-', linewidth=0.5)\n",
    "plt.show()"
   ]
  },
  {
   "cell_type": "code",
   "execution_count": null,
   "metadata": {},
   "outputs": [],
   "source": [
    "sc.tl.leiden(neg_assoc_data, resolution=0.2)"
   ]
  },
  {
   "cell_type": "code",
   "execution_count": null,
   "metadata": {},
   "outputs": [],
   "source": [
    "# Color bottom 10% cells by cell-type cluster, after independently UMAPped and clustered\n",
    "data_df = pd.DataFrame({\"X Value\": neg_assoc_data.obsm['X_umap'][:,0],\n",
    "                     \"Y Value\": neg_assoc_data.obsm['X_umap'][:,1],\n",
    "                     \"Category\": neg_assoc_data.obs['leiden']})\n",
    "data_df = data_df.sort_values(\"Category\", ascending=False)\n",
    "groups = data_df.groupby(\"Category\", sort=False)\n",
    "\n",
    "fig, ax = plt.subplots(figsize=(10, 6))\n",
    "ax.margins(0.05) \n",
    "palette = np.array(sns.color_palette(\"husl\", len(np.unique(data_df['Category']))))\n",
    "cc = 0 #color counter\n",
    "for name, group in groups:\n",
    "    x_vals = group[\"X Value\"]\n",
    "    y_vals = group[\"Y Value\"]\n",
    "    plt.scatter(x_vals, y_vals, marker=\"o\", label=name, s=5, alpha = 0.6,\n",
    "               c=palette[cc:cc+1,:]) #Used for legend and dots\n",
    "    cc = cc+1\n",
    "plt.legend(bbox_to_anchor=(0.85,0.5), loc=\"center right\", fontsize=12, \n",
    "           bbox_transform=plt.gcf().transFigure, markerscale=2)\n",
    "plt.subplots_adjust(left=0.0, bottom=0.1, right=0.6)\n",
    "ax.set_xlabel('UMAP1', fontsize = 15)\n",
    "ax.set_ylabel('UMAP2', fontsize = 15)\n",
    "plt.xticks(fontsize=15)\n",
    "plt.yticks(fontsize=15)\n",
    "plt.title(\"Cells Most Negatively Assoc. with Phenotype\",\n",
    "         fontsize = 18)\n",
    "plt.grid(color='lightgrey', linestyle='-', linewidth=0.5)\n",
    "plt.show()"
   ]
  },
  {
   "cell_type": "code",
   "execution_count": null,
   "metadata": {},
   "outputs": [],
   "source": [
    "new_clust = 0\n",
    "compare_clusterings = pd.DataFrame({\"Cluster \"+str(new_clust): data.obs['leiden2'][neg_assoc_cells][np.where(neg_assoc_data.obs['leiden']==str(new_clust))[0]].value_counts()})\n",
    "for new_clust in np.arange(1, np.max(neg_assoc_data.obs['leiden'].astype(int))+1):\n",
    "    compare_clusterings[\"Cluster \"+str(new_clust)] = data.obs['leiden2'][neg_assoc_cells][np.where(neg_assoc_data.obs['leiden']==str(new_clust))[0]].value_counts()\n",
    "    \n",
    "    "
   ]
  },
  {
   "cell_type": "code",
   "execution_count": null,
   "metadata": {},
   "outputs": [],
   "source": [
    "compare_clusterings_pct = compare_clusterings/np.sum(compare_clusterings, axis = 0)"
   ]
  },
  {
   "cell_type": "code",
   "execution_count": null,
   "metadata": {},
   "outputs": [],
   "source": [
    "counts = compare_clusterings_pct.transpose()\n",
    "fig = plt.figure(figsize=(10,7))\n",
    "ax = fig.add_subplot(111)\n",
    "counts.plot(ax=ax,kind='bar', stacked=True, rot=0)\n",
    "vals = ax.get_yticks()\n",
    "ax.set_yticklabels(['{:3.2f}%'.format(x*100) for x in vals])\n",
    "ax.yaxis.grid(True)\n",
    "ax.set_axisbelow(True)\n",
    "ax.set_xlabel('Clusters Among Top-Scoring Cells', fontsize = 20)\n",
    "ax.set_ylabel('Fraction of Cells from Each Original Cluster', fontsize = 20)\n",
    "plt.xticks(fontsize=20)\n",
    "plt.yticks(fontsize=20)\n",
    "plt.title(\"Cells Most Negatively Assoc. with Phenotype\",\n",
    "         fontsize = 30)\n",
    "plt.show()"
   ]
  },
  {
   "cell_type": "code",
   "execution_count": null,
   "metadata": {},
   "outputs": [],
   "source": [
    "compare_clusterings"
   ]
  },
  {
   "cell_type": "code",
   "execution_count": null,
   "metadata": {},
   "outputs": [],
   "source": [
    "data.obs['leiden2'].value_counts()"
   ]
  },
  {
   "cell_type": "code",
   "execution_count": null,
   "metadata": {},
   "outputs": [],
   "source": [
    "to_export = data.frame(\"corrs\" = res.ncorrs, \n",
    "                       \"pos_assoc\" = res.corrs>threshold, \n",
    "                       \"neg_assoc\" = res.corrs<-threshold)"
   ]
  }
 ],
 "metadata": {
  "kernelspec": {
   "display_name": "Python 3",
   "language": "python",
   "name": "python3"
  },
  "language_info": {
   "codemirror_mode": {
    "name": "ipython",
    "version": 3
   },
   "file_extension": ".py",
   "mimetype": "text/x-python",
   "name": "python",
   "nbconvert_exporter": "python",
   "pygments_lexer": "ipython3",
   "version": "3.7.6"
  }
 },
 "nbformat": 4,
 "nbformat_minor": 4
}
