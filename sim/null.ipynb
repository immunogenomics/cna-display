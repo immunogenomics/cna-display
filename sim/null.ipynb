{
 "cells": [
  {
   "cell_type": "code",
   "execution_count": 3,
   "metadata": {
    "Collapsed": "false"
   },
   "outputs": [],
   "source": [
    "import pandas as pd\n",
    "import numpy as np\n",
    "import matplotlib.pyplot as plt\n",
    "import pickle, glob\n",
    "from statutils import vis # to use this, execute ``git clone git@github.com:yakirr/statutils.git`` and add to python path\n",
    "import pp, pf\n",
    "plt.style.use('../pp.mplstyle')"
   ]
  },
  {
   "cell_type": "code",
   "execution_count": 4,
   "metadata": {
    "Collapsed": "false"
   },
   "outputs": [],
   "source": [
    "dset = 'harmcca20'\n",
    "methods = [\n",
    "    'CNAfast',\n",
    "    'MASC_leiden0p2',\n",
    "    'MASC_leiden1',\n",
    "    'MASC_leiden2',\n",
    "    'MASC_leiden5',\n",
    "]"
   ]
  },
  {
   "cell_type": "code",
   "execution_count": 5,
   "metadata": {
    "Collapsed": "false"
   },
   "outputs": [],
   "source": [
    "def read(simname):\n",
    "    df = pd.DataFrame()\n",
    "\n",
    "    folder = pf.simresults(dset, simname)\n",
    "    for m in methods:\n",
    "        rs = [\n",
    "                pickle.load(open(f, 'rb'))\n",
    "                for f in glob.glob('{}/{}/*.p'.format(folder, m))\n",
    "            ]\n",
    "        rs = pd.DataFrame({\n",
    "            'id':[r.id for r in rs],\n",
    "            'p':[r.p for r in rs],\n",
    "            'interp':[r.interp for r in rs],\n",
    "            'pheno':[r.pheno for r in rs],\n",
    "            'method':[m for r in rs]\n",
    "        })\n",
    "        df = df.append(rs, ignore_index=True)\n",
    "    return df\n",
    "\n",
    "def aggregate(df):\n",
    "    return df[['id','method','p','interp']].pivot(index='id', columns='method')"
   ]
  },
  {
   "cell_type": "code",
   "execution_count": 7,
   "metadata": {
    "Collapsed": "false"
   },
   "outputs": [
    {
     "name": "stdout",
     "output_type": "stream",
     "text": [
      "null_vanilla\n",
      "null_batch\n"
     ]
    },
    {
     "data": {
      "image/png": "[encoded data removed]",
      "text/plain": [
       "<Figure size 360x180 with 2 Axes>"
      ]
     },
     "metadata": {
      "needs_background": "light"
     },
     "output_type": "display_data"
    }
   ],
   "source": [
    "fig, axs = plt.subplots(1,2, figsize=(5,2.5))\n",
    "\n",
    "for i, simname in enumerate(['null_vanilla', 'null_batch']):\n",
    "    ax = axs[i]\n",
    "    print(simname)\n",
    "    df = read(simname)\n",
    "    results = aggregate(df)\n",
    "    t1e, ci = (results.p.CNAfast <= 0.05).mean(), 2*(results.p.CNAfast <= 0.05).std()/np.sqrt(len(results))\n",
    "    vis.qqplot(results.p.CNAfast, errorbars=True, ax=ax, **pp.qqprops)\n",
    "    ax.text(0.25, 3.5, 'type I error at $\\\\alpha=0.05$:\\n{:.3f} $\\\\pm$ {:.3f}'.format(t1e, ci), color='b', fontsize='small')\n",
    "plt.tight_layout()\n",
    "plt.savefig('../_figs/suppfig.nullqq.pdf')"
   ]
  }
 ],
 "metadata": {
  "kernelspec": {
   "display_name": "Python 3",
   "language": "python",
   "name": "python3"
  },
  "language_info": {
   "codemirror_mode": {
    "name": "ipython",
    "version": 3
   },
   "file_extension": ".py",
   "mimetype": "text/x-python",
   "name": "python",
   "nbconvert_exporter": "python",
   "pygments_lexer": "ipython3",
   "version": "3.7.3"
  }
 },
 "nbformat": 4,
 "nbformat_minor": 4
}
