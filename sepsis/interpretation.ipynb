{
 "cells": [
  {
   "cell_type": "markdown",
   "metadata": {},
   "source": [
    "# Interpretation Notebook"
   ]
  },
  {
   "cell_type": "markdown",
   "metadata": {},
   "source": [
    "### Load Notch Results"
   ]
  },
  {
   "cell_type": "code",
   "execution_count": null,
   "metadata": {},
   "outputs": [],
   "source": [
    "res = read.csv(\"/data/srlab/lrumker/MCSC_Project/mcsc_scratch/sepsisres.csv\")"
   ]
  },
  {
   "cell_type": "code",
   "execution_count": null,
   "metadata": {},
   "outputs": [],
   "source": [
    "head(res)"
   ]
  },
  {
   "cell_type": "code",
   "execution_count": null,
   "metadata": {},
   "outputs": [],
   "source": [
    "gene_expr = t(readRDS('/data/srlab/jkang/cna_sepsis/9_Sepsis_CNA/x_sparse.RDS'))"
   ]
  },
  {
   "cell_type": "code",
   "execution_count": null,
   "metadata": {},
   "outputs": [],
   "source": [
    "gene_expr[1:5,1:5]"
   ]
  },
  {
   "cell_type": "code",
   "execution_count": null,
   "metadata": {},
   "outputs": [],
   "source": [
    "# Confirm cell order\n",
    "sum(res$index==colnames(gene_expr))"
   ]
  },
  {
   "cell_type": "markdown",
   "metadata": {},
   "source": [
    "### Compute Gene Correlations"
   ]
  },
  {
   "cell_type": "code",
   "execution_count": null,
   "metadata": {},
   "outputs": [],
   "source": [
    "# Examine correlations only with variable genes\n",
    "n_var_genes = 5000\n",
    "gene_sds = apply(gene_expr, 1, FUN = sd)\n",
    "gene_sds = gene_sds[order(gene_sds, decreasing = TRUE)]"
   ]
  },
  {
   "cell_type": "code",
   "execution_count": null,
   "metadata": {},
   "outputs": [],
   "source": [
    "var_genes = names(gene_sds)[1:n_var_genes]\n",
    "var_gene_expr = gene_expr[match(var_genes, rownames(gene_expr)),]"
   ]
  },
  {
   "cell_type": "code",
   "execution_count": null,
   "metadata": {},
   "outputs": [],
   "source": [
    "cna_scores = res$ncorrs"
   ]
  },
  {
   "cell_type": "code",
   "execution_count": null,
   "metadata": {},
   "outputs": [],
   "source": [
    "dim(var_gene_expr)"
   ]
  },
  {
   "cell_type": "code",
   "execution_count": null,
   "metadata": {},
   "outputs": [],
   "source": [
    "corrs = cor(t(as.matrix(var_gene_expr)), cna_scores)\n",
    "names(corrs) = var_genes"
   ]
  },
  {
   "cell_type": "code",
   "execution_count": null,
   "metadata": {},
   "outputs": [],
   "source": [
    "rankList = corrs"
   ]
  },
  {
   "cell_type": "markdown",
   "metadata": {},
   "source": [
    "### Load Genesets"
   ]
  },
  {
   "cell_type": "code",
   "execution_count": null,
   "metadata": {},
   "outputs": [],
   "source": [
    "library(fgsea)\n",
    "library(GSA)"
   ]
  },
  {
   "cell_type": "code",
   "execution_count": null,
   "metadata": {},
   "outputs": [],
   "source": [
    "geneset_files = c(\"/data/srlab/lrumker/MSigDB_Sets/c7.all.v7.0.symbols.gmt.txt\", #Immune\n",
    "\"/data/srlab/lrumker/MSigDB_Sets/h.all.v7.0.symbols.gmt.txt\", #Hallmark\n",
    "\"/data/srlab/lrumker/MSigDB_Sets/c2.all.v7.0.symbols.gmt.txt\") #Cannonical"
   ]
  },
  {
   "cell_type": "code",
   "execution_count": null,
   "metadata": {},
   "outputs": [],
   "source": [
    "GeneSet_SizeBound_Upper = 500 # Maximum gene set size considered\n",
    "GeneSet_SizeBound_Lower = 0 # Minimum gene set size considered"
   ]
  },
  {
   "cell_type": "code",
   "execution_count": null,
   "metadata": {},
   "outputs": [],
   "source": [
    "parseGeneSetGMT <-function(filepath, known_genes, sizeBound_Upper, sizeBound_Lower){\n",
    "  Gene_Sets_DB = GSA.read.gmt(filepath)\n",
    "  GeneSet_sizes = sapply(Gene_Sets_DB$genesets,length)\n",
    "  recognized_genes = matrix(NA, nrow=length(GeneSet_sizes), ncol = max(GeneSet_sizes))\n",
    "  for(i in c(1:length(GeneSet_sizes))){\n",
    "    recognized_genes[i,c(1:GeneSet_sizes[i])] = Gene_Sets_DB$genesets[[i]]\n",
    "  }\n",
    "  recognized_genes = matrix(is.element(recognized_genes, known_genes), ncol = ncol(recognized_genes))\n",
    "  GeneSet_sizes = apply(recognized_genes, 1, sum)\n",
    "  retain_GeneSet = (GeneSet_sizes>=sizeBound_Lower)&(GeneSet_sizes<=sizeBound_Upper)\n",
    "  Gene_Sets_DB$genesets = Gene_Sets_DB$genesets[retain_GeneSet]\n",
    "  Gene_Sets_DB$geneset.names = Gene_Sets_DB$geneset.names[retain_GeneSet]\n",
    "  Gene_Sets_DB$geneset.descriptions = Gene_Sets_DB$geneset.descriptions[retain_GeneSet]\n",
    "  Gene_Sets_DB$geneset.sizes = GeneSet_sizes[retain_GeneSet]\n",
    "  return(Gene_Sets_DB)\n",
    "}"
   ]
  },
  {
   "cell_type": "code",
   "execution_count": null,
   "metadata": {},
   "outputs": [],
   "source": [
    "i_file = 3\n",
    "Gene_Sets_DB = parseGeneSetGMT(geneset_files[i_file], names(rankList), GeneSet_SizeBound_Upper,\n",
    "                               GeneSet_SizeBound_Lower)\n",
    "input_genesets = Gene_Sets_DB$genesets\n",
    "names(input_genesets) = Gene_Sets_DB$geneset.names\n"
   ]
  },
  {
   "cell_type": "code",
   "execution_count": null,
   "metadata": {},
   "outputs": [],
   "source": [
    "FGSEA_output = fgsea(input_genesets, rankList, nperm=100000, \n",
    "                         minSize = 15, maxSize = 500, nproc = 0,\n",
    "                         gseaParam = 1, BPPARAM = NULL)\n",
    "FGSEA_output = FGSEA_output[order(FGSEA_output$padj),]"
   ]
  },
  {
   "cell_type": "code",
   "execution_count": null,
   "metadata": {},
   "outputs": [],
   "source": [
    "#FGSEA_output[grep(\"MONO\", FGSEA_output$pathway),]"
   ]
  },
  {
   "cell_type": "code",
   "execution_count": null,
   "metadata": {},
   "outputs": [],
   "source": [
    "FGSEA_output_sig = FGSEA_output[which(FGSEA_output$padj<0.05),]"
   ]
  },
  {
   "cell_type": "code",
   "execution_count": null,
   "metadata": {},
   "outputs": [],
   "source": [
    "enriched_pathways = FGSEA_output_sig[grep(\"PID\", FGSEA_output_sig$pathway), c(1:4)]"
   ]
  },
  {
   "cell_type": "code",
   "execution_count": null,
   "metadata": {},
   "outputs": [],
   "source": [
    "stored_expr = matrix(rep(NA, ncol(gene_expr)),ncol = 1)\n",
    "for(i_pathway in c(1:nrow(enriched_pathways))){\n",
    "    print(enriched_pathways$pathway[i_pathway])\n",
    "    i_geneset = match(enriched_pathways$pathway[i_pathway], Gene_Sets_DB$geneset.names)\n",
    "    geneset_genes = Gene_Sets_DB$genesets[i_geneset][[1]]\n",
    "    genes_loc = match(geneset_genes, rownames(gene_expr))\n",
    "    genes_loc = genes_loc[!is.na(genes_loc)]\n",
    "    geneset_expr = apply(gene_expr[genes_loc,], 2, FUN = sum)\n",
    "    stored_expr = cbind(stored_expr, geneset_expr)\n",
    "}"
   ]
  },
  {
   "cell_type": "code",
   "execution_count": null,
   "metadata": {},
   "outputs": [],
   "source": [
    "stored_expr = stored_expr[,-c(1)]"
   ]
  },
  {
   "cell_type": "code",
   "execution_count": null,
   "metadata": {},
   "outputs": [],
   "source": [
    "colnames(stored_expr) = enriched_pathways$pathway"
   ]
  },
  {
   "cell_type": "code",
   "execution_count": null,
   "metadata": {},
   "outputs": [],
   "source": [
    "write.table(stored_expr,\n",
    "            \"/data/srlab/lrumker/MCSC_Project/mcsc_scratch/sepsis_geneset_scores.csv\",\n",
    "           sep = \",\")\n"
   ]
  },
  {
   "cell_type": "code",
   "execution_count": null,
   "metadata": {},
   "outputs": [],
   "source": [
    "write.table(enriched_pathways,\n",
    "            \"/data/srlab/lrumker/MCSC_Project/mcsc_scratch/sepsis_enriched_pathways.csv\",\n",
    "           sep = \",\")"
   ]
  },
  {
   "cell_type": "markdown",
   "metadata": {},
   "source": [
    "# Identify population-characteristic genes"
   ]
  },
  {
   "cell_type": "code",
   "execution_count": null,
   "metadata": {},
   "outputs": [],
   "source": [
    "library(presto)"
   ]
  },
  {
   "cell_type": "code",
   "execution_count": null,
   "metadata": {},
   "outputs": [],
   "source": [
    "head(res)"
   ]
  },
  {
   "cell_type": "code",
   "execution_count": null,
   "metadata": {},
   "outputs": [],
   "source": [
    "only_monos_loc = which(res$cell_state %in%c('MS1', 'MS2', 'MS3', 'MS4'))"
   ]
  },
  {
   "cell_type": "code",
   "execution_count": null,
   "metadata": {},
   "outputs": [],
   "source": [
    "length(res$poscells)"
   ]
  },
  {
   "cell_type": "code",
   "execution_count": null,
   "metadata": {},
   "outputs": [],
   "source": [
    "wilcox_res <- wilcoxauc(var_gene_expr[,only_monos_loc], (res$poscells[only_monos_loc]==\"True\")*1)"
   ]
  },
  {
   "cell_type": "code",
   "execution_count": null,
   "metadata": {},
   "outputs": [],
   "source": [
    "wilcox_res = wilcox_res[which(wilcox_res$padj<0.05),]"
   ]
  },
  {
   "cell_type": "code",
   "execution_count": null,
   "metadata": {},
   "outputs": [],
   "source": [
    "wilcox_res = wilcox_res[which(wilcox_res$group==\"1\"),]"
   ]
  },
  {
   "cell_type": "code",
   "execution_count": null,
   "metadata": {},
   "outputs": [],
   "source": [
    "wilcox_res_pos = wilcox_res[which(wilcox_res$logFC>0),]\n",
    "wilcox_res_neg = wilcox_res[which(wilcox_res$logFC<0),]"
   ]
  },
  {
   "cell_type": "code",
   "execution_count": null,
   "metadata": {},
   "outputs": [],
   "source": [
    "wilcox_res_pos = wilcox_res_pos[order(wilcox_res_pos$padj, decreasing = FALSE),]"
   ]
  },
  {
   "cell_type": "code",
   "execution_count": null,
   "metadata": {},
   "outputs": [],
   "source": [
    "wilcox_res_toppos = wilcox_res_pos[which(wilcox_res_pos$padj==0),]"
   ]
  },
  {
   "cell_type": "code",
   "execution_count": null,
   "metadata": {},
   "outputs": [],
   "source": [
    "library(ggplot2)"
   ]
  },
  {
   "cell_type": "code",
   "execution_count": null,
   "metadata": {},
   "outputs": [],
   "source": [
    "# our pop is HLA-DR-mid, CD14++, CD16-/+\n",
    "# classical (CD14++CD16−)\n",
    "# intermediate (CD14++CD16+)\n",
    "# TOP: nonclassical (CD14+CD16++) monocytes"
   ]
  },
  {
   "cell_type": "code",
   "execution_count": null,
   "metadata": {},
   "outputs": [],
   "source": [
    "# Color by qsec values\n",
    "plot_df = data.frame(\"tSNE1\" = res$tSNE1[ix], \"tSNE2\"= res$tSNE2[ix],\n",
    "                     \"gene_expr\" = (res$poscells[ix]==\"True\")*1)\n",
    "sp2<-ggplot(plot_df, aes(x=tSNE1, y=tSNE2, color=gene_expr)) + geom_point()\n",
    "# Change the low and high colors\n",
    "# Sequential color scheme\n",
    "sp2+scale_color_gradient(low=\"blue\", high=\"red\")"
   ]
  },
  {
   "cell_type": "code",
   "execution_count": null,
   "metadata": {},
   "outputs": [],
   "source": [
    "# Color by qsec values\n",
    "plot_df = data.frame(\"tSNE1\" = res$tSNE1[ix], \"tSNE2\"= res$tSNE2[ix],\n",
    "                     \"gene_expr\" = var_gene_expr[which(var_genes=='CD14'),ix])\n",
    "sp2<-ggplot(plot_df, aes(x=tSNE1, y=tSNE2, color=gene_expr)) + geom_point()\n",
    "# Change the low and high colors\n",
    "# Sequential color scheme\n",
    "sp2+scale_color_gradient(low=\"blue\", high=\"red\")"
   ]
  },
  {
   "cell_type": "code",
   "execution_count": null,
   "metadata": {},
   "outputs": [],
   "source": [
    "# Color by qsec values\n",
    "plot_df = data.frame(\"tSNE1\" = res$tSNE1[ix], \"tSNE2\"= res$tSNE2[ix],\n",
    "                     \"gene_expr\" = var_gene_expr[which(var_genes=='FCGR3A'),ix])\n",
    "sp2<-ggplot(plot_df, aes(x=tSNE1, y=tSNE2, color=gene_expr)) + geom_point()\n",
    "# Change the low and high colors\n",
    "# Sequential color scheme\n",
    "sp2+scale_color_gradient(low=\"blue\", high=\"red\")"
   ]
  },
  {
   "cell_type": "code",
   "execution_count": null,
   "metadata": {},
   "outputs": [],
   "source": [
    "# Color by summed HLA expr values\n",
    "summed_HLA = apply(var_gene_expr[which(var_genes %in%c('HLA-DRA','HLA-DRB1','HLA-DRB5')),ix], 2, sum)\n",
    "plot_df = data.frame(\"tSNE1\" = res$tSNE1[ix], \"tSNE2\"= res$tSNE2[ix],\n",
    "                     \"gene_expr\" = summed_HLA)\n",
    "sp2<-ggplot(plot_df, aes(x=tSNE1, y=tSNE2, color=gene_expr)) + geom_point()\n",
    "# Change the low and high colors\n",
    "# Sequential color scheme\n",
    "sp2+scale_color_gradient(low=\"blue\", high=\"red\")"
   ]
  },
  {
   "cell_type": "code",
   "execution_count": null,
   "metadata": {},
   "outputs": [],
   "source": [
    "our pop is HLA-DR-mid, CD14+, CD16-"
   ]
  },
  {
   "cell_type": "code",
   "execution_count": null,
   "metadata": {},
   "outputs": [],
   "source": [
    "# Color by qsec values\n",
    "plot_df = data.frame(\"tSNE1\" = res$tSNE1[ix], \"tSNE2\"= res$tSNE2[ix],\n",
    "                     \"gene_expr\" = var_gene_expr[which(var_genes=='SLAN'),ix])\n",
    "sp2<-ggplot(plot_df, aes(x=tSNE1, y=tSNE2, color=gene_expr)) + geom_point()\n",
    "# Change the low and high colors\n",
    "# Sequential color scheme\n",
    "sp2+scale_color_gradient(low=\"blue\", high=\"red\")"
   ]
  },
  {
   "cell_type": "code",
   "execution_count": null,
   "metadata": {},
   "outputs": [],
   "source": [
    "wilcox_res_toppos[order(wilcox_res_toppos$logFC, decreasing = TRUE),]"
   ]
  },
  {
   "cell_type": "code",
   "execution_count": null,
   "metadata": {},
   "outputs": [],
   "source": [
    "intermediate_mono_genes = c(\"LYZ\", \"S100A8\", \"CD14\", \"S100A10\", \"HLA-DRA\", \"CD74\", \"IFI30\", \"HLA-DPB1\", \n",
    "                            \"CPV\", \"FCGR3A\")"
   ]
  },
  {
   "cell_type": "code",
   "execution_count": null,
   "metadata": {},
   "outputs": [],
   "source": [
    "i_intermediate_mono_genes = c()\n",
    "for(i in c(1:length(intermediate_mono_genes))){\n",
    "    i_intermediate_mono_genes = c(i_intermediate_mono_genes, grep(intermediate_mono_genes[i], wilcox_res$feature))\n",
    "}"
   ]
  },
  {
   "cell_type": "code",
   "execution_count": null,
   "metadata": {},
   "outputs": [],
   "source": [
    "wilcox_res[i_intermediate_mono_genes,c(1,3,4, 6, 8:10)]"
   ]
  }
 ],
 "metadata": {
  "kernelspec": {
   "display_name": "R",
   "language": "R",
   "name": "ir"
  },
  "language_info": {
   "codemirror_mode": "r",
   "file_extension": ".r",
   "mimetype": "text/x-r-source",
   "name": "R",
   "pygments_lexer": "r",
   "version": "3.6.1"
  }
 },
 "nbformat": 4,
 "nbformat_minor": 4
}
