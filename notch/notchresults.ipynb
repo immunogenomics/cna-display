{
 "cells": [
  {
   "cell_type": "markdown",
   "metadata": {},
   "source": [
    "# RA - Notch Dataset Analysis"
   ]
  },
  {
   "cell_type": "code",
   "execution_count": null,
   "metadata": {},
   "outputs": [],
   "source": [
    "import sys\n",
    "sys.path.append(\"/data/srlab/lrumker/MCSC_Project/cna-display/\")"
   ]
  },
  {
   "cell_type": "code",
   "execution_count": null,
   "metadata": {},
   "outputs": [],
   "source": [
    "import sys\n",
    "sys.path.append(\"/data/srlab/lrumker/MCSC_Project/statutils/\")"
   ]
  },
  {
   "cell_type": "code",
   "execution_count": null,
   "metadata": {
    "Collapsed": "false"
   },
   "outputs": [],
   "source": [
    "import scanpy as sc\n",
    "import numpy as np\n",
    "import pandas as pd\n",
    "import matplotlib.pyplot as plt\n",
    "import scipy.stats as st\n",
    "import cna\n",
    "import pp, pf\n",
    "plt.style.use('../pp.mplstyle')\n",
    "np.random.seed(0) # for reproducibility"
   ]
  },
  {
   "cell_type": "code",
   "execution_count": null,
   "metadata": {},
   "outputs": [],
   "source": [
    "import statutils\n",
    "import vis"
   ]
  },
  {
   "cell_type": "markdown",
   "metadata": {},
   "source": [
    "## Read Data"
   ]
  },
  {
   "cell_type": "code",
   "execution_count": null,
   "metadata": {},
   "outputs": [],
   "source": [
    "print('Reading')\n",
    "d = cna.read(\"/data/srlab1/laurie-yakir/notch.real/notch_CNAready.h5ad\")"
   ]
  },
  {
   "cell_type": "code",
   "execution_count": null,
   "metadata": {},
   "outputs": [],
   "source": [
    "# Copy information from cell metadata to sample metadata\n",
    "# Takes mean per-sample across cells \n",
    "d.obs_to_sample(['nUMI', 'nGene', 'percent_mito', 'score_notch', 'time'])\n",
    "\n",
    "res = cna.tl._association.association(d, #dataset \n",
    "                                      d.samplem.pheno.values, #phenotype\n",
    "                                      None, #batches\n",
    "                                      None) #covariates"
   ]
  },
  {
   "cell_type": "code",
   "execution_count": null,
   "metadata": {},
   "outputs": [],
   "source": [
    "# Confirm all cells retained\n",
    "np.sum(d.uns['keptcells'])==d.obs.shape[0]"
   ]
  },
  {
   "cell_type": "markdown",
   "metadata": {},
   "source": [
    "### Export results for gene expression analysis"
   ]
  },
  {
   "cell_type": "code",
   "execution_count": null,
   "metadata": {},
   "outputs": [],
   "source": [
    "FDR_thresh = res.fdr_5p_t\n",
    "\n",
    "# Cell scores per neighborhood\n",
    "d.obs['ncorrs'] = res.ncorrs\n",
    "\n",
    "# Positively-associated cells\n",
    "d.obs['poscells'] = np.repeat(False, d.obs.shape[0])\n",
    "d.obs['poscells'].loc[d.obs['ncorrs']>FDR_thresh] = True\n",
    "\n",
    "# Negatively-associated cells\n",
    "d.obs['negcells'] = np.repeat(False, d.obs.shape[0])\n",
    "d.obs['negcells'].loc[d.obs['ncorrs']<-FDR_thresh] = True"
   ]
  },
  {
   "cell_type": "code",
   "execution_count": null,
   "metadata": {},
   "outputs": [],
   "source": [
    "# Save objects for interpretation\n",
    "dummy_df_cna = pd.DataFrame(d.obs.loc[:,[\"cell_id\", \"time\", \"score_notch\", \"ncorrs\", \"poscells\", \"negcells\",\n",
    "                                    \"poscells\", \"negcells\"]])\n",
    "dummy_df_cna.to_csv(\"/data/srlab/lrumker/MCSC_Project/notch/notch_cna_res.txt\")\n",
    "\n",
    "dummy_df_nampcs = pd.DataFrame(d.uns['NAM_nbhdXpc'].iloc[:,0:2])\n",
    "dummy_df_nampcs.to_csv(\"/data/srlab/lrumker/MCSC_Project/notch/notch_cna_NAM_PCs.txt\")"
   ]
  },
  {
   "cell_type": "markdown",
   "metadata": {},
   "source": [
    "### NAM PC1 is the dominant signal in the dataset"
   ]
  },
  {
   "cell_type": "code",
   "execution_count": null,
   "metadata": {},
   "outputs": [],
   "source": [
    "plt.plot(np.arange(d.uns['NAM_svs'].shape[0]), np.abs(d.uns['NAM_svs']))"
   ]
  },
  {
   "cell_type": "code",
   "execution_count": null,
   "metadata": {},
   "outputs": [],
   "source": [
    "# Variance explained\n",
    "d.uns['NAM_varexp'][0:2]"
   ]
  },
  {
   "cell_type": "markdown",
   "metadata": {},
   "source": [
    "### Clusters Separated"
   ]
  },
  {
   "cell_type": "code",
   "execution_count": null,
   "metadata": {},
   "outputs": [],
   "source": [
    "np.mean(d.uns['NAM_nbhdXpc'].iloc[:,0].loc[d.obs['cell_subtype']=='lining'])"
   ]
  },
  {
   "cell_type": "code",
   "execution_count": null,
   "metadata": {},
   "outputs": [],
   "source": [
    "np.mean(d.uns['NAM_nbhdXpc'].iloc[:,0].loc[d.obs['cell_subtype']=='sublining'])"
   ]
  },
  {
   "cell_type": "code",
   "execution_count": null,
   "metadata": {},
   "outputs": [],
   "source": [
    "st.ttest_ind(d.uns['NAM_nbhdXpc'].iloc[:,0].loc[d.obs['cell_subtype']=='lining'], \n",
    "             d.uns['NAM_nbhdXpc'].iloc[:,0].loc[d.obs['cell_subtype']=='sublining'],\n",
    "             equal_var = False)"
   ]
  },
  {
   "cell_type": "markdown",
   "metadata": {},
   "source": [
    "### Key Correlations"
   ]
  },
  {
   "cell_type": "code",
   "execution_count": null,
   "metadata": {},
   "outputs": [],
   "source": [
    "# NAM PC1 to Notch\n",
    "print(np.corrcoef(d.uns['NAM_nbhdXpc'].iloc[:,0],d.obs['score_notch'])[0,1])\n",
    "st.spearmanr(d.uns['NAM_nbhdXpc'].iloc[:,0],d.obs['score_notch'])"
   ]
  },
  {
   "cell_type": "code",
   "execution_count": null,
   "metadata": {},
   "outputs": [],
   "source": [
    "# Correlation of NAM PC1 to Pseudotime\n",
    "print(np.corrcoef(d.uns['NAM_nbhdXpc'].iloc[:,0],d.obs['time'])[0,1])\n",
    "st.spearmanr(d.uns['NAM_nbhdXpc'].iloc[:,0],d.obs['time'])"
   ]
  },
  {
   "cell_type": "code",
   "execution_count": null,
   "metadata": {},
   "outputs": [],
   "source": [
    "# Correlation of pseudotime to notch\n",
    "print(np.corrcoef(d.obs['score_notch'],d.obs['time'])[0,1])\n",
    "st.spearmanr(d.obs['score_notch'],d.obs['time'])"
   ]
  },
  {
   "cell_type": "code",
   "execution_count": null,
   "metadata": {},
   "outputs": [],
   "source": [
    "# Correlation of naive gene expression PC to notch\n",
    "print(np.corrcoef(d.obs['score_notch'],d.X[:,0])[0,1])\n",
    "st.spearmanr(d.obs['score_notch'],d.X[:,0])"
   ]
  },
  {
   "cell_type": "code",
   "execution_count": null,
   "metadata": {},
   "outputs": [],
   "source": [
    "nreps = 10000\n",
    "corr_magnitude_diff = []\n",
    "for i in np.arange(nreps):\n",
    "    donors = np.random.choice(d.samplem['donor'], d.N)\n",
    "    bootstrap_time = []\n",
    "    bootstrap_NAMPC1 = []\n",
    "    boostrap_notch = []\n",
    "    for donor in donors:\n",
    "        loc_donor = [i for i in np.arange(d.obs.shape[0]) if d.obs['donor'][i]==donor]\n",
    "        bootstrap_time.extend(d.obs['time'].iloc[loc_donor])\n",
    "        bootstrap_NAMPC1.extend(d.uns['NAM_nbhdXpc'].iloc[loc_donor,0])\n",
    "        boostrap_notch.extend(d.obs['score_notch'].iloc[loc_donor])\n",
    "    notch_time_corrs = np.abs(st.spearmanr(boostrap_notch,bootstrap_time))\n",
    "    notch_nampc1_corrs = np.abs(st.spearmanr(boostrap_notch,bootstrap_NAMPC1)[0])\n",
    "    corr_magnitude_diff.extend(notch_nampc1_corrs -notch_time_corrs)"
   ]
  },
  {
   "cell_type": "code",
   "execution_count": null,
   "metadata": {},
   "outputs": [],
   "source": [
    "# P-value\n",
    "np.sum(np.array(corr_magnitude_diff)<0)/len(corr_magnitude_diff)"
   ]
  },
  {
   "cell_type": "markdown",
   "metadata": {
    "Collapsed": "false"
   },
   "source": [
    "## Make Figure"
   ]
  },
  {
   "cell_type": "code",
   "execution_count": null,
   "metadata": {},
   "outputs": [],
   "source": [
    "fig, axs = plt.subplots(2,3, figsize=(6,3))\n",
    "\n",
    "plot_order = np.random.choice(d.uns['keptcells'].sum(),d.uns['keptcells'].sum(),replace=False)\n",
    "umap = d.obsm['X_umap'][d.uns['keptcells']][plot_order,:]\n",
    "ix = np.repeat([True], d.uns['keptcells'].sum())\n",
    "use_cols = np.repeat('grey', d.obs.shape[0])\n",
    "\n",
    "ax = axs[0,1]\n",
    "c = -d.uns['NAM_nbhdXpc'].PC1[ix][plot_order]\n",
    "ax.scatter(*umap[ix].T, alpha=0.5, c=c[ix], cmap='seismic', \n",
    "           vmin=-max(np.abs(c)), vmax=max(np.abs(c)), **pp.umapprops)\n",
    "ax.set_title('NAM PC1')\n",
    "ax.text(0.05, 0.75, '$R = {:.2f}$'.format(0.56),\n",
    "        transform=ax.transAxes, fontsize=6, color=\"black\")\n",
    "ax.axis('off')\n",
    "\n",
    "ax = axs[1,0]\n",
    "c=d.obs['time'][ix][plot_order]\n",
    "c = c-np.mean(c)\n",
    "c = c/np.std(c)\n",
    "ax.scatter(*umap[ix].T, alpha=0.5, c=c[ix], cmap='seismic', \n",
    "           vmin=-max(np.abs(c)), vmax=max(np.abs(c)), **pp.umapprops)\n",
    "ax.set_title('Pseudotime')\n",
    "ax.text(0.05, 0.75, '$R = {:.2f}$'.format(0.43),\n",
    "        transform=ax.transAxes, fontsize=6, color=\"black\")\n",
    "ax.axis('off')\n",
    "\n",
    "ax = axs[1,1]\n",
    "c=d.X[:,0][ix][plot_order]\n",
    "c = c-np.mean(c)\n",
    "c = c/np.std(c)\n",
    "cutoff = np.max([-np.percentile(c, 10), np.percentile(c, 90)]) \n",
    "ax.scatter(*umap[ix].T, alpha=0.5, c=c[ix], cmap='seismic', \n",
    "           vmin=-cutoff, vmax=cutoff, **pp.umapprops)\n",
    "ax.set_title('Gene Expression PC1')\n",
    "ax.text(0.05, 0.75, '$R = {:.2f}$'.format(0.22),\n",
    "        transform=ax.transAxes, fontsize=6, color=\"black\")\n",
    "ax.axis('off')\n",
    "\n",
    "ax = axs[0,0]\n",
    "c=d.obs['score_notch'][ix][plot_order]\n",
    "c = c-np.mean(c)\n",
    "c = c/np.std(c)\n",
    "cutoff = np.max([-np.percentile(c, 10), np.percentile(c, 90)])\n",
    "ax.scatter(*umap[ix].T, alpha=0.5, c=c[ix], cmap='seismic', \n",
    "           vmin=-cutoff, vmax=cutoff, **pp.umapprops)\n",
    "ax.set_title('Notch Activation')\n",
    "ax.axis('off')\n",
    "\n",
    "ax = axs[0,2]\n",
    "ax.scatter(d.obs['ncorrs'].loc[d.obs['cell_type']==\"lining\"],\n",
    "           d.obs['score_notch'].loc[d.obs['cell_type']==\"lining\"],\n",
    "           color = \"C4\", alpha = 0.6, s = 1)\n",
    "ax.axvline(x=-FDR_thresh, color = \"black\", lw = 0.5)\n",
    "ax.axvline(x=FDR_thresh, color = \"black\", lw = 0.5)\n",
    "ax.set_xlabel('NAM PC1')\n",
    "ax.set_ylabel('Notch Activation')\n",
    "ax.set_title('Lining Cluster')\n",
    "z = np.polyfit(d.obs['ncorrs'].loc[d.obs['cell_type']==\"lining\"],\n",
    "           d.obs['score_notch'].loc[d.obs['cell_type']==\"lining\"], 1)\n",
    "p = np.poly1d(z)\n",
    "ax.plot(d.obs['ncorrs'].loc[d.obs['cell_type']==\"lining\"],\n",
    "        p(d.obs['ncorrs'].loc[d.obs['cell_type']==\"lining\"]),color='rebeccapurple', lw=1)\n",
    "ax.text(0.21, 0.89, '$R = {:.2f}$'.format(0.36),\n",
    "        transform=ax.transAxes, fontsize=6, color=\"black\")\n",
    "ax.set_xticks([-0.8, 0.8])\n",
    "ax.set_yticks([0,60])\n",
    "\n",
    "ax = axs[1,2]\n",
    "ax.scatter(d.obs['ncorrs'].loc[d.obs['cell_type']==\"sublining\"],\n",
    "           d.obs['score_notch'].loc[d.obs['cell_type']==\"sublining\"],\n",
    "           color = \"C9\", alpha = 0.6, s = 1)\n",
    "ax.axvline(x=-FDR_thresh, color = \"black\", lw = 0.5)\n",
    "ax.axvline(x=FDR_thresh, color = \"black\", lw = 0.5)\n",
    "ax.set_xlabel('NAM PC1')\n",
    "ax.set_ylabel('Notch Activation')\n",
    "ax.set_title('Sublining Cluster')\n",
    "z = np.polyfit(d.obs['ncorrs'].loc[d.obs['cell_type']==\"sublining\"],\n",
    "           d.obs['score_notch'].loc[d.obs['cell_type']==\"sublining\"], 1)\n",
    "p = np.poly1d(z)\n",
    "ax.plot(d.obs['ncorrs'].loc[d.obs['cell_type']==\"sublining\"],\n",
    "        p(d.obs['ncorrs'].loc[d.obs['cell_type']==\"sublining\"]),color='darkcyan', lw=1)\n",
    "ax.text(0.21, 0.89, '$R = {:.2f}$'.format(0.33),\n",
    "        transform=ax.transAxes, fontsize=6, color=\"black\")\n",
    "ax.set_xticks([-0.8, 0.8])\n",
    "ax.set_yticks([0,60])\n",
    "\n",
    "plt.tight_layout()\n",
    "plt.savefig('../_figs/rawmainfig.notch.pdf')"
   ]
  },
  {
   "cell_type": "markdown",
   "metadata": {},
   "source": [
    "### Correlation to Notch within Clusters"
   ]
  },
  {
   "cell_type": "code",
   "execution_count": null,
   "metadata": {},
   "outputs": [],
   "source": [
    "mask_sublining = d.obs['cell_type']==\"sublining\""
   ]
  },
  {
   "cell_type": "code",
   "execution_count": null,
   "metadata": {},
   "outputs": [],
   "source": [
    "np.abs(np.corrcoef(d.obs['score_notch'].loc[~mask_sublining], d.uns['NAM_nbhdXpc'].iloc[:,0].loc[~mask_sublining]))"
   ]
  },
  {
   "cell_type": "code",
   "execution_count": null,
   "metadata": {},
   "outputs": [],
   "source": [
    "np.abs(np.corrcoef(d.obs['score_notch'].loc[mask_sublining], d.uns['NAM_nbhdXpc'].iloc[:,0].loc[mask_sublining]))"
   ]
  },
  {
   "cell_type": "code",
   "execution_count": null,
   "metadata": {},
   "outputs": [],
   "source": [
    "nreps = 1000\n",
    "sublining_cors = []\n",
    "lining_cors = []\n",
    "for i in np.arange(nreps):\n",
    "    print(i)\n",
    "    donors = np.random.choice(d.samplem['donor'], d.N)\n",
    "    bootstrap_notch = []\n",
    "    bootstrap_clusterassn = []\n",
    "    bootstrap_NAMPC1 = []\n",
    "\n",
    "    for donor in donors:\n",
    "        loc_donor = [i for i in np.arange(d.obs.shape[0]) if d.obs['donor'][i]==donor]\n",
    "        bootstrap_NAMPC1.extend(d.uns['NAM_nbhdXpc'].iloc[loc_donor,0])\n",
    "        bootstrap_notch.extend(d.obs['score_notch'].iloc[loc_donor])\n",
    "        bootstrap_clusterassn.extend(d.obs['cell_type'].iloc[loc_donor])\n",
    "\n",
    "    mask_sublining_bootstrapped = [bootstrap_clusterassn[i]=='sublining' for i in np.arange(len(bootstrap_clusterassn))]\n",
    "    sublining_cors.append(np.corrcoef(np.array(bootstrap_notch)[mask_sublining_bootstrapped], \n",
    "                                -np.array(bootstrap_NAMPC1)[mask_sublining_bootstrapped])[0,1])\n",
    "    lining_cors.append(np.corrcoef(np.array(bootstrap_notch)[mask_sublining_bootstrapped], \n",
    "                                -np.array(bootstrap_NAMPC1)[mask_sublining_bootstrapped])[0,1])"
   ]
  },
  {
   "cell_type": "code",
   "execution_count": null,
   "metadata": {},
   "outputs": [],
   "source": [
    "### Number of times correlation is less than or equal to 0 out of nreps\n",
    "np.sum(np.array(lining_cors)<=0)/nreps"
   ]
  },
  {
   "cell_type": "code",
   "execution_count": null,
   "metadata": {},
   "outputs": [],
   "source": [
    "### Number of times correlation is less than or equal to 0 out of nreps\n",
    "np.sum(np.array(sublining_cors)<=0)/nreps"
   ]
  },
  {
   "cell_type": "code",
   "execution_count": null,
   "metadata": {},
   "outputs": [],
   "source": [
    "# These results translate to a p-value less than...\n",
    "1/nreps"
   ]
  },
  {
   "cell_type": "markdown",
   "metadata": {},
   "source": [
    "### Fraction of associated populations in each cluster"
   ]
  },
  {
   "cell_type": "code",
   "execution_count": null,
   "metadata": {},
   "outputs": [],
   "source": [
    "FDR_thresh = res.fdr_5p_t"
   ]
  },
  {
   "cell_type": "code",
   "execution_count": null,
   "metadata": {},
   "outputs": [],
   "source": [
    "counts = d.obs['cell_type'].loc[res.ncorrs>FDR_thresh].value_counts()\n",
    "counts/np.sum(counts)"
   ]
  },
  {
   "cell_type": "code",
   "execution_count": null,
   "metadata": {},
   "outputs": [],
   "source": [
    "counts = d.obs['cell_type'].loc[res.ncorrs<-FDR_thresh].value_counts()\n",
    "counts/np.sum(counts)"
   ]
  }
 ],
 "metadata": {
  "kernelspec": {
   "display_name": "Python 3",
   "language": "python",
   "name": "python3"
  },
  "language_info": {
   "codemirror_mode": {
    "name": "ipython",
    "version": 3
   },
   "file_extension": ".py",
   "mimetype": "text/x-python",
   "name": "python",
   "nbconvert_exporter": "python",
   "pygments_lexer": "ipython3",
   "version": "3.7.6"
  }
 },
 "nbformat": 4,
 "nbformat_minor": 4
}
