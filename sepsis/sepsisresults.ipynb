{
 "cells": [
  {
   "cell_type": "markdown",
   "metadata": {},
   "source": [
    "# CNA on the Reyes et. al sepsis dataset"
   ]
  },
  {
   "cell_type": "code",
   "execution_count": null,
   "metadata": {},
   "outputs": [],
   "source": [
    "import sys\n",
    "sys.path.append(\"/data/srlab/lrumker/MCSC_Project/cna-display/\")"
   ]
  },
  {
   "cell_type": "code",
   "execution_count": null,
   "metadata": {},
   "outputs": [],
   "source": [
    "import scanpy as sc\n",
    "import numpy as np\n",
    "import pandas as pd\n",
    "import matplotlib.pyplot as plt\n",
    "import scipy.stats as st\n",
    "import cna\n",
    "import matplotlib.gridspec as gridspec\n",
    "import pp, pf\n",
    "plt.style.use('../pp.mplstyle')\n",
    "np.random.seed(0) # for reproducibility"
   ]
  },
  {
   "cell_type": "code",
   "execution_count": null,
   "metadata": {},
   "outputs": [],
   "source": [
    "import pickle"
   ]
  },
  {
   "cell_type": "code",
   "execution_count": null,
   "metadata": {},
   "outputs": [],
   "source": [
    "sc.settings.verbosity = 3             # verbosity: errors (0), warnings (1), info (2), hints (3)\n",
    "sc.logging.print_header()"
   ]
  },
  {
   "cell_type": "markdown",
   "metadata": {},
   "source": [
    "# Recreate authors 'data preprocessing steps"
   ]
  },
  {
   "cell_type": "code",
   "execution_count": null,
   "metadata": {},
   "outputs": [],
   "source": [
    "results_file = '/data/srlab/lrumker/MCSC_Project/sepsis_data/pbmc.h5ad'\n",
    "results_pp_file = '/data/srlab/lrumker/MCSC_Project/sepsis_data/pbmc_pp.h5ad'\n",
    "results_cna_file = '/data/srlab/lrumker/MCSC_Project/sepsis_data/pbmc_cna.h5ad'"
   ]
  },
  {
   "cell_type": "code",
   "execution_count": null,
   "metadata": {},
   "outputs": [],
   "source": [
    "adata = sc.read_h5ad('/data/srlab/lrumker/MCSC_Project/sepsis_data/scp_scanpy.h5ad') # data from SingleCellPortal\n",
    "\n",
    "print(adata)\n",
    "np.unique(adata.obs['cell_type']).tolist()\n",
    "adata.n_obs"
   ]
  },
  {
   "cell_type": "markdown",
   "metadata": {},
   "source": [
    "The publication lists 126,351 cells total. The discrepancy is due to the publicly available data from SingleCellPortal omitting MK cells. "
   ]
  },
  {
   "cell_type": "code",
   "execution_count": null,
   "metadata": {},
   "outputs": [],
   "source": [
    "## Same filters as original paper\n",
    "\n",
    "# Filter out cells with fewer than 100 genes\n",
    "sc.pp.filter_cells(adata, min_counts=100) \n",
    "\n",
    "# Filter out genes with representation across fewer than 10 cells\n",
    "sc.pp.filter_genes(adata, min_cells=10)\n",
    "\n",
    "# Annotate the group of mitochondrial genes as 'mt'\n",
    "adata.var['mt'] = adata.var_names.str.startswith('MT-')  \n",
    "sc.pp.calculate_qc_metrics(adata, qc_vars=['mt'], percent_top=None, log1p=False, inplace=True)\n",
    "\n",
    "# Plot distribution of key QC emtrics\n",
    "sc.pl.violin(adata, ['total_counts', 'n_genes_by_counts', 'pct_counts_mt'],\n",
    "             multi_panel=True, stripplot=False)"
   ]
  },
  {
   "cell_type": "code",
   "execution_count": null,
   "metadata": {},
   "outputs": [],
   "source": [
    "## Normalize\n",
    "# Methods did not mention normalization, but we assume they did this\n",
    "sc.pp.normalize_total(adata, target_sum=1e4) \n",
    "sc.pp.log1p(adata)"
   ]
  },
  {
   "cell_type": "markdown",
   "metadata": {},
   "source": [
    "## Preprocessing & PCA"
   ]
  },
  {
   "cell_type": "code",
   "execution_count": null,
   "metadata": {},
   "outputs": [],
   "source": [
    "# Identify highly variable genes\n",
    "# Parameters from Reyes et al paper\n",
    "sc.pp.highly_variable_genes(adata, min_mean=0.0125, min_disp=0.5) \n",
    "\n",
    "# Subset to onlg highly variable genes\n",
    "adata = adata[:, adata.var.highly_variable]\n",
    "adata.n_vars"
   ]
  },
  {
   "cell_type": "code",
   "execution_count": null,
   "metadata": {},
   "outputs": [],
   "source": [
    "# Scale data with default parameters\n",
    "sc.pp.scale(adata)\n",
    "\n",
    "sc.tl.pca(adata, svd_solver='arpack')"
   ]
  },
  {
   "cell_type": "markdown",
   "metadata": {},
   "source": [
    "## Visual embedding with tSNE\n",
    "(will match tSNE in the original paper)"
   ]
  },
  {
   "cell_type": "code",
   "execution_count": null,
   "metadata": {},
   "outputs": [],
   "source": [
    "np.random.seed(0) # for reproducibility\n",
    "\n",
    "print('computing and storing nearest neighbor graph')\n",
    "sc.pp.neighbors(adata) # default parameters\n",
    "\n",
    "print('computing and storing umap')\n",
    "sc.tl.umap(adata)\n",
    "\n",
    "print('computing and storing tsne')\n",
    "sc.tl.tsne(adata, n_pcs = 10, random_state = 0)"
   ]
  },
  {
   "cell_type": "code",
   "execution_count": null,
   "metadata": {},
   "outputs": [],
   "source": [
    "# Plot tSNE to affirm that it matches the original paper\n",
    "sc.pl.tsne(adata, color=['cell_type', 'cell_state'], legend_loc='on data', legend_fontsize = 'small')\n",
    "\n",
    "# Visually examine scope of potential batch effects,\n",
    "# since these were not corrected for in the initial paper, we apply \n",
    "# no additional pre-processing for batch correction\n",
    "sc.pl.tsne(adata, color=['pheno', 'patient'], legend_fontsize = 'x-small')"
   ]
  },
  {
   "cell_type": "markdown",
   "metadata": {},
   "source": [
    "## Remove DC-enriched cells"
   ]
  },
  {
   "cell_type": "markdown",
   "metadata": {},
   "source": [
    "`adata` includes the DC-enriched cells, whereas `d` does not (used for CNA)"
   ]
  },
  {
   "cell_type": "code",
   "execution_count": null,
   "metadata": {},
   "outputs": [],
   "source": [
    "## Remove DC-enriched cells\n",
    "d = adata[adata.obs['sort'] == 'CD45', :]\n",
    "d.obs.groupby(['sort']).size()"
   ]
  },
  {
   "cell_type": "markdown",
   "metadata": {},
   "source": [
    "## Make samplem"
   ]
  },
  {
   "cell_type": "code",
   "execution_count": null,
   "metadata": {},
   "outputs": [],
   "source": [
    "## Extract batch number from end of index (in case we wish to use later)\n",
    "new = d.obs.index.str.split(\"-\", n = 1, expand = False)\n",
    "batches = [i[1] for i in new]\n",
    "d.obs['batch_num'] = batches\n",
    "\n",
    "## For this analysis, treat everything as one batch\n",
    "d.obs['batch'] = np.ones(d.obs.shape[0])\n",
    "\n",
    "## Set id to patient\n",
    "d.obs['id'] = d.obs['patient']\n",
    "\n",
    "## Make sampleXmeta dataframe\n",
    "select = d.obs[['pheno', 'id', 'batch_num']]\n",
    "sampleXmeta = select.drop_duplicates(subset = \"id\", keep = 'first', inplace = False) \n",
    "\n",
    "## Ensure that sampleXmeta has index 'id' column matching an obs 'id' column\n",
    "sampleXmeta.reset_index(drop=True, inplace=True)\n",
    "sampleXmeta.set_index('id', inplace = True)\n",
    "\n",
    "## Save sampleXmeta to d\n",
    "d.samplem = sampleXmeta.copy()"
   ]
  },
  {
   "cell_type": "code",
   "execution_count": null,
   "metadata": {},
   "outputs": [],
   "source": [
    "d.samplem.head(2)"
   ]
  },
  {
   "cell_type": "code",
   "execution_count": null,
   "metadata": {},
   "outputs": [],
   "source": [
    "d.obs.head(2)"
   ]
  },
  {
   "cell_type": "code",
   "execution_count": null,
   "metadata": {
    "Collapsed": "false"
   },
   "outputs": [],
   "source": [
    "# save the pre-processed data\n",
    "d.write(results_file)"
   ]
  },
  {
   "cell_type": "markdown",
   "metadata": {},
   "source": [
    "## CNA preprocessing"
   ]
  },
  {
   "cell_type": "code",
   "execution_count": null,
   "metadata": {},
   "outputs": [],
   "source": [
    "d = cna.read(results_file)"
   ]
  },
  {
   "cell_type": "code",
   "execution_count": null,
   "metadata": {},
   "outputs": [],
   "source": [
    "d.samplem"
   ]
  },
  {
   "cell_type": "code",
   "execution_count": null,
   "metadata": {},
   "outputs": [],
   "source": [
    "type(d)"
   ]
  },
  {
   "cell_type": "code",
   "execution_count": null,
   "metadata": {},
   "outputs": [],
   "source": [
    "# copy technical covariate and batch information from per-cell metadata to per-sample metadata\n",
    "d.obs_to_sample(['batch', 'n_counts', 'n_genes_by_counts', 'pct_counts_mt'])"
   ]
  },
  {
   "cell_type": "code",
   "execution_count": null,
   "metadata": {},
   "outputs": [],
   "source": [
    "## The existing nearest neighbor graph was calculated with DC-enriched cells (needed to construct original UMAP)\n",
    "## For CNA we compute a nearest neighbor graph without the DC-enriched cells\n",
    "print('computing and storing nearest neighbor graph')\n",
    "sc.pp.neighbors(d)"
   ]
  },
  {
   "cell_type": "code",
   "execution_count": null,
   "metadata": {},
   "outputs": [],
   "source": [
    "## Plot tSNE with DC enriched cells removed\n",
    "# Note that the tSNE coordinates are unchanged from above\n",
    "sc.pl.tsne(d, color=['cell_type', 'cell_state'], legend_loc='on data', legend_fontsize = 'small')"
   ]
  },
  {
   "cell_type": "code",
   "execution_count": null,
   "metadata": {},
   "outputs": [],
   "source": [
    "# Compute KNN graph\n",
    "cna.pp.knn(d)"
   ]
  },
  {
   "cell_type": "code",
   "execution_count": null,
   "metadata": {
    "Collapsed": "false"
   },
   "outputs": [],
   "source": [
    "# save the pre-processed data\n",
    "#d.write(results_pp_file)"
   ]
  },
  {
   "cell_type": "markdown",
   "metadata": {},
   "source": [
    "# Apply CNA"
   ]
  },
  {
   "cell_type": "code",
   "execution_count": null,
   "metadata": {},
   "outputs": [],
   "source": [
    "#d = cna.read(results_pp_file)"
   ]
  },
  {
   "cell_type": "markdown",
   "metadata": {
    "Collapsed": "false"
   },
   "source": [
    "## Run association test on main Phenotype 1: Any sepsis vs. Any non-sepsis"
   ]
  },
  {
   "cell_type": "code",
   "execution_count": null,
   "metadata": {
    "Collapsed": "false"
   },
   "outputs": [],
   "source": [
    "# some convenient shorthand\n",
    "sm = d.samplem # sample meta-data\n",
    "batches = sm.batch # batch info"
   ]
  },
  {
   "cell_type": "code",
   "execution_count": null,
   "metadata": {},
   "outputs": [],
   "source": [
    "d.samplem"
   ]
  },
  {
   "cell_type": "code",
   "execution_count": null,
   "metadata": {},
   "outputs": [],
   "source": [
    "## Define phenotype of interest as ANY sepsis\n",
    "\n",
    "any_sepsis = np.zeros(d.samplem.shape[0])\n",
    "any_sepsis[np.where(d.samplem['pheno']=='Bac-SEP')[0]] = 1\n",
    "any_sepsis[np.where(d.samplem['pheno']=='ICU-SEP')[0]] = 1\n",
    "any_sepsis[np.where(d.samplem['pheno']=='URO')[0]] = 1\n",
    "any_sepsis[np.where(d.samplem['pheno']=='Int-URO')[0]] = 1\n",
    "\n",
    "d.samplem['AnySepsis'] = any_sepsis"
   ]
  },
  {
   "cell_type": "code",
   "execution_count": null,
   "metadata": {
    "Collapsed": "false"
   },
   "outputs": [],
   "source": [
    "## Set phenotype and covariates\n",
    "y = sm.AnySepsis.values\n",
    "covs = None"
   ]
  },
  {
   "cell_type": "code",
   "execution_count": null,
   "metadata": {
    "Collapsed": "false"
   },
   "outputs": [],
   "source": [
    "# Run association test\n",
    "np.random.seed(0) # for reproducibility\n",
    "res = cna.tl._association.association(d, y, batches=batches, covs=covs, Nnull=100000)\n",
    "print()\n",
    "print('p =', res.p, ',', res.k, 'PCs used') #6.99e-5"
   ]
  },
  {
   "cell_type": "code",
   "execution_count": null,
   "metadata": {},
   "outputs": [],
   "source": [
    "# Global association test p-value\n",
    "print('Global association test p-value: ', res.p, ',', res.k, 'PCs used')\n",
    "\n",
    "# Correlation threshold for 5% FDR\n",
    "print('Correlation threshold for 5% FDR', res.fdr_5p_t)\n",
    "\n",
    "# Correlation threshold for 10% FDR\n",
    "print('Correlation threshold for 10% FDR', res.fdr_10p_t)\n",
    "\n",
    "# Number of neighborhoods with local associations at 5% FDR\n",
    "n = np.sum(abs(res.ncorrs) > res.fdr_5p_t)\n",
    "print('Number of neighborhoods with local associations', n)"
   ]
  },
  {
   "cell_type": "code",
   "execution_count": null,
   "metadata": {},
   "outputs": [],
   "source": [
    "# Variance explained\n",
    "res.r2"
   ]
  },
  {
   "cell_type": "markdown",
   "metadata": {
    "Collapsed": "false"
   },
   "source": [
    "## Make some plots"
   ]
  },
  {
   "cell_type": "code",
   "execution_count": null,
   "metadata": {},
   "outputs": [],
   "source": [
    "## Save cell labels of whether they pass fdr threshold\n",
    "d.obs['cna_cell_scores'] = res.ncorrs\n",
    "\n",
    "d.obs['pos_assoc_fdr5'] = np.where(d.obs['cna_cell_scores']> res.fdr_5p_t, True, False) \n",
    "d.obs['neg_assoc_fdr5'] = np.where(d.obs['cna_cell_scores']< -res.fdr_5p_t, True, False) "
   ]
  },
  {
   "cell_type": "markdown",
   "metadata": {},
   "source": [
    "# Version 1: Intepret phenotype"
   ]
  },
  {
   "cell_type": "code",
   "execution_count": null,
   "metadata": {},
   "outputs": [],
   "source": [
    "def plot_clust_hist(cluster_sel, cell_scores, ax, d, fdr_thresh, sel_color):\n",
    "    ax.hist(cell_scores[np.where(d.obs['cell_state']==str(cluster_sel))[0]], \n",
    "            color = sel_color, \n",
    "            bins = 50, range = (-0.5,0.5))\n",
    "    ax.axvline(fdr_thresh, label = 'FDR_5p', color = 'purple', lw = 1)\n",
    "    ax.axvline(-fdr_thresh, color = 'purple', lw = 1)\n",
    "    ax.set_xticks([-0.5, 0, 0.5])\n",
    "    ax.set_yticks([])\n",
    "    ax.set_title(cluster_sel)\n",
    "    ax.labelcolor = sel_color"
   ]
  },
  {
   "cell_type": "markdown",
   "metadata": {},
   "source": [
    "### Examine within-cluster heterogeneity"
   ]
  },
  {
   "cell_type": "code",
   "execution_count": null,
   "metadata": {},
   "outputs": [],
   "source": [
    "fig, axs = plt.subplots(5,3, figsize=(6,6))\n",
    "\n",
    "axs_list = [axs[0,0], axs[0,1], axs[0,2],\n",
    "           axs[1,0], axs[1,1], axs[1,2],\n",
    "           axs[2,0], axs[2,1], axs[2,2],\n",
    "           axs[3,0], axs[3,1], axs[3,2],\n",
    "           axs[4,0], axs[4,1], axs[4,2]]\n",
    "\n",
    "for i in np.arange(15):\n",
    "    plot_clust_hist(np.unique(d.obs.cell_state)[i], res.ncorrs, axs_list[i], d, res.fdr_5p_t, \"steelblue\")\n",
    "\n",
    "\n",
    "axs_list[0].plot(-.5,100,'*', c= \"red\")\n",
    "axs_list[1].plot(-.5,60,'*', c= \"red\")\n",
    "axs_list[3].plot(-.5,7,'*', c= \"red\")\n",
    "axs_list[4].plot(-.5,10,'*', c= \"red\")\n",
    "axs_list[8].plot(-.5,100,'*', c= \"red\")\n",
    "axs_list[9].plot(-.5,200,'*', c= \"red\")\n",
    "axs_list[12].plot(-.5,200,'*', c= \"red\")\n",
    "axs_list[13].plot(-.5,350,'*', c= \"red\")\n",
    "plt.tight_layout()\n",
    "plt.savefig('../_figs/suppfig.sepsis_heterogeneity.pdf')"
   ]
  },
  {
   "cell_type": "markdown",
   "metadata": {},
   "source": [
    "### Affirm lack of cluster association for MS4 cluster"
   ]
  },
  {
   "cell_type": "code",
   "execution_count": null,
   "metadata": {},
   "outputs": [],
   "source": [
    "# Assign cell groups\n",
    "d.obs['MS4_type'] = np.repeat(\"0\", d.obs.shape[0])\n",
    "d.obs['MS4_type'].iloc[np.where(d.obs['cell_state']==\"MS4\")[0]] = \"1\""
   ]
  },
  {
   "cell_type": "code",
   "execution_count": null,
   "metadata": {},
   "outputs": [],
   "source": [
    "from methods import methods"
   ]
  },
  {
   "cell_type": "code",
   "execution_count": null,
   "metadata": {},
   "outputs": [],
   "source": [
    "cell_counts = d.obs['id'].value_counts()\n",
    "d.samplem[\"C\"] = [cell_counts.values[np.where(cell_counts.index==d.samplem.index[i])[0]][0]\\\n",
    "               for i in np.arange(d.samplem.shape[0])]"
   ]
  },
  {
   "cell_type": "code",
   "execution_count": null,
   "metadata": {},
   "outputs": [],
   "source": [
    "abundance of CNA population and phenotype in permutation test should show something"
   ]
  },
  {
   "cell_type": "code",
   "execution_count": null,
   "metadata": {},
   "outputs": [],
   "source": [
    "# To verify an association using MASC\n",
    "masc_res = methods._MASC(d, y.astype(int),\n",
    "      batches.values.astype(int),\n",
    "      d.samplem[\"C\"].values,\n",
    "      None, # sample-level covariates                                                                                                                                                      \n",
    "      None, #d.obs[['n_counts', 'pct_counts_mt']].values, # Cell-level covariates\n",
    "      clustertype='MS4_type')"
   ]
  },
  {
   "cell_type": "code",
   "execution_count": null,
   "metadata": {},
   "outputs": [],
   "source": [
    "# Odds Ratio\n",
    "np.exp(-0.00614)"
   ]
  },
  {
   "cell_type": "markdown",
   "metadata": {},
   "source": [
    "### Store associated populations"
   ]
  },
  {
   "cell_type": "code",
   "execution_count": null,
   "metadata": {},
   "outputs": [],
   "source": [
    "FDR_thresh = res.fdr_5p_t\n",
    "\n",
    "# Cell scores per neighborhood\n",
    "d.obs['ncorrs'] = res.ncorrs\n",
    "\n",
    "# Positively-associated cells\n",
    "d.obs['poscells'] = np.repeat(False, d.obs.shape[0])\n",
    "d.obs['poscells'].loc[d.obs['ncorrs']>FDR_thresh] = True\n",
    "\n",
    "# Negatively-associated cells\n",
    "d.obs['negcells'] = np.repeat(False, d.obs.shape[0])\n",
    "d.obs['negcells'].loc[d.obs['ncorrs']<-FDR_thresh] = True"
   ]
  },
  {
   "cell_type": "code",
   "execution_count": null,
   "metadata": {},
   "outputs": [],
   "source": [
    "d.obs['ncorrs'] = res.ncorrs"
   ]
  },
  {
   "cell_type": "code",
   "execution_count": null,
   "metadata": {},
   "outputs": [],
   "source": [
    "geneset_scores = pd.read_csv(\"/data/srlab/lrumker/MCSC_Project/mcsc_scratch/sepsis_geneset_scores.csv\")"
   ]
  },
  {
   "cell_type": "code",
   "execution_count": null,
   "metadata": {},
   "outputs": [],
   "source": [
    "nampc_geneset_corrs = np.abs(np.corrcoef(np.concatenate((d.uns['NAM_nbhdXpc'].iloc[:,0:10], \n",
    "                            geneset_scores), axis = 1).T))[10:25,0:10]\n"
   ]
  },
  {
   "cell_type": "code",
   "execution_count": null,
   "metadata": {},
   "outputs": [],
   "source": [
    "pathways = geneset_scores.columns\n",
    "pathways = [pathways[i][4:] for i in np.arange(15)]\n",
    "pathways = [pathways[i][:-8] for i in np.arange(15)]"
   ]
  },
  {
   "cell_type": "code",
   "execution_count": null,
   "metadata": {},
   "outputs": [],
   "source": [
    "nampc_geneset_corrs = pd.DataFrame(nampc_geneset_corrs, index = pathways)"
   ]
  },
  {
   "cell_type": "code",
   "execution_count": null,
   "metadata": {},
   "outputs": [],
   "source": [
    "nampc_geneset_corrs"
   ]
  },
  {
   "cell_type": "code",
   "execution_count": null,
   "metadata": {},
   "outputs": [],
   "source": [
    "enriched_pathways = pd.read_csv(\"/data/srlab/lrumker/MCSC_Project/mcsc_scratch/sepsis_enriched_pathways.csv\")"
   ]
  },
  {
   "cell_type": "code",
   "execution_count": null,
   "metadata": {},
   "outputs": [],
   "source": [
    "enriched_pathways[\"Pathway\"] = [enriched_pathways[\"pathway\"][i][4:] for i in np.arange(1,16)]\n",
    "enriched_pathways[\"Pathway\"] = [enriched_pathways[\"Pathway\"][i][:-8] for i in np.arange(1,16)]\n",
    "enriched_pathways[\"Enrichment\"] = np.around(enriched_pathways[\"ES\"],2)\n",
    "enriched_pathways[\"P, Adjusted\"] = np.around(enriched_pathways[\"padj\"],4)\n",
    "enriched_pathways[\"NAM PC0 Cor\"] = np.around(nampc_geneset_corrs.iloc[:,0].values,2)\n",
    "enriched_pathways[\"NAM PC1 Cor\"] = np.around(nampc_geneset_corrs.iloc[:,1].values,2)"
   ]
  },
  {
   "cell_type": "code",
   "execution_count": null,
   "metadata": {},
   "outputs": [],
   "source": [
    "enriched_pathways.drop([\"ES\",\"pval\",\"padj\", \"pathway\"], axis = 1)"
   ]
  },
  {
   "cell_type": "code",
   "execution_count": null,
   "metadata": {
    "scrolled": true
   },
   "outputs": [],
   "source": [
    "for i in np.arange(nampc_geneset_corrs.shape[0]):\n",
    "    plt.plot(np.arange(6)+1, nampc_geneset_corrs.iloc[i,0:6],\n",
    "            label = nampc_geneset_corrs.index[i])\n",
    "plt.legend()"
   ]
  },
  {
   "cell_type": "code",
   "execution_count": null,
   "metadata": {},
   "outputs": [],
   "source": [
    "for i in [0,3, 10]:\n",
    "    plt.plot(np.arange(nampc_geneset_corrs.shape[1])+1, nampc_geneset_corrs.iloc[i,:],\n",
    "            label = nampc_geneset_corrs.index[i])\n",
    "plt.legend()"
   ]
  },
  {
   "cell_type": "code",
   "execution_count": null,
   "metadata": {},
   "outputs": [],
   "source": [
    "from matplotlib.cm import get_cmap"
   ]
  },
  {
   "cell_type": "code",
   "execution_count": null,
   "metadata": {},
   "outputs": [],
   "source": [
    "fig = plt.figure(figsize = (7,3))\n",
    "gs = fig.add_gridspec(nrows=7, ncols=12, \n",
    "                    wspace=1, hspace = 2.5)\n",
    "ax1 = fig.add_subplot(gs[0:3,0:3]) \n",
    "ax2 = fig.add_subplot(gs[0:3,3:6]) \n",
    "ax3 = fig.add_subplot(gs[3:6,0:3]) \n",
    "ax4 = fig.add_subplot(gs[3:6,3:6])\n",
    "ax5 = fig.add_subplot(gs[0:6,6:12])\n",
    "\n",
    "ax=ax1\n",
    "c=d.uns['NAM_nbhdXpc'].iloc[:,0]\n",
    "c = c-np.mean(c)\n",
    "c = c/np.std(c)\n",
    "cutoff = np.max([-np.percentile(c, 10), np.percentile(c, 90)])\n",
    "ax.scatter(d.obsm['X_tsne'][loc_assoc,0], d.obsm['X_tsne'][loc_assoc,1],\n",
    "           alpha=0.5, c=c[loc_assoc], cmap='seismic', \n",
    "           vmin=-cutoff, vmax=cutoff, **pp.umapprops)\n",
    "ax.set_title('NAM PC0')\n",
    "ax.axis('off')\n",
    "\n",
    "ax = ax2\n",
    "c=geneset_scores.PID_PDGFRB_PATHWAY.values\n",
    "c = c-np.mean(c)\n",
    "c = c/np.std(c)\n",
    "cutoff = np.max([-np.percentile(c, 10), np.percentile(c, 90)])\n",
    "ax.scatter(d.obsm['X_tsne'][loc_assoc,0], d.obsm['X_tsne'][loc_assoc,1],\n",
    "           alpha=0.5, c=c[loc_assoc], cmap='seismic', \n",
    "           vmin=-cutoff, vmax=cutoff, **pp.umapprops)\n",
    "ax.text(0, 0.9, '$R = {:.2f}$'.format(0.52),\n",
    "        transform=ax.transAxes, fontsize=6, color=\"black\")\n",
    "ax.set_title('PDGFRB Pathway')\n",
    "ax.axis('off')\n",
    "\n",
    "ax=ax3\n",
    "c=-d.uns['NAM_nbhdXpc'].iloc[:,1]\n",
    "c = c-np.mean(c)\n",
    "c = c/np.std(c)\n",
    "cutoff = np.max([-np.percentile(c, 10), np.percentile(c, 90)])\n",
    "ax.scatter(d.obsm['X_tsne'][loc_assoc,0], d.obsm['X_tsne'][loc_assoc,1],\n",
    "           alpha=0.5, c=c[loc_assoc], cmap='seismic', \n",
    "           vmin=-cutoff, vmax=cutoff, **pp.umapprops)\n",
    "ax.set_title('NAM PC1')\n",
    "ax.axis('off')\n",
    "\n",
    "ax = ax4\n",
    "c=geneset_scores.PID_TOLL_ENDOGENOUS_PATHWAY.values\n",
    "c = c-np.mean(c)\n",
    "c = c/np.std(c)\n",
    "cutoff = np.max([-np.percentile(c, 10), np.percentile(c, 90)])\n",
    "ax.scatter(d.obsm['X_tsne'][loc_assoc,0], d.obsm['X_tsne'][loc_assoc,1],\n",
    "           alpha=0.5, c=c[loc_assoc], cmap='seismic', \n",
    "           vmin=-cutoff, vmax=cutoff, **pp.umapprops)\n",
    "ax.text(0, 0.9, '$R = {:.2f}$'.format(0.61),\n",
    "        transform=ax.transAxes, fontsize=6, color=\"black\")\n",
    "ax.set_title('Toll Pathway')\n",
    "ax.axis('off')\n",
    "\n",
    "ax = ax5\n",
    "for i in np.arange(nampc_geneset_corrs.shape[0]):\n",
    "    plt.plot(np.arange(6)+1, nampc_geneset_corrs.iloc[i,0:6],\n",
    "            label = nampc_geneset_corrs.index[i], color = colors[i])\n",
    "plt.legend()\n",
    "ax.set_xticks([1,2,3,4,5,6])\n",
    "ax.set_yticks([0,0.7])\n",
    "ax.set_xlabel(\"NAM PC\")\n",
    "ax.set_ylabel(\"Correlation to Gene Set\")\n",
    "ax.yaxis.set_label_coords(-0.02,0.5)\n",
    "\n",
    "plt.tight_layout()\n",
    "plt.savefig('../_figs/rawsupfig.sepsis.pdf')"
   ]
  },
  {
   "cell_type": "code",
   "execution_count": null,
   "metadata": {},
   "outputs": [],
   "source": [
    "fig = plt.figure(figsize = (6,4))\n",
    "gs = fig.add_gridspec(nrows=9, ncols=12, \n",
    "                    wspace=0.5, hspace = 1)\n",
    "ax1 = fig.add_subplot(gs[0:4,0:4]) \n",
    "ax2 = fig.add_subplot(gs[0:4,4:8])\n",
    "ax3 = fig.add_subplot(gs[0:4,8:12])\n",
    "ax4 = fig.add_subplot(gs[4:6,0:3])\n",
    "ax5 = fig.add_subplot(gs[4:6,3:6])\n",
    "ax6 = fig.add_subplot(gs[4:6,6:9])\n",
    "ax7 = fig.add_subplot(gs[4:6,9:12])\n",
    "ax8 = fig.add_subplot(gs[6:9,0:3])\n",
    "ax9 = fig.add_subplot(gs[6:9,3:6])\n",
    "ax10 = fig.add_subplot(gs[6:9,6:9])\n",
    "ax11 = fig.add_subplot(gs[6:9,9:12])\n",
    "\n",
    "\n",
    "ax = ax2\n",
    "c=res.ncorrs\n",
    "c = c-np.mean(c)\n",
    "c = c/np.std(c)\n",
    "cutoff = np.max([-np.percentile(c, 10), np.percentile(c, 90)])\n",
    "ax.scatter(d.obsm['X_tsne'][:,0], d.obsm['X_tsne'][:,1],\n",
    "           alpha=0.5, c=\"grey\", **pp.umapprops)\n",
    "loc_assoc = np.concatenate((np.where(d.obs['poscells'])[0],\n",
    "               np.where(d.obs['negcells'])[0]))\n",
    "ax.scatter(d.obsm['X_tsne'][loc_assoc,0], d.obsm['X_tsne'][loc_assoc,1],\n",
    "           alpha=0.5, c=c[loc_assoc], cmap='seismic', \n",
    "           vmin=-cutoff, vmax=cutoff, **pp.umapprops)\n",
    "ax.set_title('CNA Associations')\n",
    "ax.axis('off')\n",
    "\n",
    "ax = ax3\n",
    "c=geneset_scores.PID_RAC1_PATHWAY.values\n",
    "c = c-np.mean(c)\n",
    "c = c/np.std(c)\n",
    "cutoff = np.max([-np.percentile(c, 10), np.percentile(c, 90)])\n",
    "ax.scatter(d.obsm['X_tsne'][:,0], d.obsm['X_tsne'][:,1],\n",
    "           alpha=0.5, c=c, cmap='seismic', \n",
    "           vmin=-cutoff, vmax=cutoff, **pp.umapprops)\n",
    "ax.text(0.65, 0.9, '$R = {:.2f}$'.format(0.63),\n",
    "        transform=ax.transAxes, fontsize=6, color=\"black\")\n",
    "ax.set_title('RAC1 Activation')\n",
    "ax.axis('off')\n",
    "\n",
    "colors = get_cmap(\"tab20_r\").colors\n",
    "plot_clust_hist(\"MS1\", res.ncorrs, ax4, d, res.fdr_5p_t, colors[11])\n",
    "plot_clust_hist(\"MS4\", res.ncorrs, ax5, d, res.fdr_5p_t, colors[15])\n",
    "plot_clust_hist(\"BS1\", res.ncorrs, ax6, d, res.fdr_5p_t, colors[5])\n",
    "plot_clust_hist(\"TS2\", res.ncorrs, ax7, d, res.fdr_5p_t, colors[1])\n",
    "\n",
    "c=d.obs['ncorrs']\n",
    "c = c-np.mean(c)\n",
    "c = c/np.std(c)\n",
    "cutoff = np.max([-np.percentile(c, 10), np.percentile(c, 90)])\n",
    "\n",
    "ax = ax8\n",
    "ax.axis('off')\n",
    "i_cluster = d.obs['cell_state']==\"MS1\"\n",
    "ax.set_xlim(-78, 20)\n",
    "ax.scatter(d.obsm['X_tsne'][i_cluster,0], d.obsm['X_tsne'][i_cluster,1],\n",
    "           alpha=0.5, c=c[i_cluster], \n",
    "           cmap = \"seismic\", vmin=-cutoff, vmax=cutoff, **pp.umapprops)\n",
    "#ax.scatter(ms1.obsm['X_umap'][:,0], ms1.obsm['X_umap'][:,1],\n",
    "#           alpha=0.5, c=c[np.where(d.obs['cell_state']==\"MS1\")[0]], \n",
    "#           cmap = \"seismic\", vmin=-cutoff, vmax=cutoff, **pp.umapprops)\n",
    "\n",
    "ax = ax9\n",
    "ax.axis('off')\n",
    "i_cluster = d.obs['cell_state']==\"MS4\"\n",
    "ax.set_xlim(-80, 40)\n",
    "ax.scatter(d.obsm['X_tsne'][i_cluster,0], d.obsm['X_tsne'][i_cluster,1],\n",
    "           alpha=0.5, c=c[i_cluster], \n",
    "           cmap = \"seismic\", vmin=-cutoff, vmax=cutoff, **pp.umapprops)\n",
    "ax = ax10\n",
    "ax.axis('off')\n",
    "i_cluster = d.obs['cell_state']==\"BS1\"\n",
    "ax.set_xlim(15, 65)\n",
    "ax.set_ylim(-68, -32)\n",
    "ax.scatter(d.obsm['X_tsne'][i_cluster,0], d.obsm['X_tsne'][i_cluster,1],\n",
    "           alpha=0.5, c=c[i_cluster], \n",
    "           cmap = \"seismic\", vmin=-cutoff, vmax=cutoff, **pp.umapprops)\n",
    "ax = ax11\n",
    "ax.axis('off')\n",
    "i_cluster = d.obs['cell_state']==\"TS2\"\n",
    "ax.set_xlim(-3, 85)\n",
    "ax.set_ylim(-43, 50)\n",
    "ax.scatter(d.obsm['X_tsne'][i_cluster,0], d.obsm['X_tsne'][i_cluster,1],\n",
    "           alpha=0.5, c=c[i_cluster], \n",
    "           cmap = \"seismic\", vmin=-cutoff, vmax=cutoff, **pp.umapprops)\n",
    "\n",
    "ax = ax1\n",
    "ax.axis('off')\n",
    "\n",
    "plt.tight_layout()\n",
    "plt.savefig('../_figs/rawmainfig.sepsis.pdf')"
   ]
  },
  {
   "cell_type": "code",
   "execution_count": null,
   "metadata": {},
   "outputs": [],
   "source": [
    "sc.settings.figdir = '../_figs/'"
   ]
  },
  {
   "cell_type": "code",
   "execution_count": null,
   "metadata": {},
   "outputs": [],
   "source": [
    "fig = plt.figure(figsize = (6,4))\n",
    "gs = fig.add_gridspec(nrows=9, ncols=12, \n",
    "                    wspace=0.5, hspace = 1)\n",
    "ax1 = fig.add_subplot(gs[0:4,0:4]) \n",
    "ax2 = fig.add_subplot(gs[0:4,4:8])\n",
    "ax3 = fig.add_subplot(gs[0:4,8:12])\n",
    "ax4 = fig.add_subplot(gs[4:6,0:3])\n",
    "ax5 = fig.add_subplot(gs[4:6,3:6])\n",
    "ax6 = fig.add_subplot(gs[4:6,6:9])\n",
    "ax7 = fig.add_subplot(gs[4:6,9:12])\n",
    "ax8 = fig.add_subplot(gs[6:9,0:3])\n",
    "ax9 = fig.add_subplot(gs[6:9,3:6])\n",
    "ax10 = fig.add_subplot(gs[6:9,6:9])\n",
    "ax11 = fig.add_subplot(gs[6:9,9:12])\n",
    "\n",
    "ax = ax2\n",
    "ax.axis(\"off\")\n",
    "\n",
    "ax = ax1\n",
    "ax.axis('off')\n",
    "sc.pl.tsne(d, color=['cell_state'], legend_loc='on data', \n",
    "           legend_fontsize = 5, title = \"Clusters\", ax = ax, palette = 'tab20_r', \n",
    "          save = \"rawmainfig.sepsis_tsne.pdf\")\n",
    "\n",
    "plt.tight_layout()"
   ]
  },
  {
   "cell_type": "markdown",
   "metadata": {},
   "source": [
    "## Read in results"
   ]
  },
  {
   "cell_type": "code",
   "execution_count": null,
   "metadata": {},
   "outputs": [],
   "source": [
    "sc.settings.verbosity = 3             # verbosity: errors (0), warnings (1), info (2), hints (3)\n",
    "sc.logging.print_header()\n",
    "sc.settings.set_figure_params(dpi=100, facecolor='white', figsize = (6, 6), fontsize = 16)"
   ]
  },
  {
   "cell_type": "code",
   "execution_count": null,
   "metadata": {},
   "outputs": [],
   "source": [
    "d = sc.read_h5ad(\"/data/srlab/jkang/cna_sepsis/9_Sepsis_CNA/d_anysepsis_author_preprocessing.h5ad\")"
   ]
  },
  {
   "cell_type": "code",
   "execution_count": null,
   "metadata": {},
   "outputs": [],
   "source": [
    "## Read in results\n",
    "pickle_off = open(\"/data/srlab/jkang/cna_sepsis/9_Sepsis_CNA/res_anysepsis_author_preprocessing.pickle\", 'rb')\n",
    "res = pickle.load(pickle_off)"
   ]
  },
  {
   "cell_type": "code",
   "execution_count": null,
   "metadata": {},
   "outputs": [],
   "source": [
    "## Save results for R analysis\n",
    "d.obs['tSNE1'] = d.obsm['X_tsne'][:,0]\n",
    "d.obs['tSNE2'] = d.obsm['X_tsne'][:,1]"
   ]
  },
  {
   "cell_type": "code",
   "execution_count": null,
   "metadata": {},
   "outputs": [],
   "source": [
    "dummy_df = pd.DataFrame(d.obs.loc[:,[\"id\", \"pheno\", \"cell_state\", \"ncorrs\",\n",
    "                                     \"negcells\", \"poscells\", \"tSNE1\", \"tSNE2\"]])\n",
    "dummy_df.to_csv(\"/data/srlab/lrumker/MCSC_Project/mcsc_scratch/sepsisres.csv\")"
   ]
  },
  {
   "cell_type": "markdown",
   "metadata": {},
   "source": [
    "### Optional:  Re-UMAP Cells within Clusters"
   ]
  },
  {
   "cell_type": "code",
   "execution_count": null,
   "metadata": {},
   "outputs": [],
   "source": [
    "## Independently run UMAP and color by per-cell score\n",
    "ms1 = d[d.obs['cell_state'] == 'MS1', :]\n",
    "np.random.seed(0) # for reproducibility\n",
    "print('computing and storing nearest neighbor graph')\n",
    "sc.pp.neighbors(ms1) # default parameters\n",
    "print('computing and storing umap')\n",
    "sc.tl.umap(ms1)\n",
    "\n",
    "## Independently run UMAP and color by per-cell score\n",
    "ms4 = d[d.obs['cell_state'] == 'MS4', :]\n",
    "np.random.seed(0) # for reproducibility\n",
    "print('computing and storing nearest neighbor graph')\n",
    "sc.pp.neighbors(ms4) # default parameters\n",
    "print('computing and storing umap')\n",
    "sc.tl.umap(ms4)"
   ]
  },
  {
   "cell_type": "code",
   "execution_count": null,
   "metadata": {},
   "outputs": [],
   "source": [
    "## Independently run UMAP and color by per-cell score\n",
    "ms4 = d[d.obs['cell_state'] == 'MS4', :]\n",
    "np.random.seed(0) # for reproducibility\n",
    "print('computing and storing nearest neighbor graph')\n",
    "sc.pp.neighbors(ms4) # default parameters\n",
    "print('computing and storing umap')\n",
    "sc.tl.umap(ms4)"
   ]
  },
  {
   "cell_type": "code",
   "execution_count": null,
   "metadata": {},
   "outputs": [],
   "source": [
    "## Independently run UMAP and color by per-cell score\n",
    "bs1 = d[d.obs['cell_state'] == 'BS1', :]\n",
    "np.random.seed(0) # for reproducibility\n",
    "print('computing and storing nearest neighbor graph')\n",
    "sc.pp.neighbors(bs1) # default parameters\n",
    "print('computing and storing umap')\n",
    "sc.tl.umap(bs1)"
   ]
  },
  {
   "cell_type": "code",
   "execution_count": null,
   "metadata": {},
   "outputs": [],
   "source": [
    "## Independently run UMAP and color by per-cell score\n",
    "ts2 = d[d.obs['cell_state'] == 'TS2', :]\n",
    "np.random.seed(0) # for reproducibility\n",
    "print('computing and storing nearest neighbor graph')\n",
    "sc.pp.neighbors(ts2) # default parameters\n",
    "print('computing and storing umap')\n",
    "sc.tl.umap(ts2)"
   ]
  }
 ],
 "metadata": {
  "kernelspec": {
   "display_name": "Python 3",
   "language": "python",
   "name": "python3"
  },
  "language_info": {
   "codemirror_mode": {
    "name": "ipython",
    "version": 3
   },
   "file_extension": ".py",
   "mimetype": "text/x-python",
   "name": "python",
   "nbconvert_exporter": "python",
   "pygments_lexer": "ipython3",
   "version": "3.7.6"
  },
  "toc-autonumbering": true
 },
 "nbformat": 4,
 "nbformat_minor": 4
}
