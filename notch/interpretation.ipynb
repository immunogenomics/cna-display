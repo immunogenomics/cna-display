{
 "cells": [
  {
   "cell_type": "markdown",
   "metadata": {},
   "source": [
    "# RA-Notch Interpretation Notebook"
   ]
  },
  {
   "cell_type": "markdown",
   "metadata": {},
   "source": [
    "### Load Notch Results"
   ]
  },
  {
   "cell_type": "code",
   "execution_count": 1,
   "metadata": {},
   "outputs": [],
   "source": [
    "notch_data = readRDS('/data/srlab/lrumker/MCSC_Project/notch/analysis_sc_tissue.rds')\n",
    "\n",
    "cna_res = read.csv(\"/data/srlab/lrumker/MCSC_Project/notch/notch_cna_res.txt\")\n",
    "\n",
    "nampcs = read.csv(\"/data/srlab/lrumker/MCSC_Project/notch/notch_cna_NAM_PCs.txt\")"
   ]
  },
  {
   "cell_type": "code",
   "execution_count": 3,
   "metadata": {},
   "outputs": [],
   "source": [
    "gene_expr = notch_data[['exprs_norm']][,match(cna_res$cell_id,colnames(notch_data[['exprs_norm']]))]"
   ]
  },
  {
   "cell_type": "code",
   "execution_count": 4,
   "metadata": {},
   "outputs": [
    {
     "data": {
      "text/html": [
       "TRUE"
      ],
      "text/latex": [
       "TRUE"
      ],
      "text/markdown": [
       "TRUE"
      ],
      "text/plain": [
       "[1] TRUE"
      ]
     },
     "metadata": {},
     "output_type": "display_data"
    }
   ],
   "source": [
    "# Confirm cell order matches\n",
    "sum(cna_res$cell_id==colnames(gene_expr))==dim(gene_expr)[2]"
   ]
  },
  {
   "cell_type": "code",
   "execution_count": 5,
   "metadata": {},
   "outputs": [
    {
     "data": {
      "text/html": [
       "-1"
      ],
      "text/latex": [
       "-1"
      ],
      "text/markdown": [
       "-1"
      ],
      "text/plain": [
       "[1] -1"
      ]
     },
     "metadata": {},
     "output_type": "display_data"
    }
   ],
   "source": [
    "# Confirm NAM PC1 and neighborhood correlations are perfectly correlated,\n",
    "# since only one NAM PC included in the model\n",
    "cor(cna_res$ncorrs, nampcs$PC1)"
   ]
  },
  {
   "cell_type": "markdown",
   "metadata": {},
   "source": [
    "### Compute Gene Correlations"
   ]
  },
  {
   "cell_type": "code",
   "execution_count": 6,
   "metadata": {},
   "outputs": [],
   "source": [
    "# Examine correlations only with variable genes\n",
    "n_var_genes = 5000\n",
    "gene_sds = apply(gene_expr, 1, FUN = sd)\n",
    "gene_sds = gene_sds[order(gene_sds, decreasing = TRUE)]"
   ]
  },
  {
   "cell_type": "code",
   "execution_count": 7,
   "metadata": {},
   "outputs": [],
   "source": [
    "var_genes = names(gene_sds)\n",
    "var_gene_expr = gene_expr[match(var_genes, rownames(gene_expr)),]"
   ]
  },
  {
   "cell_type": "code",
   "execution_count": 30,
   "metadata": {},
   "outputs": [],
   "source": [
    "#cna_scores = cna_res$ncorrs\n",
    "#cna_scores = cna_res$score_notch\n",
    "#cna_scores = cna_res$time\n",
    "cna_scores = nampcs$PC1"
   ]
  },
  {
   "cell_type": "code",
   "execution_count": 31,
   "metadata": {},
   "outputs": [
    {
     "name": "stderr",
     "output_type": "stream",
     "text": [
      "Warning message in cor(t(as.matrix(var_gene_expr)), cna_scores):\n",
      "“the standard deviation is zero”\n"
     ]
    }
   ],
   "source": [
    "corrs = cor(t(as.matrix(var_gene_expr)), cna_scores)\n",
    "names(corrs) = var_genes"
   ]
  },
  {
   "cell_type": "code",
   "execution_count": 32,
   "metadata": {},
   "outputs": [],
   "source": [
    "quanitfy_correlation <-function(sel_gene, expr_mat, ncorrs){\n",
    "    my_expr = expr_mat[match(sel_gene, rownames(expr_mat)),]\n",
    "    my_data = data.frame(ncorrs, my_expr)\n",
    "    colnames(my_data) = c(\"corrs\", \"expr\")\n",
    "    new_summary = summary(lm(corrs ~ expr, data = my_data))\n",
    "    new_p = new_summary$coefficients[2,4]\n",
    "    new_coeff = new_summary$coefficients[2,1]\n",
    "    new_corr = cor(my_expr, ncorrs)\n",
    "    return(c(new_corr, new_p))\n",
    "}"
   ]
  },
  {
   "cell_type": "markdown",
   "metadata": {},
   "source": [
    "### Most highly correlated genes"
   ]
  },
  {
   "cell_type": "code",
   "execution_count": 33,
   "metadata": {},
   "outputs": [],
   "source": [
    "corrs = corrs[order(corrs, decreasing = FALSE)]"
   ]
  },
  {
   "cell_type": "code",
   "execution_count": 34,
   "metadata": {},
   "outputs": [
    {
     "data": {
      "text/html": [
       "<style>\n",
       ".dl-inline {width: auto; margin:0; padding: 0}\n",
       ".dl-inline>dt, .dl-inline>dd {float: none; width: auto; display: inline-block}\n",
       ".dl-inline>dt::after {content: \":\\0020\"; padding-right: .5ex}\n",
       ".dl-inline>dt:not(:first-of-type) {padding-left: .5ex}\n",
       "</style><dl class=dl-inline><dt>MMP2</dt><dd>-0.669586052590971</dd><dt>COL1A1</dt><dd>-0.662064802698434</dd><dt>SERPINF1</dt><dd>-0.658331838589745</dd><dt>DCN</dt><dd>-0.650881310516565</dd><dt>TMSB10</dt><dd>-0.622199116015722</dd></dl>\n"
      ],
      "text/latex": [
       "\\begin{description*}\n",
       "\\item[MMP2] -0.669586052590971\n",
       "\\item[COL1A1] -0.662064802698434\n",
       "\\item[SERPINF1] -0.658331838589745\n",
       "\\item[DCN] -0.650881310516565\n",
       "\\item[TMSB10] -0.622199116015722\n",
       "\\end{description*}\n"
      ],
      "text/markdown": [
       "MMP2\n",
       ":   -0.669586052590971COL1A1\n",
       ":   -0.662064802698434SERPINF1\n",
       ":   -0.658331838589745DCN\n",
       ":   -0.650881310516565TMSB10\n",
       ":   -0.622199116015722\n",
       "\n"
      ],
      "text/plain": [
       "      MMP2     COL1A1   SERPINF1        DCN     TMSB10 \n",
       "-0.6695861 -0.6620648 -0.6583318 -0.6508813 -0.6221991 "
      ]
     },
     "metadata": {},
     "output_type": "display_data"
    }
   ],
   "source": [
    "corrs[1:5]"
   ]
  },
  {
   "cell_type": "code",
   "execution_count": 35,
   "metadata": {},
   "outputs": [
    {
     "data": {
      "text/html": [
       "<style>\n",
       ".list-inline {list-style: none; margin:0; padding: 0}\n",
       ".list-inline>li {display: inline-block}\n",
       ".list-inline>li:not(:last-child)::after {content: \"\\00b7\"; padding: 0 .5ex}\n",
       "</style>\n",
       "<ol class=list-inline><li>0.789141945936145</li><li>0</li></ol>\n"
      ],
      "text/latex": [
       "\\begin{enumerate*}\n",
       "\\item 0.789141945936145\n",
       "\\item 0\n",
       "\\end{enumerate*}\n"
      ],
      "text/markdown": [
       "1. 0.789141945936145\n",
       "2. 0\n",
       "\n",
       "\n"
      ],
      "text/plain": [
       "[1] 0.7891419 0.0000000"
      ]
     },
     "metadata": {},
     "output_type": "display_data"
    }
   ],
   "source": [
    "quanitfy_correlation(\"PRG4\", var_gene_expr, cna_scores)"
   ]
  },
  {
   "cell_type": "code",
   "execution_count": 36,
   "metadata": {},
   "outputs": [
    {
     "data": {
      "text/html": [
       "<style>\n",
       ".list-inline {list-style: none; margin:0; padding: 0}\n",
       ".list-inline>li {display: inline-block}\n",
       ".list-inline>li:not(:last-child)::after {content: \"\\00b7\"; padding: 0 .5ex}\n",
       "</style>\n",
       "<ol class=list-inline><li>0.719115669825508</li><li>0</li></ol>\n"
      ],
      "text/latex": [
       "\\begin{enumerate*}\n",
       "\\item 0.719115669825508\n",
       "\\item 0\n",
       "\\end{enumerate*}\n"
      ],
      "text/markdown": [
       "1. 0.719115669825508\n",
       "2. 0\n",
       "\n",
       "\n"
      ],
      "text/plain": [
       "[1] 0.7191157 0.0000000"
      ]
     },
     "metadata": {},
     "output_type": "display_data"
    }
   ],
   "source": [
    "quanitfy_correlation(\"FN1\", var_gene_expr, cna_scores)"
   ]
  },
  {
   "cell_type": "markdown",
   "metadata": {},
   "source": [
    "### Load Genesets"
   ]
  },
  {
   "cell_type": "code",
   "execution_count": null,
   "metadata": {},
   "outputs": [],
   "source": [
    "rankList = corrs"
   ]
  },
  {
   "cell_type": "code",
   "execution_count": null,
   "metadata": {},
   "outputs": [],
   "source": [
    "library(fgsea)\n",
    "library(GSA)"
   ]
  },
  {
   "cell_type": "code",
   "execution_count": null,
   "metadata": {},
   "outputs": [],
   "source": [
    "geneset_files = c(\"/data/srlab/lrumker/MSigDB_Sets/c7.all.v7.0.symbols.gmt.txt\", #Cannonical\n",
    "\"/data/srlab/lrumker/MSigDB_Sets/h.all.v7.0.symbols.gmt.txt\", #Hallmark\n",
    "\"/data/srlab/lrumker/MSigDB_Sets/c2.all.v7.0.symbols.gmt.txt\") #Immune"
   ]
  },
  {
   "cell_type": "code",
   "execution_count": null,
   "metadata": {},
   "outputs": [],
   "source": [
    "GeneSet_SizeBound_Upper = 500 # Maximum gene set size considered\n",
    "GeneSet_SizeBound_Lower = 0 # Minimum gene set size considered"
   ]
  },
  {
   "cell_type": "code",
   "execution_count": null,
   "metadata": {},
   "outputs": [],
   "source": [
    "parseGeneSetGMT <-function(filepath, known_genes, sizeBound_Upper, sizeBound_Lower){\n",
    "  Gene_Sets_DB = GSA.read.gmt(filepath)\n",
    "  GeneSet_sizes = sapply(Gene_Sets_DB$genesets,length)\n",
    "  recognized_genes = matrix(NA, nrow=length(GeneSet_sizes), ncol = max(GeneSet_sizes))\n",
    "  for(i in c(1:length(GeneSet_sizes))){\n",
    "    recognized_genes[i,c(1:GeneSet_sizes[i])] = Gene_Sets_DB$genesets[[i]]\n",
    "  }\n",
    "  recognized_genes = matrix(is.element(recognized_genes, known_genes), ncol = ncol(recognized_genes))\n",
    "  GeneSet_sizes = apply(recognized_genes, 1, sum)\n",
    "  retain_GeneSet = (GeneSet_sizes>=sizeBound_Lower)&(GeneSet_sizes<=sizeBound_Upper)\n",
    "  Gene_Sets_DB$genesets = Gene_Sets_DB$genesets[retain_GeneSet]\n",
    "  Gene_Sets_DB$geneset.names = Gene_Sets_DB$geneset.names[retain_GeneSet]\n",
    "  Gene_Sets_DB$geneset.descriptions = Gene_Sets_DB$geneset.descriptions[retain_GeneSet]\n",
    "  Gene_Sets_DB$geneset.sizes = GeneSet_sizes[retain_GeneSet]\n",
    "  return(Gene_Sets_DB)\n",
    "}"
   ]
  },
  {
   "cell_type": "code",
   "execution_count": null,
   "metadata": {},
   "outputs": [],
   "source": [
    "i_file = 3\n",
    "Gene_Sets_DB = parseGeneSetGMT(geneset_files[i_file], names(rankList), GeneSet_SizeBound_Upper,\n",
    "                               GeneSet_SizeBound_Lower)\n",
    "input_genesets = Gene_Sets_DB$genesets\n",
    "names(input_genesets) = Gene_Sets_DB$geneset.names"
   ]
  },
  {
   "cell_type": "code",
   "execution_count": null,
   "metadata": {},
   "outputs": [],
   "source": [
    "# Examine presence of relevant genesets\n",
    "names(input_genesets)[grep(\"NOTCH\", names(input_genesets))]"
   ]
  },
  {
   "cell_type": "markdown",
   "metadata": {},
   "source": [
    "### Conduct geneset enrichment analysis"
   ]
  },
  {
   "cell_type": "code",
   "execution_count": null,
   "metadata": {},
   "outputs": [],
   "source": [
    "FGSEA_output = fgsea(input_genesets, rankList, nperm=10000, \n",
    "                         minSize = 15, maxSize = 500, nproc = 0,\n",
    "                         gseaParam = 1, BPPARAM = NULL)\n",
    "FGSEA_output = FGSEA_output[order(FGSEA_output$padj),]"
   ]
  },
  {
   "cell_type": "code",
   "execution_count": null,
   "metadata": {},
   "outputs": [],
   "source": [
    "FGSEA_output_sig = FGSEA_output[which(FGSEA_output$padj<0.05),]\n",
    "FGSEA_output_sig[c(1:5),c(1:3)]"
   ]
  },
  {
   "cell_type": "code",
   "execution_count": null,
   "metadata": {},
   "outputs": [],
   "source": [
    "FGSEA_output_sig[grep(\"NOTCH\", FGSEA_output_sig$pathway),c(1,3)]"
   ]
  }
 ],
 "metadata": {
  "kernelspec": {
   "display_name": "R",
   "language": "R",
   "name": "ir"
  },
  "language_info": {
   "codemirror_mode": "r",
   "file_extension": ".r",
   "mimetype": "text/x-r-source",
   "name": "R",
   "pygments_lexer": "r",
   "version": "3.6.1"
  }
 },
 "nbformat": 4,
 "nbformat_minor": 4
}
