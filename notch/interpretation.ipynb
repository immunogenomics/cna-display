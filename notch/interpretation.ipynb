{
 "cells": [
  {
   "cell_type": "markdown",
   "metadata": {},
   "source": [
    "# RA-Notch Interpretation Notebook"
   ]
  },
  {
   "cell_type": "markdown",
   "metadata": {},
   "source": [
    "### Load Notch Results"
   ]
  },
  {
   "cell_type": "code",
   "execution_count": null,
   "metadata": {},
   "outputs": [],
   "source": [
    "notch_data = readRDS('/data/srlab/lrumker/MCSC_Project/notch/analysis_sc_tissue.rds')\n",
    "\n",
    "cna_res = read.csv(\"/data/srlab/lrumker/MCSC_Project/notch/notch_cna_res.txt\")\n",
    "\n",
    "nampcs = read.csv(\"/data/srlab/lrumker/MCSC_Project/notch/notch_cna_NAM_PCs.txt\")"
   ]
  },
  {
   "cell_type": "code",
   "execution_count": null,
   "metadata": {},
   "outputs": [],
   "source": [
    "gene_expr = notch_data[['exprs_norm']][,match(cna_res$cell_id,colnames(notch_data[['exprs_norm']]))]"
   ]
  },
  {
   "cell_type": "code",
   "execution_count": null,
   "metadata": {},
   "outputs": [],
   "source": [
    "# Confirm cell order matches\n",
    "sum(cna_res$cell_id==colnames(gene_expr))==dim(gene_expr)[2]"
   ]
  },
  {
   "cell_type": "code",
   "execution_count": null,
   "metadata": {},
   "outputs": [],
   "source": [
    "# Confirm NAM PC1 and neighborhood correlations are perfectly correlated,\n",
    "# since only one NAM PC included in the model\n",
    "cor(cna_res$ncorrs, nampcs$PC1)"
   ]
  },
  {
   "cell_type": "markdown",
   "metadata": {},
   "source": [
    "### Compute Gene Correlations"
   ]
  },
  {
   "cell_type": "code",
   "execution_count": null,
   "metadata": {},
   "outputs": [],
   "source": [
    "# Examine correlations only with variable genes\n",
    "n_var_genes = 5000\n",
    "gene_sds = apply(gene_expr, 1, FUN = sd)\n",
    "gene_sds = gene_sds[order(gene_sds, decreasing = TRUE)]"
   ]
  },
  {
   "cell_type": "code",
   "execution_count": null,
   "metadata": {},
   "outputs": [],
   "source": [
    "var_genes = names(gene_sds)\n",
    "var_gene_expr = gene_expr[match(var_genes, rownames(gene_expr)),]"
   ]
  },
  {
   "cell_type": "code",
   "execution_count": null,
   "metadata": {},
   "outputs": [],
   "source": [
    "#cna_scores = cna_res$ncorrs\n",
    "#cna_scores = cna_res$score_notch\n",
    "#cna_scores = cna_res$time\n",
    "cna_scores = nampcs$PC1"
   ]
  },
  {
   "cell_type": "code",
   "execution_count": null,
   "metadata": {},
   "outputs": [],
   "source": [
    "corrs = cor(t(as.matrix(var_gene_expr)), cna_scores)\n",
    "names(corrs) = var_genes"
   ]
  },
  {
   "cell_type": "code",
   "execution_count": null,
   "metadata": {},
   "outputs": [],
   "source": [
    "rankList = corrs"
   ]
  },
  {
   "cell_type": "markdown",
   "metadata": {},
   "source": [
    "### Most highly correlated genes"
   ]
  },
  {
   "cell_type": "code",
   "execution_count": null,
   "metadata": {},
   "outputs": [],
   "source": [
    "corrs[order(corrs, decreasing = TRUE)][c(1:10)]"
   ]
  },
  {
   "cell_type": "markdown",
   "metadata": {},
   "source": [
    "### Load Genesets"
   ]
  },
  {
   "cell_type": "code",
   "execution_count": null,
   "metadata": {},
   "outputs": [],
   "source": [
    "library(fgsea)\n",
    "library(GSA)"
   ]
  },
  {
   "cell_type": "code",
   "execution_count": null,
   "metadata": {},
   "outputs": [],
   "source": [
    "geneset_files = c(\"/data/srlab/lrumker/MSigDB_Sets/c7.all.v7.0.symbols.gmt.txt\", #Cannonical\n",
    "\"/data/srlab/lrumker/MSigDB_Sets/h.all.v7.0.symbols.gmt.txt\", #Hallmark\n",
    "\"/data/srlab/lrumker/MSigDB_Sets/c2.all.v7.0.symbols.gmt.txt\") #Immune"
   ]
  },
  {
   "cell_type": "code",
   "execution_count": null,
   "metadata": {},
   "outputs": [],
   "source": [
    "GeneSet_SizeBound_Upper = 500 # Maximum gene set size considered\n",
    "GeneSet_SizeBound_Lower = 0 # Minimum gene set size considered"
   ]
  },
  {
   "cell_type": "code",
   "execution_count": null,
   "metadata": {},
   "outputs": [],
   "source": [
    "parseGeneSetGMT <-function(filepath, known_genes, sizeBound_Upper, sizeBound_Lower){\n",
    "  Gene_Sets_DB = GSA.read.gmt(filepath)\n",
    "  GeneSet_sizes = sapply(Gene_Sets_DB$genesets,length)\n",
    "  recognized_genes = matrix(NA, nrow=length(GeneSet_sizes), ncol = max(GeneSet_sizes))\n",
    "  for(i in c(1:length(GeneSet_sizes))){\n",
    "    recognized_genes[i,c(1:GeneSet_sizes[i])] = Gene_Sets_DB$genesets[[i]]\n",
    "  }\n",
    "  recognized_genes = matrix(is.element(recognized_genes, known_genes), ncol = ncol(recognized_genes))\n",
    "  GeneSet_sizes = apply(recognized_genes, 1, sum)\n",
    "  retain_GeneSet = (GeneSet_sizes>=sizeBound_Lower)&(GeneSet_sizes<=sizeBound_Upper)\n",
    "  Gene_Sets_DB$genesets = Gene_Sets_DB$genesets[retain_GeneSet]\n",
    "  Gene_Sets_DB$geneset.names = Gene_Sets_DB$geneset.names[retain_GeneSet]\n",
    "  Gene_Sets_DB$geneset.descriptions = Gene_Sets_DB$geneset.descriptions[retain_GeneSet]\n",
    "  Gene_Sets_DB$geneset.sizes = GeneSet_sizes[retain_GeneSet]\n",
    "  return(Gene_Sets_DB)\n",
    "}"
   ]
  },
  {
   "cell_type": "code",
   "execution_count": null,
   "metadata": {},
   "outputs": [],
   "source": [
    "i_file = 3\n",
    "Gene_Sets_DB = parseGeneSetGMT(geneset_files[i_file], names(rankList), GeneSet_SizeBound_Upper,\n",
    "                               GeneSet_SizeBound_Lower)\n",
    "input_genesets = Gene_Sets_DB$genesets\n",
    "names(input_genesets) = Gene_Sets_DB$geneset.names"
   ]
  },
  {
   "cell_type": "code",
   "execution_count": null,
   "metadata": {},
   "outputs": [],
   "source": [
    "# Examine presence of relevant genesets\n",
    "names(input_genesets)[grep(\"NOTCH\", names(input_genesets))]"
   ]
  },
  {
   "cell_type": "markdown",
   "metadata": {},
   "source": [
    "### Conduct geneset enrichment analysis"
   ]
  },
  {
   "cell_type": "code",
   "execution_count": null,
   "metadata": {},
   "outputs": [],
   "source": [
    "FGSEA_output = fgsea(input_genesets, rankList, nperm=10000, \n",
    "                         minSize = 15, maxSize = 500, nproc = 0,\n",
    "                         gseaParam = 1, BPPARAM = NULL)\n",
    "FGSEA_output = FGSEA_output[order(FGSEA_output$padj),]"
   ]
  },
  {
   "cell_type": "code",
   "execution_count": null,
   "metadata": {},
   "outputs": [],
   "source": [
    "FGSEA_output_sig = FGSEA_output[which(FGSEA_output$padj<0.05),]\n",
    "FGSEA_output_sig[c(1:5),c(1:3)]"
   ]
  },
  {
   "cell_type": "code",
   "execution_count": null,
   "metadata": {},
   "outputs": [],
   "source": [
    "FGSEA_output_sig[grep(\"NOTCH\", FGSEA_output_sig$pathway),c(1,3)]"
   ]
  }
 ],
 "metadata": {
  "kernelspec": {
   "display_name": "R",
   "language": "R",
   "name": "ir"
  },
  "language_info": {
   "codemirror_mode": "r",
   "file_extension": ".r",
   "mimetype": "text/x-r-source",
   "name": "R",
   "pygments_lexer": "r",
   "version": "3.6.1"
  }
 },
 "nbformat": 4,
 "nbformat_minor": 4
}
