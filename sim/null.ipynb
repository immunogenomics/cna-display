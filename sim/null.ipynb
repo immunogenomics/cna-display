{
 "cells": [
  {
   "cell_type": "code",
   "execution_count": 2,
   "metadata": {
    "Collapsed": "false"
   },
   "outputs": [],
   "source": [
    "import pandas as pd\n",
    "import numpy as np\n",
    "import matplotlib.pyplot as plt\n",
    "import os, warnings, pickle, glob\n",
    "from statutils import vis\n",
    "import params_plot, params_file"
   ]
  },
  {
   "cell_type": "code",
   "execution_count": 14,
   "metadata": {
    "Collapsed": "false"
   },
   "outputs": [],
   "source": [
    "dset = 'harmcca20'\n",
    "methods = [\n",
    "    'CNAfast',\n",
    "    'MASC_leiden0p2',\n",
    "    'MASC_leiden1',\n",
    "    'MASC_leiden2',\n",
    "    'MASC_leiden5',\n",
    "]"
   ]
  },
  {
   "cell_type": "code",
   "execution_count": 15,
   "metadata": {
    "Collapsed": "false"
   },
   "outputs": [],
   "source": [
    "def read(simname):\n",
    "    df = pd.DataFrame()\n",
    "\n",
    "    folder = params_file.simresults(dset, simname)\n",
    "    for m in methods:\n",
    "        rs = [\n",
    "                pickle.load(open(f, 'rb'))\n",
    "                for f in glob.glob('{}/{}/*.p'.format(folder, m))\n",
    "            ]\n",
    "        rs = pd.DataFrame({\n",
    "            'id':[r.id for r in rs],\n",
    "            'p':[r.p for r in rs],\n",
    "            'interp':[r.interp for r in rs],\n",
    "            'pheno':[r.pheno for r in rs],\n",
    "            'method':[m for r in rs]\n",
    "        })\n",
    "        df = df.append(rs, ignore_index=True)\n",
    "    return df\n",
    "\n",
    "def aggregate(df):\n",
    "    return df[['id','method','p','interp']].pivot(index='id', columns='method')"
   ]
  },
  {
   "cell_type": "code",
   "execution_count": 16,
   "metadata": {
    "Collapsed": "false"
   },
   "outputs": [
    {
     "name": "stdout",
     "output_type": "stream",
     "text": [
      "null_vanilla\n"
     ]
    },
    {
     "ename": "NameError",
     "evalue": "name 'qqprops' is not defined",
     "output_type": "error",
     "traceback": [
      "\u001b[0;31m---------------------------------------------------------------------------\u001b[0m",
      "\u001b[0;31mNameError\u001b[0m                                 Traceback (most recent call last)",
      "\u001b[0;32m<ipython-input-16-54708a5df317>\u001b[0m in \u001b[0;36m<module>\u001b[0;34m\u001b[0m\n\u001b[1;32m      7\u001b[0m     \u001b[0mresults\u001b[0m \u001b[0;34m=\u001b[0m \u001b[0maggregate\u001b[0m\u001b[0;34m(\u001b[0m\u001b[0mdf\u001b[0m\u001b[0;34m)\u001b[0m\u001b[0;34m\u001b[0m\u001b[0;34m\u001b[0m\u001b[0m\n\u001b[1;32m      8\u001b[0m     \u001b[0mt1e\u001b[0m\u001b[0;34m,\u001b[0m \u001b[0mci\u001b[0m \u001b[0;34m=\u001b[0m \u001b[0;34m(\u001b[0m\u001b[0mresults\u001b[0m\u001b[0;34m.\u001b[0m\u001b[0mp\u001b[0m\u001b[0;34m.\u001b[0m\u001b[0mCNAfast\u001b[0m \u001b[0;34m<=\u001b[0m \u001b[0;36m0.05\u001b[0m\u001b[0;34m)\u001b[0m\u001b[0;34m.\u001b[0m\u001b[0mmean\u001b[0m\u001b[0;34m(\u001b[0m\u001b[0;34m)\u001b[0m\u001b[0;34m,\u001b[0m \u001b[0;36m2\u001b[0m\u001b[0;34m*\u001b[0m\u001b[0;34m(\u001b[0m\u001b[0mresults\u001b[0m\u001b[0;34m.\u001b[0m\u001b[0mp\u001b[0m\u001b[0;34m.\u001b[0m\u001b[0mCNAfast\u001b[0m \u001b[0;34m<=\u001b[0m \u001b[0;36m0.05\u001b[0m\u001b[0;34m)\u001b[0m\u001b[0;34m.\u001b[0m\u001b[0mstd\u001b[0m\u001b[0;34m(\u001b[0m\u001b[0;34m)\u001b[0m\u001b[0;34m/\u001b[0m\u001b[0mnp\u001b[0m\u001b[0;34m.\u001b[0m\u001b[0msqrt\u001b[0m\u001b[0;34m(\u001b[0m\u001b[0mlen\u001b[0m\u001b[0;34m(\u001b[0m\u001b[0mresults\u001b[0m\u001b[0;34m)\u001b[0m\u001b[0;34m)\u001b[0m\u001b[0;34m\u001b[0m\u001b[0;34m\u001b[0m\u001b[0m\n\u001b[0;32m----> 9\u001b[0;31m     \u001b[0mvis\u001b[0m\u001b[0;34m.\u001b[0m\u001b[0mqqplot\u001b[0m\u001b[0;34m(\u001b[0m\u001b[0mresults\u001b[0m\u001b[0;34m.\u001b[0m\u001b[0mp\u001b[0m\u001b[0;34m.\u001b[0m\u001b[0mCNAfast\u001b[0m\u001b[0;34m,\u001b[0m \u001b[0merrorbars\u001b[0m\u001b[0;34m=\u001b[0m\u001b[0;32mTrue\u001b[0m\u001b[0;34m,\u001b[0m \u001b[0max\u001b[0m\u001b[0;34m=\u001b[0m\u001b[0max\u001b[0m\u001b[0;34m,\u001b[0m \u001b[0;34m**\u001b[0m\u001b[0mqqprops\u001b[0m\u001b[0;34m)\u001b[0m\u001b[0;34m\u001b[0m\u001b[0;34m\u001b[0m\u001b[0m\n\u001b[0m\u001b[1;32m     10\u001b[0m     ax.text(0.25, 3.5, 'type I error at $\\\\alpha=0.05$:\\n{:.3f} $\\\\pm$ {:.3f}'.format(t1e, ci),\n\u001b[1;32m     11\u001b[0m         fontsize=labelfontsize, color='b')\n",
      "\u001b[0;31mNameError\u001b[0m: name 'qqprops' is not defined"
     ]
    },
    {
     "data": {
      "image/png": "[encoded data removed]",
      "text/plain": [
       "<Figure size 360x180 with 2 Axes>"
      ]
     },
     "metadata": {
      "needs_background": "light"
     },
     "output_type": "display_data"
    }
   ],
   "source": [
    "fig, axs = plt.subplots(1,2, figsize=(5,2.5))\n",
    "\n",
    "for i, simname in enumerate(['null_vanilla', 'null_batch']):\n",
    "    ax = axs[i]\n",
    "    print(simname)\n",
    "    df = read(simname)\n",
    "    results = aggregate(df)\n",
    "    t1e, ci = (results.p.CNAfast <= 0.05).mean(), 2*(results.p.CNAfast <= 0.05).std()/np.sqrt(len(results))\n",
    "    vis.qqplot(results.p.CNAfast, errorbars=True, ax=ax, **qqprops)\n",
    "    ax.text(0.25, 3.5, 'type I error at $\\\\alpha=0.05$:\\n{:.3f} $\\\\pm$ {:.3f}'.format(t1e, ci),\n",
    "        fontsize=labelfontsize, color='b')\n",
    "    ax.tick_params(**tickprops)\n",
    "plt.tight_layout()\n",
    "plt.savefig('suppfig.null.pdf')"
   ]
  },
  {
   "cell_type": "code",
   "execution_count": null,
   "metadata": {},
   "outputs": [],
   "source": []
  }
 ],
 "metadata": {
  "kernelspec": {
   "display_name": "Python 3",
   "language": "python",
   "name": "python3"
  },
  "language_info": {
   "codemirror_mode": {
    "name": "ipython",
    "version": 3
   },
   "file_extension": ".py",
   "mimetype": "text/x-python",
   "name": "python",
   "nbconvert_exporter": "python",
   "pygments_lexer": "ipython3",
   "version": "3.7.3"
  }
 },
 "nbformat": 4,
 "nbformat_minor": 4
}
